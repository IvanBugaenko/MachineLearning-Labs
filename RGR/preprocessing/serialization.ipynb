{
 "cells": [
  {
   "cell_type": "code",
   "execution_count": 24,
   "metadata": {},
   "outputs": [],
   "source": [
    "from pathlib import Path\n",
    "import os\n",
    "import sys\n",
    "\n",
    "sys.path.append(str(Path(os.getcwd()).parent))"
   ]
  },
  {
   "cell_type": "code",
   "execution_count": 25,
   "metadata": {},
   "outputs": [],
   "source": [
    "import pandas as pd\n",
    "import numpy as np\n",
    "import tensorflow as tf\n",
    "from imblearn.under_sampling import RandomUnderSampler\n",
    "from sklearn.pipeline import Pipeline\n",
    "from sklearn.model_selection import train_test_split, GridSearchCV\n",
    "from sklearn.preprocessing import StandardScaler\n",
    "from sklearn.neighbors import KNeighborsClassifier\n",
    "from sklearn.ensemble import BaggingClassifier"
   ]
  },
  {
   "cell_type": "code",
   "execution_count": 26,
   "metadata": {},
   "outputs": [],
   "source": [
    "from sklearn.metrics import classification_report"
   ]
  },
  {
   "cell_type": "code",
   "execution_count": 27,
   "metadata": {},
   "outputs": [],
   "source": [
    "from sklearn.linear_model import LogisticRegression"
   ]
  },
  {
   "cell_type": "code",
   "execution_count": 28,
   "metadata": {},
   "outputs": [
    {
     "data": {
      "text/html": [
       "<div>\n",
       "<style scoped>\n",
       "    .dataframe tbody tr th:only-of-type {\n",
       "        vertical-align: middle;\n",
       "    }\n",
       "\n",
       "    .dataframe tbody tr th {\n",
       "        vertical-align: top;\n",
       "    }\n",
       "\n",
       "    .dataframe thead th {\n",
       "        text-align: right;\n",
       "    }\n",
       "</style>\n",
       "<table border=\"1\" class=\"dataframe\">\n",
       "  <thead>\n",
       "    <tr style=\"text-align: right;\">\n",
       "      <th></th>\n",
       "      <th>est_diameter_min</th>\n",
       "      <th>est_diameter_max</th>\n",
       "      <th>relative_velocity</th>\n",
       "      <th>miss_distance</th>\n",
       "      <th>absolute_magnitude</th>\n",
       "      <th>hazardous</th>\n",
       "    </tr>\n",
       "  </thead>\n",
       "  <tbody>\n",
       "    <tr>\n",
       "      <th>0</th>\n",
       "      <td>0.016016</td>\n",
       "      <td>0.035813</td>\n",
       "      <td>56014.078517</td>\n",
       "      <td>1.024333e+06</td>\n",
       "      <td>26.1</td>\n",
       "      <td>False</td>\n",
       "    </tr>\n",
       "    <tr>\n",
       "      <th>1</th>\n",
       "      <td>0.030518</td>\n",
       "      <td>0.068240</td>\n",
       "      <td>7864.348060</td>\n",
       "      <td>3.268186e+07</td>\n",
       "      <td>24.7</td>\n",
       "      <td>False</td>\n",
       "    </tr>\n",
       "    <tr>\n",
       "      <th>2</th>\n",
       "      <td>0.055533</td>\n",
       "      <td>0.124177</td>\n",
       "      <td>55257.544508</td>\n",
       "      <td>6.538636e+07</td>\n",
       "      <td>23.4</td>\n",
       "      <td>False</td>\n",
       "    </tr>\n",
       "    <tr>\n",
       "      <th>3</th>\n",
       "      <td>0.019256</td>\n",
       "      <td>0.043057</td>\n",
       "      <td>41531.404722</td>\n",
       "      <td>1.260796e+07</td>\n",
       "      <td>25.7</td>\n",
       "      <td>False</td>\n",
       "    </tr>\n",
       "    <tr>\n",
       "      <th>4</th>\n",
       "      <td>0.139494</td>\n",
       "      <td>0.311918</td>\n",
       "      <td>67639.394481</td>\n",
       "      <td>7.130590e+07</td>\n",
       "      <td>21.4</td>\n",
       "      <td>False</td>\n",
       "    </tr>\n",
       "  </tbody>\n",
       "</table>\n",
       "</div>"
      ],
      "text/plain": [
       "   est_diameter_min  est_diameter_max  relative_velocity  miss_distance  \\\n",
       "0          0.016016          0.035813       56014.078517   1.024333e+06   \n",
       "1          0.030518          0.068240        7864.348060   3.268186e+07   \n",
       "2          0.055533          0.124177       55257.544508   6.538636e+07   \n",
       "3          0.019256          0.043057       41531.404722   1.260796e+07   \n",
       "4          0.139494          0.311918       67639.394481   7.130590e+07   \n",
       "\n",
       "   absolute_magnitude  hazardous  \n",
       "0                26.1      False  \n",
       "1                24.7      False  \n",
       "2                23.4      False  \n",
       "3                25.7      False  \n",
       "4                21.4      False  "
      ]
     },
     "execution_count": 28,
     "metadata": {},
     "output_type": "execute_result"
    }
   ],
   "source": [
    "data = pd.read_csv(\"../../data/neo_task.csv\")\n",
    "data.drop(columns=['id', 'name'], axis=1, inplace=True)\n",
    "data.head()"
   ]
  },
  {
   "cell_type": "code",
   "execution_count": 29,
   "metadata": {},
   "outputs": [
    {
     "name": "stdout",
     "output_type": "stream",
     "text": [
      "['est_diameter_max', 'relative_velocity', 'absolute_magnitude']\n"
     ]
    }
   ],
   "source": [
    "null_columns = []\n",
    "for i in data.columns:\n",
    "    if len(data[data[i].isnull()]) > 0:\n",
    "        null_columns.append(i)\n",
    "print(null_columns)"
   ]
  },
  {
   "cell_type": "code",
   "execution_count": 30,
   "metadata": {},
   "outputs": [],
   "source": [
    "def fill_empty_cell(column_name, df):\n",
    "    if df.dtypes[column_name] == \"float64\":\n",
    "        df[column_name] = df[column_name].fillna(df[column_name].mean())\n",
    "    elif df.dtypes[column_name] == \"int64\":\n",
    "        df[column_name] = df[column_name].fillna(df[column_name].median())\n",
    "    else:\n",
    "        df[column_name] = df[column_name].fillna(df[column_name].mode())\n",
    "\n",
    "\n",
    "for name in null_columns:\n",
    "    fill_empty_cell(name, data)"
   ]
  },
  {
   "cell_type": "code",
   "execution_count": 31,
   "metadata": {},
   "outputs": [],
   "source": [
    "X_classification = np.array(data.drop(columns=['hazardous'], axis=1))\n",
    "y_classification = np.array(data['hazardous'])"
   ]
  },
  {
   "cell_type": "code",
   "execution_count": 32,
   "metadata": {},
   "outputs": [
    {
     "name": "stdout",
     "output_type": "stream",
     "text": [
      "(17680, 5) (17680,)\n"
     ]
    }
   ],
   "source": [
    "rus = RandomUnderSampler()\n",
    "X, y = rus.fit_resample(X_classification, y_classification)\n",
    "print(X.shape, y.shape)"
   ]
  },
  {
   "cell_type": "code",
   "execution_count": 33,
   "metadata": {},
   "outputs": [],
   "source": [
    "X_train, X_test, y_train, y_test = train_test_split(X, y, test_size=0.3, stratify=y, shuffle=True)"
   ]
  },
  {
   "cell_type": "code",
   "execution_count": 34,
   "metadata": {},
   "outputs": [],
   "source": [
    "scaler = StandardScaler()\n",
    "X_train = scaler.fit_transform(X_train)"
   ]
  },
  {
   "cell_type": "code",
   "execution_count": 35,
   "metadata": {},
   "outputs": [
    {
     "name": "stderr",
     "output_type": "stream",
     "text": [
      "C:\\Users\\bugae\\AppData\\Local\\Temp\\ipykernel_17804\\2431211405.py:2: SettingWithCopyWarning: \n",
      "A value is trying to be set on a copy of a slice from a DataFrame.\n",
      "Try using .loc[row_indexer,col_indexer] = value instead\n",
      "\n",
      "See the caveats in the documentation: https://pandas.pydata.org/pandas-docs/stable/user_guide/indexing.html#returning-a-view-versus-a-copy\n",
      "  data2[\"h\"] = [\"1\", \"1\", \"2\", \"1\", \"1\"]\n",
      "C:\\Users\\bugae\\AppData\\Local\\Temp\\ipykernel_17804\\2431211405.py:3: SettingWithCopyWarning: \n",
      "A value is trying to be set on a copy of a slice from a DataFrame.\n",
      "Try using .loc[row_indexer,col_indexer] = value instead\n",
      "\n",
      "See the caveats in the documentation: https://pandas.pydata.org/pandas-docs/stable/user_guide/indexing.html#returning-a-view-versus-a-copy\n",
      "  data2['h'], data2['est_diameter_max'] = data2['est_diameter_max'], data2['h']\n"
     ]
    }
   ],
   "source": [
    "data2 = data.head()\n",
    "data2[\"h\"] = [\"1\", \"1\", \"2\", \"1\", \"1\"]\n",
    "data2['h'], data2['est_diameter_max'] = data2['est_diameter_max'], data2['h']"
   ]
  },
  {
   "cell_type": "code",
   "execution_count": 36,
   "metadata": {},
   "outputs": [
    {
     "data": {
      "text/html": [
       "<div>\n",
       "<style scoped>\n",
       "    .dataframe tbody tr th:only-of-type {\n",
       "        vertical-align: middle;\n",
       "    }\n",
       "\n",
       "    .dataframe tbody tr th {\n",
       "        vertical-align: top;\n",
       "    }\n",
       "\n",
       "    .dataframe thead th {\n",
       "        text-align: right;\n",
       "    }\n",
       "</style>\n",
       "<table border=\"1\" class=\"dataframe\">\n",
       "  <thead>\n",
       "    <tr style=\"text-align: right;\">\n",
       "      <th></th>\n",
       "      <th>est_diameter_min</th>\n",
       "      <th>est_diameter_max</th>\n",
       "      <th>relative_velocity</th>\n",
       "      <th>miss_distance</th>\n",
       "      <th>absolute_magnitude</th>\n",
       "      <th>hazardous</th>\n",
       "      <th>h</th>\n",
       "    </tr>\n",
       "  </thead>\n",
       "  <tbody>\n",
       "    <tr>\n",
       "      <th>0</th>\n",
       "      <td>0.016016</td>\n",
       "      <td>1</td>\n",
       "      <td>56014.078517</td>\n",
       "      <td>1.024333e+06</td>\n",
       "      <td>26.1</td>\n",
       "      <td>False</td>\n",
       "      <td>0.035813</td>\n",
       "    </tr>\n",
       "    <tr>\n",
       "      <th>1</th>\n",
       "      <td>0.030518</td>\n",
       "      <td>1</td>\n",
       "      <td>7864.348060</td>\n",
       "      <td>3.268186e+07</td>\n",
       "      <td>24.7</td>\n",
       "      <td>False</td>\n",
       "      <td>0.068240</td>\n",
       "    </tr>\n",
       "    <tr>\n",
       "      <th>2</th>\n",
       "      <td>0.055533</td>\n",
       "      <td>2</td>\n",
       "      <td>55257.544508</td>\n",
       "      <td>6.538636e+07</td>\n",
       "      <td>23.4</td>\n",
       "      <td>False</td>\n",
       "      <td>0.124177</td>\n",
       "    </tr>\n",
       "    <tr>\n",
       "      <th>3</th>\n",
       "      <td>0.019256</td>\n",
       "      <td>1</td>\n",
       "      <td>41531.404722</td>\n",
       "      <td>1.260796e+07</td>\n",
       "      <td>25.7</td>\n",
       "      <td>False</td>\n",
       "      <td>0.043057</td>\n",
       "    </tr>\n",
       "    <tr>\n",
       "      <th>4</th>\n",
       "      <td>0.139494</td>\n",
       "      <td>1</td>\n",
       "      <td>67639.394481</td>\n",
       "      <td>7.130590e+07</td>\n",
       "      <td>21.4</td>\n",
       "      <td>False</td>\n",
       "      <td>0.311918</td>\n",
       "    </tr>\n",
       "  </tbody>\n",
       "</table>\n",
       "</div>"
      ],
      "text/plain": [
       "   est_diameter_min est_diameter_max  relative_velocity  miss_distance  \\\n",
       "0          0.016016                1       56014.078517   1.024333e+06   \n",
       "1          0.030518                1        7864.348060   3.268186e+07   \n",
       "2          0.055533                2       55257.544508   6.538636e+07   \n",
       "3          0.019256                1       41531.404722   1.260796e+07   \n",
       "4          0.139494                1       67639.394481   7.130590e+07   \n",
       "\n",
       "   absolute_magnitude  hazardous         h  \n",
       "0                26.1      False  0.035813  \n",
       "1                24.7      False  0.068240  \n",
       "2                23.4      False  0.124177  \n",
       "3                25.7      False  0.043057  \n",
       "4                21.4      False  0.311918  "
      ]
     },
     "execution_count": 36,
     "metadata": {},
     "output_type": "execute_result"
    }
   ],
   "source": [
    "data2"
   ]
  },
  {
   "cell_type": "code",
   "execution_count": 37,
   "metadata": {},
   "outputs": [
    {
     "data": {
      "text/plain": [
       "array([[-0.78894771, -0.78894771,  0.50183031, -1.2755361 ,  1.07781257,\n",
       "         1.        ,  0.        ],\n",
       "       [-0.47243097, -0.47243097, -1.83214412, -0.14052255,  0.25773779,\n",
       "         1.        ,  0.        ],\n",
       "       [ 0.07355623,  0.07355623,  0.46515864,  1.03202802, -0.50376022,\n",
       "         0.        ,  1.        ],\n",
       "       [-0.71824328, -0.71824328, -0.20019211, -0.86022978,  0.84350549,\n",
       "         1.        ,  0.        ],\n",
       "       [ 1.90606573,  1.90606573,  1.06534728,  1.24426041, -1.67529562,\n",
       "         1.        ,  0.        ]])"
      ]
     },
     "execution_count": 37,
     "metadata": {},
     "output_type": "execute_result"
    }
   ],
   "source": [
    "from sklearn.preprocessing import OneHotEncoder\n",
    "from sklearn.compose import ColumnTransformer\n",
    "\n",
    "X = data2.drop(columns=['hazardous'], axis=1)\n",
    "y = data2['hazardous']\n",
    "encoder = OneHotEncoder()\n",
    "\n",
    "scaler2 = StandardScaler()\n",
    "\n",
    "t = ColumnTransformer([\n",
    "    ('scaler', scaler2, ['est_diameter_min', 'h', 'relative_velocity', 'miss_distance', 'absolute_magnitude']),\n",
    "    ('onehot', encoder, ['est_diameter_max']),\n",
    "], remainder='passthrough')\n",
    "\n",
    "a = t.fit_transform(X)\n",
    "t.transform(X)"
   ]
  },
  {
   "attachments": {},
   "cell_type": "markdown",
   "metadata": {},
   "source": [
    "# ------------------------------------------------------------------------------"
   ]
  },
  {
   "cell_type": "code",
   "execution_count": 38,
   "metadata": {},
   "outputs": [],
   "source": [
    "knn_params = {\n",
    "    'n_neighbors': np.arange(5, 11, 2),\n",
    "    'p': np.array([1, 2])\n",
    "}\n",
    "\n",
    "knn = GridSearchCV(KNeighborsClassifier(metric='minkowski'), knn_params).fit(X_train, y_train)"
   ]
  },
  {
   "cell_type": "code",
   "execution_count": 39,
   "metadata": {},
   "outputs": [
    {
     "data": {
      "text/plain": [
       "{'n_neighbors': 9, 'p': 1}"
      ]
     },
     "execution_count": 39,
     "metadata": {},
     "output_type": "execute_result"
    }
   ],
   "source": [
    "knn.best_params_"
   ]
  },
  {
   "cell_type": "code",
   "execution_count": 40,
   "metadata": {},
   "outputs": [],
   "source": [
    "# KNN pipeline\n",
    "\n",
    "pipe_knn = Pipeline([('scaler', scaler), ('knn', knn.best_estimator_)])"
   ]
  },
  {
   "cell_type": "code",
   "execution_count": 41,
   "metadata": {},
   "outputs": [
    {
     "name": "stdout",
     "output_type": "stream",
     "text": [
      "              precision    recall  f1-score   support\n",
      "\n",
      "       False       0.95      0.76      0.85      2652\n",
      "        True       0.80      0.96      0.88      2652\n",
      "\n",
      "    accuracy                           0.86      5304\n",
      "   macro avg       0.88      0.86      0.86      5304\n",
      "weighted avg       0.88      0.86      0.86      5304\n",
      "\n"
     ]
    }
   ],
   "source": [
    "print(classification_report(y_test, pipe_knn.predict(X_test)))\n",
    "# pipe_knn.transform(X_test)"
   ]
  },
  {
   "cell_type": "code",
   "execution_count": 42,
   "metadata": {},
   "outputs": [
    {
     "name": "stdout",
     "output_type": "stream",
     "text": [
      "              precision    recall  f1-score   support\n",
      "\n",
      "       False       0.25      0.00      0.00      2652\n",
      "        True       0.50      1.00      0.67      2652\n",
      "\n",
      "    accuracy                           0.50      5304\n",
      "   macro avg       0.37      0.50      0.33      5304\n",
      "weighted avg       0.37      0.50      0.33      5304\n",
      "\n"
     ]
    }
   ],
   "source": [
    "print(classification_report(y_test, knn.best_estimator_.predict(X_test)))"
   ]
  },
  {
   "attachments": {},
   "cell_type": "markdown",
   "metadata": {},
   "source": [
    "# ------------------------------------------------------------------------------"
   ]
  },
  {
   "cell_type": "code",
   "execution_count": 43,
   "metadata": {},
   "outputs": [],
   "source": [
    "log_reg_grid = {\n",
    "    'C': np.array([0.01, 0.05, 0.1, 0.5, 1, 5, 10])\n",
    "}\n",
    "\n",
    "grid_bagging = {\n",
    "    'estimator': [knn.best_estimator_, \n",
    "                  GridSearchCV(LogisticRegression(), log_reg_grid).fit(X_train, y_train).best_estimator_],\n",
    "    'n_estimators': np.arange(9, 15, 2),\n",
    "}\n",
    "\n",
    "bagging = GridSearchCV(BaggingClassifier(), grid_bagging).fit(X_train, y_train)"
   ]
  },
  {
   "cell_type": "code",
   "execution_count": 44,
   "metadata": {},
   "outputs": [
    {
     "data": {
      "text/plain": [
       "{'estimator': KNeighborsClassifier(n_neighbors=9, p=1), 'n_estimators': 13}"
      ]
     },
     "execution_count": 44,
     "metadata": {},
     "output_type": "execute_result"
    }
   ],
   "source": [
    "bagging.best_params_"
   ]
  },
  {
   "cell_type": "code",
   "execution_count": 45,
   "metadata": {},
   "outputs": [],
   "source": [
    "# Bagging pipeline\n",
    "\n",
    "pipe_bagging = Pipeline([('scaler', scaler), ('bagging', bagging.best_estimator_)])"
   ]
  },
  {
   "cell_type": "code",
   "execution_count": 46,
   "metadata": {},
   "outputs": [
    {
     "name": "stdout",
     "output_type": "stream",
     "text": [
      "              precision    recall  f1-score   support\n",
      "\n",
      "       False       0.96      0.77      0.85      2652\n",
      "        True       0.81      0.97      0.88      2652\n",
      "\n",
      "    accuracy                           0.87      5304\n",
      "   macro avg       0.88      0.87      0.87      5304\n",
      "weighted avg       0.88      0.87      0.87      5304\n",
      "\n"
     ]
    }
   ],
   "source": [
    "print(classification_report(y_test, pipe_bagging.predict(X_test)))"
   ]
  },
  {
   "attachments": {},
   "cell_type": "markdown",
   "metadata": {},
   "source": [
    "# ------------------------------------------------------------------------------"
   ]
  },
  {
   "cell_type": "code",
   "execution_count": 47,
   "metadata": {},
   "outputs": [
    {
     "data": {
      "text/plain": [
       "<keras.callbacks.History at 0x2a7754b8e20>"
      ]
     },
     "execution_count": 47,
     "metadata": {},
     "output_type": "execute_result"
    }
   ],
   "source": [
    "classification_model = tf.keras.Sequential(\n",
    "    [\n",
    "        tf.keras.layers.Dense(64, activation=\"relu\", input_shape=(5,)),\n",
    "        tf.keras.layers.Dense(32, activation=\"relu\"),\n",
    "        tf.keras.layers.Dropout(0.1),\n",
    "        tf.keras.layers.Dense(16, activation=\"relu\"),\n",
    "        tf.keras.layers.Dropout(0.1),\n",
    "        tf.keras.layers.Dense(2, activation=\"softmax\"),\n",
    "    ]\n",
    ")\n",
    "\n",
    "classification_model.compile(optimizer=tf.keras.optimizers.Adam(learning_rate=0.05), loss=\"sparse_categorical_crossentropy\")\n",
    "classification_model.fit(X_train, y_train, epochs=25, verbose=None)"
   ]
  },
  {
   "cell_type": "code",
   "execution_count": 48,
   "metadata": {},
   "outputs": [],
   "source": [
    "def decision_function(X: np.ndarray) -> np.ndarray:\n",
    "    return np.array([np.argmax(pred) for pred in X])"
   ]
  },
  {
   "cell_type": "code",
   "execution_count": 49,
   "metadata": {},
   "outputs": [],
   "source": [
    "# Dence pipeline\n",
    "pipe_dence = Pipeline([('scaler', scaler), ('dence', classification_model)])"
   ]
  },
  {
   "attachments": {},
   "cell_type": "markdown",
   "metadata": {},
   "source": [
    "# ------------------------------------------------------------------------------"
   ]
  },
  {
   "cell_type": "code",
   "execution_count": 50,
   "metadata": {},
   "outputs": [],
   "source": [
    "from joblib import dump, load"
   ]
  },
  {
   "cell_type": "code",
   "execution_count": 51,
   "metadata": {},
   "outputs": [
    {
     "data": {
      "text/plain": [
       "['pipe_knn.pkl']"
      ]
     },
     "execution_count": 51,
     "metadata": {},
     "output_type": "execute_result"
    }
   ],
   "source": [
    "dump(pipe_knn, 'pipe_knn.pkl') "
   ]
  },
  {
   "cell_type": "code",
   "execution_count": 52,
   "metadata": {},
   "outputs": [
    {
     "data": {
      "text/plain": [
       "['pipe_bagging.pkl']"
      ]
     },
     "execution_count": 52,
     "metadata": {},
     "output_type": "execute_result"
    }
   ],
   "source": [
    "dump(pipe_bagging, 'pipe_bagging.pkl') "
   ]
  },
  {
   "cell_type": "code",
   "execution_count": 53,
   "metadata": {},
   "outputs": [
    {
     "name": "stdout",
     "output_type": "stream",
     "text": [
      "Keras weights file (<HDF5 file \"variables.h5\" (mode r+)>) saving:\n",
      "...layers\\dense\n",
      "......vars\n",
      ".........0\n",
      ".........1\n",
      "...layers\\dense_1\n",
      "......vars\n",
      ".........0\n",
      ".........1\n",
      "...layers\\dense_2\n",
      "......vars\n",
      ".........0\n",
      ".........1\n",
      "...layers\\dense_3\n",
      "......vars\n",
      ".........0\n",
      ".........1\n",
      "...layers\\dropout\n",
      "......vars\n",
      "...layers\\dropout_1\n",
      "......vars\n",
      "...metrics\\mean\n",
      "......vars\n",
      ".........0\n",
      ".........1\n",
      "...optimizer\n",
      "......vars\n",
      ".........0\n",
      ".........1\n",
      ".........10\n",
      ".........11\n",
      ".........12\n",
      ".........13\n",
      ".........14\n",
      ".........15\n",
      ".........16\n",
      ".........2\n",
      ".........3\n",
      ".........4\n",
      ".........5\n",
      ".........6\n",
      ".........7\n",
      ".........8\n",
      ".........9\n",
      "...vars\n",
      "Keras model archive saving:\n",
      "File Name                                             Modified             Size\n",
      "config.json                                    2023-06-27 09:51:39         2955\n",
      "metadata.json                                  2023-06-27 09:51:39           64\n",
      "variables.h5                                   2023-06-27 09:51:39        64760\n"
     ]
    },
    {
     "data": {
      "text/plain": [
       "['pipe_dence.h5']"
      ]
     },
     "execution_count": 53,
     "metadata": {},
     "output_type": "execute_result"
    }
   ],
   "source": [
    "dump(pipe_dence, 'pipe_dence.h5') "
   ]
  }
 ],
 "metadata": {
  "kernelspec": {
   "display_name": "venv",
   "language": "python",
   "name": "python3"
  },
  "language_info": {
   "codemirror_mode": {
    "name": "ipython",
    "version": 3
   },
   "file_extension": ".py",
   "mimetype": "text/x-python",
   "name": "python",
   "nbconvert_exporter": "python",
   "pygments_lexer": "ipython3",
   "version": "3.10.11"
  },
  "orig_nbformat": 4
 },
 "nbformat": 4,
 "nbformat_minor": 2
}

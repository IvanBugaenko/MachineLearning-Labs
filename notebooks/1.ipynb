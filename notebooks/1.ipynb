{
 "cells": [
  {
   "cell_type": "markdown",
   "id": "43dfc1f0",
   "metadata": {},
   "source": [
    "# Лабораторная работа 1. Введение в машинное обучение. Обучение с учителем. Задача регрессии"
   ]
  },
  {
   "cell_type": "markdown",
   "id": "af0b0580",
   "metadata": {},
   "source": [
    "<b>Традиционное предупреждение для всех лабораторных работ:</b> перед обучением моделей необходимо выполнить предварительную обработку данных, которая <b>обязательно</b> включает в себя:\n",
    "- заполнение пропущенных значений (рекомедуется логика заполнения пропусков на основе типа данных, которая использовалась в РГР по Практикуму);\n",
    "- преобразование категориальных признаков в числовые (используйте one-hot кодирование или map; используйте знания с Практикума)."
   ]
  },
  {
   "cell_type": "markdown",
   "id": "b08d9e23",
   "metadata": {},
   "source": [
    "Предобработка может включать в себя другие действия, но выполнение описанных выше действий обязательно."
   ]
  },
  {
   "cell_type": "markdown",
   "id": "05aab9d1",
   "metadata": {},
   "source": [
    "Сделайте это один раз и сохраните в отдельный csv файл, а потом его используйте."
   ]
  },
  {
   "cell_type": "markdown",
   "id": "e053af5b",
   "metadata": {},
   "source": [
    "<b>Выполните следующие задания:</b>\n",
    "- загрузите датасет для регрессии, выделите целевой признак и предикторы, разбейте данные на обучающую и тестовую выборку;\n",
    "- решите задачу регрессии на ваших данных с использованием моделей sklearn (линейная регрессия + L1, L2), для моделей с регуляризациями подберите гиперпараметр;\n",
    "- решите задачу регрессии на ваших данных с использованием моделей sklearn (полиномиальная регрессия + L1, L2), для моделей с регуляризациями подберите гиперпараметр;\n",
    "- вычислите значения метрик $R^2$, MAE, MSE, RMSE, MAPE для всех обученных моделей; выберите лучшую модель;\n",
    "- самостоятельно реализуйте (желательно в виде класса) модель линейной регрессии с регуляризацией (можете выбрать L1 или L2);\n",
    "- самостоятельно реализуйте вычисление всех используемых метрик (в виде функций, принимающих два аргумента);\n",
    "- обучите вашу модель линейной регрессии на ваших данных; оцените качество с помощью реализованных вами метрик."
   ]
  },
  {
   "cell_type": "code",
   "execution_count": 62,
   "id": "f500beec",
   "metadata": {},
   "outputs": [],
   "source": [
    "import pandas as pd\n",
    "from sklearn.model_selection import train_test_split\n",
    "from sklearn.linear_model import LinearRegression, Lasso, Ridge\n",
    "from sklearn.metrics import mean_squared_error, mean_absolute_error, mean_absolute_percentage_error, r2_score\n",
    "from math import sqrt\n",
    "from sklearn.model_selection import RandomizedSearchCV, GridSearchCV\n",
    "import numpy as np\n",
    "from sklearn.preprocessing import PolynomialFeatures"
   ]
  },
  {
   "cell_type": "markdown",
   "id": "db65d3d8",
   "metadata": {},
   "source": [
    "Функция для вычисления метрик"
   ]
  },
  {
   "cell_type": "code",
   "execution_count": 63,
   "id": "49291f2f",
   "metadata": {},
   "outputs": [],
   "source": [
    "def metrics(test, predict):\n",
    "    print(f'MAE: {mean_absolute_error(test, predict)}')\n",
    "    print(f'MSE: {mean_squared_error(test, predict)}')\n",
    "    print(f'RMSE: {sqrt(mean_squared_error(test, predict))}')\n",
    "    print(f'MAPE: {sqrt(mean_absolute_percentage_error(test, predict))}')\n",
    "    print(f'R^2: {r2_score(test, predict)}')"
   ]
  },
  {
   "cell_type": "markdown",
   "id": "1f44fcf1",
   "metadata": {},
   "source": [
    "Функция для заполнения пропусков в выборке"
   ]
  },
  {
   "cell_type": "code",
   "execution_count": 64,
   "id": "159d78f9",
   "metadata": {},
   "outputs": [],
   "source": [
    "def fill_empty_cell(column_name, df):\n",
    "    if df.dtypes[column_name] == \"float64\":\n",
    "        df[column_name] = df[column_name].fillna(df[column_name].mean())\n",
    "    elif df.dtypes[column_name] == \"int64\":\n",
    "        df[column_name] = df[column_name].fillna(df[column_name].median())\n",
    "    else:\n",
    "        df[column_name] = df[column_name].fillna(df[column_name].mode())"
   ]
  },
  {
   "cell_type": "markdown",
   "id": "51a64565",
   "metadata": {},
   "source": [
    "Ridge"
   ]
  },
  {
   "cell_type": "code",
   "execution_count": 65,
   "id": "72437d3c",
   "metadata": {},
   "outputs": [],
   "source": [
    "def create_ridge_with_hyperparameter(X_train, y_train) -> Ridge:\n",
    "    alpha = {'alpha': np.arange(0.1, 1, 0.1)}\n",
    "    ridge = GridSearchCV(Ridge(), alpha).fit(X_train, y_train)\n",
    "    return ridge"
   ]
  },
  {
   "cell_type": "markdown",
   "id": "d044a8d9",
   "metadata": {},
   "source": [
    "Lasso"
   ]
  },
  {
   "cell_type": "code",
   "execution_count": 66,
   "id": "14f19220",
   "metadata": {},
   "outputs": [],
   "source": [
    "def create_lasso_with_hyperparameter(X_train, y_train) -> Lasso:\n",
    "    alpha = {'alpha': np.arange(0.2, 1, 0.2)}\n",
    "    lasso = RandomizedSearchCV(Lasso(), alpha).fit(X_train, y_train)\n",
    "    return lasso"
   ]
  },
  {
   "cell_type": "code",
   "execution_count": 85,
   "id": "d2e81993",
   "metadata": {},
   "outputs": [
    {
     "data": {
      "text/html": [
       "<div>\n",
       "<style scoped>\n",
       "    .dataframe tbody tr th:only-of-type {\n",
       "        vertical-align: middle;\n",
       "    }\n",
       "\n",
       "    .dataframe tbody tr th {\n",
       "        vertical-align: top;\n",
       "    }\n",
       "\n",
       "    .dataframe thead th {\n",
       "        text-align: right;\n",
       "    }\n",
       "</style>\n",
       "<table border=\"1\" class=\"dataframe\">\n",
       "  <thead>\n",
       "    <tr style=\"text-align: right;\">\n",
       "      <th></th>\n",
       "      <th>date</th>\n",
       "      <th>Appliances</th>\n",
       "      <th>lights</th>\n",
       "      <th>T1</th>\n",
       "      <th>RH_1</th>\n",
       "      <th>T2</th>\n",
       "      <th>RH_2</th>\n",
       "      <th>T3</th>\n",
       "      <th>RH_3</th>\n",
       "      <th>T4</th>\n",
       "      <th>...</th>\n",
       "      <th>T8</th>\n",
       "      <th>RH_8</th>\n",
       "      <th>T9</th>\n",
       "      <th>RH_9</th>\n",
       "      <th>T_out</th>\n",
       "      <th>Press_mm_hg</th>\n",
       "      <th>RH_out</th>\n",
       "      <th>Windspeed</th>\n",
       "      <th>Visibility</th>\n",
       "      <th>Tdewpoint</th>\n",
       "    </tr>\n",
       "  </thead>\n",
       "  <tbody>\n",
       "    <tr>\n",
       "      <th>0</th>\n",
       "      <td>11-01-2016 17:00</td>\n",
       "      <td>60</td>\n",
       "      <td>30</td>\n",
       "      <td>19.890000</td>\n",
       "      <td>47.596667</td>\n",
       "      <td>19.200000</td>\n",
       "      <td>44.790000</td>\n",
       "      <td>19.790000</td>\n",
       "      <td>44.730000</td>\n",
       "      <td>19.000000</td>\n",
       "      <td>...</td>\n",
       "      <td>18.2000</td>\n",
       "      <td>48.900000</td>\n",
       "      <td>17.033333</td>\n",
       "      <td>45.5300</td>\n",
       "      <td>6.60</td>\n",
       "      <td>733.5</td>\n",
       "      <td>92.000000</td>\n",
       "      <td>7.000000</td>\n",
       "      <td>63.000000</td>\n",
       "      <td>5.3</td>\n",
       "    </tr>\n",
       "    <tr>\n",
       "      <th>1</th>\n",
       "      <td>11-01-2016 17:10</td>\n",
       "      <td>60</td>\n",
       "      <td>30</td>\n",
       "      <td>19.890000</td>\n",
       "      <td>46.693333</td>\n",
       "      <td>19.200000</td>\n",
       "      <td>44.722500</td>\n",
       "      <td>19.790000</td>\n",
       "      <td>44.790000</td>\n",
       "      <td>19.000000</td>\n",
       "      <td>...</td>\n",
       "      <td>18.2000</td>\n",
       "      <td>48.863333</td>\n",
       "      <td>17.066667</td>\n",
       "      <td>45.5600</td>\n",
       "      <td>6.48</td>\n",
       "      <td>733.6</td>\n",
       "      <td>92.000000</td>\n",
       "      <td>6.666667</td>\n",
       "      <td>59.166667</td>\n",
       "      <td>5.2</td>\n",
       "    </tr>\n",
       "    <tr>\n",
       "      <th>2</th>\n",
       "      <td>11-01-2016 17:20</td>\n",
       "      <td>50</td>\n",
       "      <td>30</td>\n",
       "      <td>19.890000</td>\n",
       "      <td>46.300000</td>\n",
       "      <td>19.200000</td>\n",
       "      <td>44.626667</td>\n",
       "      <td>19.790000</td>\n",
       "      <td>44.933333</td>\n",
       "      <td>18.926667</td>\n",
       "      <td>...</td>\n",
       "      <td>18.2000</td>\n",
       "      <td>48.730000</td>\n",
       "      <td>17.000000</td>\n",
       "      <td>45.5000</td>\n",
       "      <td>6.37</td>\n",
       "      <td>733.7</td>\n",
       "      <td>92.000000</td>\n",
       "      <td>6.333333</td>\n",
       "      <td>55.333333</td>\n",
       "      <td>5.1</td>\n",
       "    </tr>\n",
       "    <tr>\n",
       "      <th>3</th>\n",
       "      <td>11-01-2016 17:30</td>\n",
       "      <td>50</td>\n",
       "      <td>40</td>\n",
       "      <td>19.890000</td>\n",
       "      <td>46.066667</td>\n",
       "      <td>19.200000</td>\n",
       "      <td>44.590000</td>\n",
       "      <td>19.790000</td>\n",
       "      <td>45.000000</td>\n",
       "      <td>18.890000</td>\n",
       "      <td>...</td>\n",
       "      <td>18.1000</td>\n",
       "      <td>48.590000</td>\n",
       "      <td>17.000000</td>\n",
       "      <td>45.4000</td>\n",
       "      <td>6.25</td>\n",
       "      <td>733.8</td>\n",
       "      <td>92.000000</td>\n",
       "      <td>6.000000</td>\n",
       "      <td>51.500000</td>\n",
       "      <td>5.0</td>\n",
       "    </tr>\n",
       "    <tr>\n",
       "      <th>4</th>\n",
       "      <td>11-01-2016 17:40</td>\n",
       "      <td>60</td>\n",
       "      <td>40</td>\n",
       "      <td>19.890000</td>\n",
       "      <td>46.333333</td>\n",
       "      <td>19.200000</td>\n",
       "      <td>44.530000</td>\n",
       "      <td>19.790000</td>\n",
       "      <td>45.000000</td>\n",
       "      <td>18.890000</td>\n",
       "      <td>...</td>\n",
       "      <td>18.1000</td>\n",
       "      <td>48.590000</td>\n",
       "      <td>17.000000</td>\n",
       "      <td>45.4000</td>\n",
       "      <td>6.13</td>\n",
       "      <td>733.9</td>\n",
       "      <td>92.000000</td>\n",
       "      <td>5.666667</td>\n",
       "      <td>47.666667</td>\n",
       "      <td>4.9</td>\n",
       "    </tr>\n",
       "    <tr>\n",
       "      <th>...</th>\n",
       "      <td>...</td>\n",
       "      <td>...</td>\n",
       "      <td>...</td>\n",
       "      <td>...</td>\n",
       "      <td>...</td>\n",
       "      <td>...</td>\n",
       "      <td>...</td>\n",
       "      <td>...</td>\n",
       "      <td>...</td>\n",
       "      <td>...</td>\n",
       "      <td>...</td>\n",
       "      <td>...</td>\n",
       "      <td>...</td>\n",
       "      <td>...</td>\n",
       "      <td>...</td>\n",
       "      <td>...</td>\n",
       "      <td>...</td>\n",
       "      <td>...</td>\n",
       "      <td>...</td>\n",
       "      <td>...</td>\n",
       "      <td>...</td>\n",
       "    </tr>\n",
       "    <tr>\n",
       "      <th>19730</th>\n",
       "      <td>27-05-2016 17:20</td>\n",
       "      <td>100</td>\n",
       "      <td>0</td>\n",
       "      <td>25.566667</td>\n",
       "      <td>46.560000</td>\n",
       "      <td>25.890000</td>\n",
       "      <td>42.025714</td>\n",
       "      <td>27.200000</td>\n",
       "      <td>41.163333</td>\n",
       "      <td>24.700000</td>\n",
       "      <td>...</td>\n",
       "      <td>24.7000</td>\n",
       "      <td>50.074000</td>\n",
       "      <td>23.200000</td>\n",
       "      <td>46.7900</td>\n",
       "      <td>22.70</td>\n",
       "      <td>755.2</td>\n",
       "      <td>55.666667</td>\n",
       "      <td>3.333333</td>\n",
       "      <td>23.666667</td>\n",
       "      <td>13.3</td>\n",
       "    </tr>\n",
       "    <tr>\n",
       "      <th>19731</th>\n",
       "      <td>27-05-2016 17:30</td>\n",
       "      <td>90</td>\n",
       "      <td>0</td>\n",
       "      <td>25.500000</td>\n",
       "      <td>46.500000</td>\n",
       "      <td>25.754000</td>\n",
       "      <td>42.080000</td>\n",
       "      <td>27.133333</td>\n",
       "      <td>41.223333</td>\n",
       "      <td>24.700000</td>\n",
       "      <td>...</td>\n",
       "      <td>24.7000</td>\n",
       "      <td>49.790000</td>\n",
       "      <td>23.200000</td>\n",
       "      <td>46.7900</td>\n",
       "      <td>22.60</td>\n",
       "      <td>755.2</td>\n",
       "      <td>56.000000</td>\n",
       "      <td>3.500000</td>\n",
       "      <td>24.500000</td>\n",
       "      <td>13.3</td>\n",
       "    </tr>\n",
       "    <tr>\n",
       "      <th>19732</th>\n",
       "      <td>27-05-2016 17:40</td>\n",
       "      <td>270</td>\n",
       "      <td>10</td>\n",
       "      <td>25.500000</td>\n",
       "      <td>46.596667</td>\n",
       "      <td>25.628571</td>\n",
       "      <td>42.768571</td>\n",
       "      <td>27.050000</td>\n",
       "      <td>41.690000</td>\n",
       "      <td>24.700000</td>\n",
       "      <td>...</td>\n",
       "      <td>24.7000</td>\n",
       "      <td>49.660000</td>\n",
       "      <td>23.200000</td>\n",
       "      <td>46.7900</td>\n",
       "      <td>22.50</td>\n",
       "      <td>755.2</td>\n",
       "      <td>56.333333</td>\n",
       "      <td>3.666667</td>\n",
       "      <td>25.333333</td>\n",
       "      <td>13.3</td>\n",
       "    </tr>\n",
       "    <tr>\n",
       "      <th>19733</th>\n",
       "      <td>27-05-2016 17:50</td>\n",
       "      <td>420</td>\n",
       "      <td>10</td>\n",
       "      <td>25.500000</td>\n",
       "      <td>46.990000</td>\n",
       "      <td>25.414000</td>\n",
       "      <td>43.036000</td>\n",
       "      <td>26.890000</td>\n",
       "      <td>41.290000</td>\n",
       "      <td>24.700000</td>\n",
       "      <td>...</td>\n",
       "      <td>24.6625</td>\n",
       "      <td>49.518750</td>\n",
       "      <td>23.200000</td>\n",
       "      <td>46.8175</td>\n",
       "      <td>22.30</td>\n",
       "      <td>755.2</td>\n",
       "      <td>56.666667</td>\n",
       "      <td>3.833333</td>\n",
       "      <td>26.166667</td>\n",
       "      <td>13.2</td>\n",
       "    </tr>\n",
       "    <tr>\n",
       "      <th>19734</th>\n",
       "      <td>27-05-2016 18:00</td>\n",
       "      <td>430</td>\n",
       "      <td>10</td>\n",
       "      <td>25.500000</td>\n",
       "      <td>46.600000</td>\n",
       "      <td>25.264286</td>\n",
       "      <td>42.971429</td>\n",
       "      <td>26.823333</td>\n",
       "      <td>41.156667</td>\n",
       "      <td>24.700000</td>\n",
       "      <td>...</td>\n",
       "      <td>24.7360</td>\n",
       "      <td>49.736000</td>\n",
       "      <td>23.200000</td>\n",
       "      <td>46.8450</td>\n",
       "      <td>22.20</td>\n",
       "      <td>755.2</td>\n",
       "      <td>57.000000</td>\n",
       "      <td>4.000000</td>\n",
       "      <td>27.000000</td>\n",
       "      <td>13.2</td>\n",
       "    </tr>\n",
       "  </tbody>\n",
       "</table>\n",
       "<p>19735 rows × 27 columns</p>\n",
       "</div>"
      ],
      "text/plain": [
       "                   date  Appliances  lights         T1       RH_1         T2  \\\n",
       "0      11-01-2016 17:00          60      30  19.890000  47.596667  19.200000   \n",
       "1      11-01-2016 17:10          60      30  19.890000  46.693333  19.200000   \n",
       "2      11-01-2016 17:20          50      30  19.890000  46.300000  19.200000   \n",
       "3      11-01-2016 17:30          50      40  19.890000  46.066667  19.200000   \n",
       "4      11-01-2016 17:40          60      40  19.890000  46.333333  19.200000   \n",
       "...                 ...         ...     ...        ...        ...        ...   \n",
       "19730  27-05-2016 17:20         100       0  25.566667  46.560000  25.890000   \n",
       "19731  27-05-2016 17:30          90       0  25.500000  46.500000  25.754000   \n",
       "19732  27-05-2016 17:40         270      10  25.500000  46.596667  25.628571   \n",
       "19733  27-05-2016 17:50         420      10  25.500000  46.990000  25.414000   \n",
       "19734  27-05-2016 18:00         430      10  25.500000  46.600000  25.264286   \n",
       "\n",
       "            RH_2         T3       RH_3         T4  ...       T8       RH_8  \\\n",
       "0      44.790000  19.790000  44.730000  19.000000  ...  18.2000  48.900000   \n",
       "1      44.722500  19.790000  44.790000  19.000000  ...  18.2000  48.863333   \n",
       "2      44.626667  19.790000  44.933333  18.926667  ...  18.2000  48.730000   \n",
       "3      44.590000  19.790000  45.000000  18.890000  ...  18.1000  48.590000   \n",
       "4      44.530000  19.790000  45.000000  18.890000  ...  18.1000  48.590000   \n",
       "...          ...        ...        ...        ...  ...      ...        ...   \n",
       "19730  42.025714  27.200000  41.163333  24.700000  ...  24.7000  50.074000   \n",
       "19731  42.080000  27.133333  41.223333  24.700000  ...  24.7000  49.790000   \n",
       "19732  42.768571  27.050000  41.690000  24.700000  ...  24.7000  49.660000   \n",
       "19733  43.036000  26.890000  41.290000  24.700000  ...  24.6625  49.518750   \n",
       "19734  42.971429  26.823333  41.156667  24.700000  ...  24.7360  49.736000   \n",
       "\n",
       "              T9     RH_9  T_out  Press_mm_hg     RH_out  Windspeed  \\\n",
       "0      17.033333  45.5300   6.60        733.5  92.000000   7.000000   \n",
       "1      17.066667  45.5600   6.48        733.6  92.000000   6.666667   \n",
       "2      17.000000  45.5000   6.37        733.7  92.000000   6.333333   \n",
       "3      17.000000  45.4000   6.25        733.8  92.000000   6.000000   \n",
       "4      17.000000  45.4000   6.13        733.9  92.000000   5.666667   \n",
       "...          ...      ...    ...          ...        ...        ...   \n",
       "19730  23.200000  46.7900  22.70        755.2  55.666667   3.333333   \n",
       "19731  23.200000  46.7900  22.60        755.2  56.000000   3.500000   \n",
       "19732  23.200000  46.7900  22.50        755.2  56.333333   3.666667   \n",
       "19733  23.200000  46.8175  22.30        755.2  56.666667   3.833333   \n",
       "19734  23.200000  46.8450  22.20        755.2  57.000000   4.000000   \n",
       "\n",
       "       Visibility  Tdewpoint  \n",
       "0       63.000000        5.3  \n",
       "1       59.166667        5.2  \n",
       "2       55.333333        5.1  \n",
       "3       51.500000        5.0  \n",
       "4       47.666667        4.9  \n",
       "...           ...        ...  \n",
       "19730   23.666667       13.3  \n",
       "19731   24.500000       13.3  \n",
       "19732   25.333333       13.3  \n",
       "19733   26.166667       13.2  \n",
       "19734   27.000000       13.2  \n",
       "\n",
       "[19735 rows x 27 columns]"
      ]
     },
     "execution_count": 85,
     "metadata": {},
     "output_type": "execute_result"
    }
   ],
   "source": [
    "table = pd.read_csv(\"../data/energy_task.csv\")\n",
    "# table.drop([\"date\"], axis=1, inplace=True)\n",
    "table\n",
    "# table.head(5)"
   ]
  },
  {
   "cell_type": "code",
   "execution_count": 96,
   "id": "15a8e5a1",
   "metadata": {},
   "outputs": [
    {
     "ename": "TypeError",
     "evalue": "unsupported operand type(s) for +: 'float' and 'str'",
     "output_type": "error",
     "traceback": [
      "\u001b[1;31m---------------------------------------------------------------------------\u001b[0m",
      "\u001b[1;31mTypeError\u001b[0m                                 Traceback (most recent call last)",
      "Cell \u001b[1;32mIn[96], line 1\u001b[0m\n\u001b[1;32m----> 1\u001b[0m table[\u001b[39m'\u001b[39;49m\u001b[39mdate\u001b[39;49m\u001b[39m'\u001b[39;49m]\u001b[39m.\u001b[39;49mapply(\u001b[39mlambda\u001b[39;49;00m x: x \u001b[39m+\u001b[39;49m \u001b[39m'\u001b[39;49m\u001b[39mrrerer\u001b[39;49m\u001b[39m'\u001b[39;49m)\n",
      "File \u001b[1;32mc:\\Users\\bugae\\ML\\venv\\lib\\site-packages\\pandas\\core\\series.py:4771\u001b[0m, in \u001b[0;36mSeries.apply\u001b[1;34m(self, func, convert_dtype, args, **kwargs)\u001b[0m\n\u001b[0;32m   4661\u001b[0m \u001b[39mdef\u001b[39;00m \u001b[39mapply\u001b[39m(\n\u001b[0;32m   4662\u001b[0m     \u001b[39mself\u001b[39m,\n\u001b[0;32m   4663\u001b[0m     func: AggFuncType,\n\u001b[1;32m   (...)\u001b[0m\n\u001b[0;32m   4666\u001b[0m     \u001b[39m*\u001b[39m\u001b[39m*\u001b[39mkwargs,\n\u001b[0;32m   4667\u001b[0m ) \u001b[39m-\u001b[39m\u001b[39m>\u001b[39m DataFrame \u001b[39m|\u001b[39m Series:\n\u001b[0;32m   4668\u001b[0m \u001b[39m    \u001b[39m\u001b[39m\"\"\"\u001b[39;00m\n\u001b[0;32m   4669\u001b[0m \u001b[39m    Invoke function on values of Series.\u001b[39;00m\n\u001b[0;32m   4670\u001b[0m \n\u001b[1;32m   (...)\u001b[0m\n\u001b[0;32m   4769\u001b[0m \u001b[39m    dtype: float64\u001b[39;00m\n\u001b[0;32m   4770\u001b[0m \u001b[39m    \"\"\"\u001b[39;00m\n\u001b[1;32m-> 4771\u001b[0m     \u001b[39mreturn\u001b[39;00m SeriesApply(\u001b[39mself\u001b[39;49m, func, convert_dtype, args, kwargs)\u001b[39m.\u001b[39;49mapply()\n",
      "File \u001b[1;32mc:\\Users\\bugae\\ML\\venv\\lib\\site-packages\\pandas\\core\\apply.py:1123\u001b[0m, in \u001b[0;36mSeriesApply.apply\u001b[1;34m(self)\u001b[0m\n\u001b[0;32m   1120\u001b[0m     \u001b[39mreturn\u001b[39;00m \u001b[39mself\u001b[39m\u001b[39m.\u001b[39mapply_str()\n\u001b[0;32m   1122\u001b[0m \u001b[39m# self.f is Callable\u001b[39;00m\n\u001b[1;32m-> 1123\u001b[0m \u001b[39mreturn\u001b[39;00m \u001b[39mself\u001b[39;49m\u001b[39m.\u001b[39;49mapply_standard()\n",
      "File \u001b[1;32mc:\\Users\\bugae\\ML\\venv\\lib\\site-packages\\pandas\\core\\apply.py:1174\u001b[0m, in \u001b[0;36mSeriesApply.apply_standard\u001b[1;34m(self)\u001b[0m\n\u001b[0;32m   1172\u001b[0m     \u001b[39melse\u001b[39;00m:\n\u001b[0;32m   1173\u001b[0m         values \u001b[39m=\u001b[39m obj\u001b[39m.\u001b[39mastype(\u001b[39mobject\u001b[39m)\u001b[39m.\u001b[39m_values\n\u001b[1;32m-> 1174\u001b[0m         mapped \u001b[39m=\u001b[39m lib\u001b[39m.\u001b[39;49mmap_infer(\n\u001b[0;32m   1175\u001b[0m             values,\n\u001b[0;32m   1176\u001b[0m             f,\n\u001b[0;32m   1177\u001b[0m             convert\u001b[39m=\u001b[39;49m\u001b[39mself\u001b[39;49m\u001b[39m.\u001b[39;49mconvert_dtype,\n\u001b[0;32m   1178\u001b[0m         )\n\u001b[0;32m   1180\u001b[0m \u001b[39mif\u001b[39;00m \u001b[39mlen\u001b[39m(mapped) \u001b[39mand\u001b[39;00m \u001b[39misinstance\u001b[39m(mapped[\u001b[39m0\u001b[39m], ABCSeries):\n\u001b[0;32m   1181\u001b[0m     \u001b[39m# GH#43986 Need to do list(mapped) in order to get treated as nested\u001b[39;00m\n\u001b[0;32m   1182\u001b[0m     \u001b[39m#  See also GH#25959 regarding EA support\u001b[39;00m\n\u001b[0;32m   1183\u001b[0m     \u001b[39mreturn\u001b[39;00m obj\u001b[39m.\u001b[39m_constructor_expanddim(\u001b[39mlist\u001b[39m(mapped), index\u001b[39m=\u001b[39mobj\u001b[39m.\u001b[39mindex)\n",
      "File \u001b[1;32mc:\\Users\\bugae\\ML\\venv\\lib\\site-packages\\pandas\\_libs\\lib.pyx:2924\u001b[0m, in \u001b[0;36mpandas._libs.lib.map_infer\u001b[1;34m()\u001b[0m\n",
      "Cell \u001b[1;32mIn[96], line 1\u001b[0m, in \u001b[0;36m<lambda>\u001b[1;34m(x)\u001b[0m\n\u001b[1;32m----> 1\u001b[0m table[\u001b[39m'\u001b[39m\u001b[39mdate\u001b[39m\u001b[39m'\u001b[39m]\u001b[39m.\u001b[39mapply(\u001b[39mlambda\u001b[39;00m x: x \u001b[39m+\u001b[39;49m \u001b[39m'\u001b[39;49m\u001b[39mrrerer\u001b[39;49m\u001b[39m'\u001b[39;49m)\n",
      "\u001b[1;31mTypeError\u001b[0m: unsupported operand type(s) for +: 'float' and 'str'"
     ]
    }
   ],
   "source": [
    "table['date'] = table['date'].apply(lambda x: x.split('-')[1])"
   ]
  },
  {
   "cell_type": "markdown",
   "id": "494fb185",
   "metadata": {},
   "source": [
    "Проверка датасета на наличие пустых данных"
   ]
  },
  {
   "cell_type": "code",
   "execution_count": 68,
   "id": "c9e196d4",
   "metadata": {},
   "outputs": [
    {
     "name": "stdout",
     "output_type": "stream",
     "text": [
      "В столбце RH_2 есть пустые элементы\n",
      "В столбце RH_4 есть пустые элементы\n",
      "В столбце RH_5 есть пустые элементы\n",
      "В столбце RH_6 есть пустые элементы\n",
      "В столбце T7 есть пустые элементы\n",
      "В столбце T8 есть пустые элементы\n",
      "В столбце T9 есть пустые элементы\n",
      "В столбце RH_9 есть пустые элементы\n",
      "В столбце T_out есть пустые элементы\n",
      "В столбце Press_mm_hg есть пустые элементы\n",
      "В столбце RH_out есть пустые элементы\n",
      "В столбце Visibility есть пустые элементы\n",
      "['RH_2', 'RH_4', 'RH_5', 'RH_6', 'T7', 'T8', 'T9', 'RH_9', 'T_out', 'Press_mm_hg', 'RH_out', 'Visibility']\n"
     ]
    }
   ],
   "source": [
    "null_columns = []\n",
    "for i in table.columns:\n",
    "    if len(table[table[i].isnull()]) > 0:\n",
    "        print(f\"В столбце {i} есть пустые элементы\")\n",
    "        null_columns.append(i)\n",
    "print(null_columns)"
   ]
  },
  {
   "cell_type": "code",
   "execution_count": 69,
   "id": "9ba89764",
   "metadata": {},
   "outputs": [],
   "source": [
    "for name in null_columns:\n",
    "    fill_empty_cell(name, table)"
   ]
  },
  {
   "cell_type": "code",
   "execution_count": 70,
   "id": "10f9a516",
   "metadata": {},
   "outputs": [],
   "source": [
    "for i in table.columns:\n",
    "    if len(table[table[i].isnull()]) > 0:\n",
    "        print(f\"В столбце {i} есть пустые элементы\")"
   ]
  },
  {
   "cell_type": "code",
   "execution_count": 71,
   "id": "784efa80",
   "metadata": {},
   "outputs": [],
   "source": [
    "table.to_csv('../data/energy_task_compleated.csv') "
   ]
  },
  {
   "cell_type": "markdown",
   "id": "7f341f63",
   "metadata": {},
   "source": [
    "Создание обучающей выборки"
   ]
  },
  {
   "cell_type": "code",
   "execution_count": 72,
   "id": "f89cb2c0",
   "metadata": {},
   "outputs": [],
   "source": [
    "y = table[\"Appliances\"]\n",
    "X = table.drop([\"Appliances\"], axis=1)"
   ]
  },
  {
   "cell_type": "code",
   "execution_count": 73,
   "id": "967ae018",
   "metadata": {},
   "outputs": [],
   "source": [
    "X_train, X_test, y_train, y_test = train_test_split(X, y, test_size=0.3)"
   ]
  },
  {
   "cell_type": "markdown",
   "id": "bc1f9c5d",
   "metadata": {},
   "source": [
    "1. Простая линейная регрессия"
   ]
  },
  {
   "cell_type": "code",
   "execution_count": 74,
   "id": "14c63a17",
   "metadata": {},
   "outputs": [
    {
     "name": "stdout",
     "output_type": "stream",
     "text": [
      "MAE: 52.96789474656608\n",
      "MSE: 9037.565781570385\n",
      "RMSE: 95.06611268780472\n",
      "MAPE: 0.7823947144754213\n",
      "R^2: 0.16702458909428375\n"
     ]
    }
   ],
   "source": [
    "lr = LinearRegression().fit(X_train, y_train)\n",
    "y1_predict = lr.predict(X_test)\n",
    "metrics(y_test, y1_predict)"
   ]
  },
  {
   "cell_type": "code",
   "execution_count": 75,
   "id": "cea4eb0a",
   "metadata": {},
   "outputs": [],
   "source": [
    "from pathlib import Path\n",
    "import os\n",
    "import sys\n",
    "\n",
    "sys.path.append(str(Path(os.getcwd()).parent))"
   ]
  },
  {
   "cell_type": "code",
   "execution_count": 76,
   "id": "2d03c4e9",
   "metadata": {},
   "outputs": [
    {
     "name": "stdout",
     "output_type": "stream",
     "text": [
      "MAE: 52.96789474656608\n",
      "MSE: 9037.565781570385\n",
      "RMSE: 95.06611268780472\n",
      "MAPE: 0.612141489239076\n",
      "R^2: 0.16702458909428375\n"
     ]
    }
   ],
   "source": [
    "from mylib.Metrics import all_metrics\n",
    "\n",
    "\n",
    "all_metrics(y_test, y1_predict)"
   ]
  },
  {
   "cell_type": "markdown",
   "id": "f0544cde",
   "metadata": {},
   "source": [
    "2. L1 - Lasso (подбор гиперпараметра + модель)"
   ]
  },
  {
   "cell_type": "code",
   "execution_count": 77,
   "id": "f5223846",
   "metadata": {},
   "outputs": [
    {
     "name": "stderr",
     "output_type": "stream",
     "text": [
      "c:\\Users\\bugae\\ML\\venv\\lib\\site-packages\\sklearn\\model_selection\\_search.py:305: UserWarning: The total space of parameters 4 is smaller than n_iter=10. Running 4 iterations. For exhaustive searches, use GridSearchCV.\n",
      "  warnings.warn(\n"
     ]
    },
    {
     "name": "stdout",
     "output_type": "stream",
     "text": [
      "MAE: 52.90925274815981\n",
      "MSE: 9044.870333685314\n",
      "RMSE: 95.10452320308069\n",
      "MAPE: 0.7817002016370093\n",
      "R^2: 0.16635134228795656\n"
     ]
    }
   ],
   "source": [
    "l = create_lasso_with_hyperparameter(X_train, y_train)\n",
    "y2_predict = l.predict(X_test)\n",
    "metrics(y_test, y2_predict)"
   ]
  },
  {
   "cell_type": "markdown",
   "id": "433cd483",
   "metadata": {},
   "source": [
    "3. L2 - Ridge (подбор гиперпараметра + модель)"
   ]
  },
  {
   "cell_type": "code",
   "execution_count": 78,
   "id": "fd4ecc50",
   "metadata": {},
   "outputs": [
    {
     "name": "stdout",
     "output_type": "stream",
     "text": [
      "MAE: 52.96771597643805\n",
      "MSE: 9037.59341153058\n",
      "RMSE: 95.06625800740545\n",
      "MAPE: 0.782392801024203\n",
      "R^2: 0.16702204249290853\n"
     ]
    }
   ],
   "source": [
    "r = create_ridge_with_hyperparameter(X_train, y_train)\n",
    "y3_predict = r.predict(X_test)\n",
    "metrics(y_test, y3_predict)"
   ]
  },
  {
   "cell_type": "markdown",
   "id": "e7a2528a",
   "metadata": {},
   "source": [
    "4. Полиномиальная регрессия"
   ]
  },
  {
   "cell_type": "code",
   "execution_count": 79,
   "id": "969dbcaf",
   "metadata": {},
   "outputs": [],
   "source": [
    "table_p = table.drop(columns=[\"T1\", \"RH_4\", \"RH_6\", \"T7\"])\n",
    "y_p = table_p[\"Appliances\"]\n",
    "X_p = table_p.drop([\"Appliances\"], axis=1)\n",
    "X_p_train, X_p_test, y_p_train, y_p_test = train_test_split(X_p, y_p, test_size=0.5, random_state=42)"
   ]
  },
  {
   "cell_type": "code",
   "execution_count": 80,
   "id": "1b230693",
   "metadata": {},
   "outputs": [],
   "source": [
    "p = PolynomialFeatures(2)\n",
    "X_PolynomialFeatures_train = p.fit_transform(X_p_train)\n",
    "X_PolynomialFeatures_test = p.fit_transform(X_p_test)"
   ]
  },
  {
   "cell_type": "code",
   "execution_count": 81,
   "id": "13e46681",
   "metadata": {},
   "outputs": [
    {
     "name": "stdout",
     "output_type": "stream",
     "text": [
      "MAE: 51.22504792139761\n",
      "MSE: 8379.987073571694\n",
      "RMSE: 91.54226932718947\n",
      "MAPE: 0.7570103636878832\n",
      "R^2: 0.2214063427791635\n"
     ]
    }
   ],
   "source": [
    "lr2 = LinearRegression().fit(X_PolynomialFeatures_train, y_p_train)\n",
    "y_PolynomialFeatures_predict = lr2.predict(X_PolynomialFeatures_test)\n",
    "metrics(y_p_test, y_PolynomialFeatures_predict)"
   ]
  },
  {
   "cell_type": "markdown",
   "id": "afc18edf",
   "metadata": {},
   "source": [
    "5. Полиномиальная регрессия + Ridge"
   ]
  },
  {
   "cell_type": "code",
   "execution_count": 82,
   "id": "2a76b0b8",
   "metadata": {},
   "outputs": [
    {
     "name": "stdout",
     "output_type": "stream",
     "text": [
      "MAE: 51.08247223497446\n",
      "MSE: 8368.374996580362\n",
      "RMSE: 91.47882266721824\n",
      "MAPE: 0.75525861732351\n",
      "R^2: 0.22248523340432025\n"
     ]
    }
   ],
   "source": [
    "r_p = create_ridge_with_hyperparameter(X_PolynomialFeatures_train, y_p_train)\n",
    "y_p_ridge_predict = r_p.predict(X_PolynomialFeatures_test)\n",
    "metrics(y_p_test, y_p_ridge_predict)"
   ]
  },
  {
   "cell_type": "markdown",
   "id": "18102d89",
   "metadata": {},
   "source": [
    "6. Полиномиальная регрессия + Lasso"
   ]
  },
  {
   "cell_type": "code",
   "execution_count": 83,
   "id": "883b7463",
   "metadata": {},
   "outputs": [
    {
     "name": "stderr",
     "output_type": "stream",
     "text": [
      "c:\\Users\\bugae\\ML\\venv\\lib\\site-packages\\sklearn\\model_selection\\_search.py:305: UserWarning: The total space of parameters 4 is smaller than n_iter=10. Running 4 iterations. For exhaustive searches, use GridSearchCV.\n",
      "  warnings.warn(\n",
      "c:\\Users\\bugae\\ML\\venv\\lib\\site-packages\\sklearn\\linear_model\\_coordinate_descent.py:631: ConvergenceWarning: Objective did not converge. You might want to increase the number of iterations, check the scale of the features or consider increasing regularisation. Duality gap: 3.095e+07, tolerance: 8.158e+03\n",
      "  model = cd_fast.enet_coordinate_descent(\n",
      "c:\\Users\\bugae\\ML\\venv\\lib\\site-packages\\sklearn\\linear_model\\_coordinate_descent.py:631: ConvergenceWarning: Objective did not converge. You might want to increase the number of iterations, check the scale of the features or consider increasing regularisation. Duality gap: 2.964e+07, tolerance: 7.867e+03\n",
      "  model = cd_fast.enet_coordinate_descent(\n",
      "c:\\Users\\bugae\\ML\\venv\\lib\\site-packages\\sklearn\\linear_model\\_coordinate_descent.py:631: ConvergenceWarning: Objective did not converge. You might want to increase the number of iterations, check the scale of the features or consider increasing regularisation. Duality gap: 3.112e+07, tolerance: 8.306e+03\n",
      "  model = cd_fast.enet_coordinate_descent(\n",
      "c:\\Users\\bugae\\ML\\venv\\lib\\site-packages\\sklearn\\linear_model\\_coordinate_descent.py:631: ConvergenceWarning: Objective did not converge. You might want to increase the number of iterations, check the scale of the features or consider increasing regularisation. Duality gap: 3.002e+07, tolerance: 7.955e+03\n",
      "  model = cd_fast.enet_coordinate_descent(\n"
     ]
    },
    {
     "ename": "KeyboardInterrupt",
     "evalue": "",
     "output_type": "error",
     "traceback": [
      "\u001b[1;31m---------------------------------------------------------------------------\u001b[0m",
      "\u001b[1;31mKeyboardInterrupt\u001b[0m                         Traceback (most recent call last)",
      "Cell \u001b[1;32mIn[83], line 1\u001b[0m\n\u001b[1;32m----> 1\u001b[0m l_p \u001b[39m=\u001b[39m create_lasso_with_hyperparameter(X_PolynomialFeatures_train, y_p_train)\n\u001b[0;32m      2\u001b[0m y_p_lasso_predict \u001b[39m=\u001b[39m l_p\u001b[39m.\u001b[39mpredict(X_PolynomialFeatures_test)\n\u001b[0;32m      3\u001b[0m metrics(y_p_test, y_p_ridge_predict)\n",
      "Cell \u001b[1;32mIn[66], line 3\u001b[0m, in \u001b[0;36mcreate_lasso_with_hyperparameter\u001b[1;34m(X_train, y_train)\u001b[0m\n\u001b[0;32m      1\u001b[0m \u001b[39mdef\u001b[39;00m \u001b[39mcreate_lasso_with_hyperparameter\u001b[39m(X_train, y_train) \u001b[39m-\u001b[39m\u001b[39m>\u001b[39m Lasso:\n\u001b[0;32m      2\u001b[0m     alpha \u001b[39m=\u001b[39m {\u001b[39m'\u001b[39m\u001b[39malpha\u001b[39m\u001b[39m'\u001b[39m: np\u001b[39m.\u001b[39marange(\u001b[39m0.2\u001b[39m, \u001b[39m1\u001b[39m, \u001b[39m0.2\u001b[39m)}\n\u001b[1;32m----> 3\u001b[0m     lasso \u001b[39m=\u001b[39m RandomizedSearchCV(Lasso(), alpha)\u001b[39m.\u001b[39;49mfit(X_train, y_train)\n\u001b[0;32m      4\u001b[0m     \u001b[39mreturn\u001b[39;00m lasso\n",
      "File \u001b[1;32mc:\\Users\\bugae\\ML\\venv\\lib\\site-packages\\sklearn\\model_selection\\_search.py:874\u001b[0m, in \u001b[0;36mBaseSearchCV.fit\u001b[1;34m(self, X, y, groups, **fit_params)\u001b[0m\n\u001b[0;32m    868\u001b[0m     results \u001b[39m=\u001b[39m \u001b[39mself\u001b[39m\u001b[39m.\u001b[39m_format_results(\n\u001b[0;32m    869\u001b[0m         all_candidate_params, n_splits, all_out, all_more_results\n\u001b[0;32m    870\u001b[0m     )\n\u001b[0;32m    872\u001b[0m     \u001b[39mreturn\u001b[39;00m results\n\u001b[1;32m--> 874\u001b[0m \u001b[39mself\u001b[39;49m\u001b[39m.\u001b[39;49m_run_search(evaluate_candidates)\n\u001b[0;32m    876\u001b[0m \u001b[39m# multimetric is determined here because in the case of a callable\u001b[39;00m\n\u001b[0;32m    877\u001b[0m \u001b[39m# self.scoring the return type is only known after calling\u001b[39;00m\n\u001b[0;32m    878\u001b[0m first_test_score \u001b[39m=\u001b[39m all_out[\u001b[39m0\u001b[39m][\u001b[39m\"\u001b[39m\u001b[39mtest_scores\u001b[39m\u001b[39m\"\u001b[39m]\n",
      "File \u001b[1;32mc:\\Users\\bugae\\ML\\venv\\lib\\site-packages\\sklearn\\model_selection\\_search.py:1768\u001b[0m, in \u001b[0;36mRandomizedSearchCV._run_search\u001b[1;34m(self, evaluate_candidates)\u001b[0m\n\u001b[0;32m   1766\u001b[0m \u001b[39mdef\u001b[39;00m \u001b[39m_run_search\u001b[39m(\u001b[39mself\u001b[39m, evaluate_candidates):\n\u001b[0;32m   1767\u001b[0m \u001b[39m    \u001b[39m\u001b[39m\"\"\"Search n_iter candidates from param_distributions\"\"\"\u001b[39;00m\n\u001b[1;32m-> 1768\u001b[0m     evaluate_candidates(\n\u001b[0;32m   1769\u001b[0m         ParameterSampler(\n\u001b[0;32m   1770\u001b[0m             \u001b[39mself\u001b[39;49m\u001b[39m.\u001b[39;49mparam_distributions, \u001b[39mself\u001b[39;49m\u001b[39m.\u001b[39;49mn_iter, random_state\u001b[39m=\u001b[39;49m\u001b[39mself\u001b[39;49m\u001b[39m.\u001b[39;49mrandom_state\n\u001b[0;32m   1771\u001b[0m         )\n\u001b[0;32m   1772\u001b[0m     )\n",
      "File \u001b[1;32mc:\\Users\\bugae\\ML\\venv\\lib\\site-packages\\sklearn\\model_selection\\_search.py:821\u001b[0m, in \u001b[0;36mBaseSearchCV.fit.<locals>.evaluate_candidates\u001b[1;34m(candidate_params, cv, more_results)\u001b[0m\n\u001b[0;32m    813\u001b[0m \u001b[39mif\u001b[39;00m \u001b[39mself\u001b[39m\u001b[39m.\u001b[39mverbose \u001b[39m>\u001b[39m \u001b[39m0\u001b[39m:\n\u001b[0;32m    814\u001b[0m     \u001b[39mprint\u001b[39m(\n\u001b[0;32m    815\u001b[0m         \u001b[39m\"\u001b[39m\u001b[39mFitting \u001b[39m\u001b[39m{0}\u001b[39;00m\u001b[39m folds for each of \u001b[39m\u001b[39m{1}\u001b[39;00m\u001b[39m candidates,\u001b[39m\u001b[39m\"\u001b[39m\n\u001b[0;32m    816\u001b[0m         \u001b[39m\"\u001b[39m\u001b[39m totalling \u001b[39m\u001b[39m{2}\u001b[39;00m\u001b[39m fits\u001b[39m\u001b[39m\"\u001b[39m\u001b[39m.\u001b[39mformat(\n\u001b[0;32m    817\u001b[0m             n_splits, n_candidates, n_candidates \u001b[39m*\u001b[39m n_splits\n\u001b[0;32m    818\u001b[0m         )\n\u001b[0;32m    819\u001b[0m     )\n\u001b[1;32m--> 821\u001b[0m out \u001b[39m=\u001b[39m parallel(\n\u001b[0;32m    822\u001b[0m     delayed(_fit_and_score)(\n\u001b[0;32m    823\u001b[0m         clone(base_estimator),\n\u001b[0;32m    824\u001b[0m         X,\n\u001b[0;32m    825\u001b[0m         y,\n\u001b[0;32m    826\u001b[0m         train\u001b[39m=\u001b[39;49mtrain,\n\u001b[0;32m    827\u001b[0m         test\u001b[39m=\u001b[39;49mtest,\n\u001b[0;32m    828\u001b[0m         parameters\u001b[39m=\u001b[39;49mparameters,\n\u001b[0;32m    829\u001b[0m         split_progress\u001b[39m=\u001b[39;49m(split_idx, n_splits),\n\u001b[0;32m    830\u001b[0m         candidate_progress\u001b[39m=\u001b[39;49m(cand_idx, n_candidates),\n\u001b[0;32m    831\u001b[0m         \u001b[39m*\u001b[39;49m\u001b[39m*\u001b[39;49mfit_and_score_kwargs,\n\u001b[0;32m    832\u001b[0m     )\n\u001b[0;32m    833\u001b[0m     \u001b[39mfor\u001b[39;49;00m (cand_idx, parameters), (split_idx, (train, test)) \u001b[39min\u001b[39;49;00m product(\n\u001b[0;32m    834\u001b[0m         \u001b[39menumerate\u001b[39;49m(candidate_params), \u001b[39menumerate\u001b[39;49m(cv\u001b[39m.\u001b[39;49msplit(X, y, groups))\n\u001b[0;32m    835\u001b[0m     )\n\u001b[0;32m    836\u001b[0m )\n\u001b[0;32m    838\u001b[0m \u001b[39mif\u001b[39;00m \u001b[39mlen\u001b[39m(out) \u001b[39m<\u001b[39m \u001b[39m1\u001b[39m:\n\u001b[0;32m    839\u001b[0m     \u001b[39mraise\u001b[39;00m \u001b[39mValueError\u001b[39;00m(\n\u001b[0;32m    840\u001b[0m         \u001b[39m\"\u001b[39m\u001b[39mNo fits were performed. \u001b[39m\u001b[39m\"\u001b[39m\n\u001b[0;32m    841\u001b[0m         \u001b[39m\"\u001b[39m\u001b[39mWas the CV iterator empty? \u001b[39m\u001b[39m\"\u001b[39m\n\u001b[0;32m    842\u001b[0m         \u001b[39m\"\u001b[39m\u001b[39mWere there no candidates?\u001b[39m\u001b[39m\"\u001b[39m\n\u001b[0;32m    843\u001b[0m     )\n",
      "File \u001b[1;32mc:\\Users\\bugae\\ML\\venv\\lib\\site-packages\\sklearn\\utils\\parallel.py:63\u001b[0m, in \u001b[0;36mParallel.__call__\u001b[1;34m(self, iterable)\u001b[0m\n\u001b[0;32m     58\u001b[0m config \u001b[39m=\u001b[39m get_config()\n\u001b[0;32m     59\u001b[0m iterable_with_config \u001b[39m=\u001b[39m (\n\u001b[0;32m     60\u001b[0m     (_with_config(delayed_func, config), args, kwargs)\n\u001b[0;32m     61\u001b[0m     \u001b[39mfor\u001b[39;00m delayed_func, args, kwargs \u001b[39min\u001b[39;00m iterable\n\u001b[0;32m     62\u001b[0m )\n\u001b[1;32m---> 63\u001b[0m \u001b[39mreturn\u001b[39;00m \u001b[39msuper\u001b[39;49m()\u001b[39m.\u001b[39;49m\u001b[39m__call__\u001b[39;49m(iterable_with_config)\n",
      "File \u001b[1;32mc:\\Users\\bugae\\ML\\venv\\lib\\site-packages\\joblib\\parallel.py:1088\u001b[0m, in \u001b[0;36mParallel.__call__\u001b[1;34m(self, iterable)\u001b[0m\n\u001b[0;32m   1085\u001b[0m \u001b[39mif\u001b[39;00m \u001b[39mself\u001b[39m\u001b[39m.\u001b[39mdispatch_one_batch(iterator):\n\u001b[0;32m   1086\u001b[0m     \u001b[39mself\u001b[39m\u001b[39m.\u001b[39m_iterating \u001b[39m=\u001b[39m \u001b[39mself\u001b[39m\u001b[39m.\u001b[39m_original_iterator \u001b[39mis\u001b[39;00m \u001b[39mnot\u001b[39;00m \u001b[39mNone\u001b[39;00m\n\u001b[1;32m-> 1088\u001b[0m \u001b[39mwhile\u001b[39;00m \u001b[39mself\u001b[39;49m\u001b[39m.\u001b[39;49mdispatch_one_batch(iterator):\n\u001b[0;32m   1089\u001b[0m     \u001b[39mpass\u001b[39;00m\n\u001b[0;32m   1091\u001b[0m \u001b[39mif\u001b[39;00m pre_dispatch \u001b[39m==\u001b[39m \u001b[39m\"\u001b[39m\u001b[39mall\u001b[39m\u001b[39m\"\u001b[39m \u001b[39mor\u001b[39;00m n_jobs \u001b[39m==\u001b[39m \u001b[39m1\u001b[39m:\n\u001b[0;32m   1092\u001b[0m     \u001b[39m# The iterable was consumed all at once by the above for loop.\u001b[39;00m\n\u001b[0;32m   1093\u001b[0m     \u001b[39m# No need to wait for async callbacks to trigger to\u001b[39;00m\n\u001b[0;32m   1094\u001b[0m     \u001b[39m# consumption.\u001b[39;00m\n",
      "File \u001b[1;32mc:\\Users\\bugae\\ML\\venv\\lib\\site-packages\\joblib\\parallel.py:901\u001b[0m, in \u001b[0;36mParallel.dispatch_one_batch\u001b[1;34m(self, iterator)\u001b[0m\n\u001b[0;32m    899\u001b[0m     \u001b[39mreturn\u001b[39;00m \u001b[39mFalse\u001b[39;00m\n\u001b[0;32m    900\u001b[0m \u001b[39melse\u001b[39;00m:\n\u001b[1;32m--> 901\u001b[0m     \u001b[39mself\u001b[39;49m\u001b[39m.\u001b[39;49m_dispatch(tasks)\n\u001b[0;32m    902\u001b[0m     \u001b[39mreturn\u001b[39;00m \u001b[39mTrue\u001b[39;00m\n",
      "File \u001b[1;32mc:\\Users\\bugae\\ML\\venv\\lib\\site-packages\\joblib\\parallel.py:819\u001b[0m, in \u001b[0;36mParallel._dispatch\u001b[1;34m(self, batch)\u001b[0m\n\u001b[0;32m    817\u001b[0m \u001b[39mwith\u001b[39;00m \u001b[39mself\u001b[39m\u001b[39m.\u001b[39m_lock:\n\u001b[0;32m    818\u001b[0m     job_idx \u001b[39m=\u001b[39m \u001b[39mlen\u001b[39m(\u001b[39mself\u001b[39m\u001b[39m.\u001b[39m_jobs)\n\u001b[1;32m--> 819\u001b[0m     job \u001b[39m=\u001b[39m \u001b[39mself\u001b[39;49m\u001b[39m.\u001b[39;49m_backend\u001b[39m.\u001b[39;49mapply_async(batch, callback\u001b[39m=\u001b[39;49mcb)\n\u001b[0;32m    820\u001b[0m     \u001b[39m# A job can complete so quickly than its callback is\u001b[39;00m\n\u001b[0;32m    821\u001b[0m     \u001b[39m# called before we get here, causing self._jobs to\u001b[39;00m\n\u001b[0;32m    822\u001b[0m     \u001b[39m# grow. To ensure correct results ordering, .insert is\u001b[39;00m\n\u001b[0;32m    823\u001b[0m     \u001b[39m# used (rather than .append) in the following line\u001b[39;00m\n\u001b[0;32m    824\u001b[0m     \u001b[39mself\u001b[39m\u001b[39m.\u001b[39m_jobs\u001b[39m.\u001b[39minsert(job_idx, job)\n",
      "File \u001b[1;32mc:\\Users\\bugae\\ML\\venv\\lib\\site-packages\\joblib\\_parallel_backends.py:208\u001b[0m, in \u001b[0;36mSequentialBackend.apply_async\u001b[1;34m(self, func, callback)\u001b[0m\n\u001b[0;32m    206\u001b[0m \u001b[39mdef\u001b[39;00m \u001b[39mapply_async\u001b[39m(\u001b[39mself\u001b[39m, func, callback\u001b[39m=\u001b[39m\u001b[39mNone\u001b[39;00m):\n\u001b[0;32m    207\u001b[0m \u001b[39m    \u001b[39m\u001b[39m\"\"\"Schedule a func to be run\"\"\"\u001b[39;00m\n\u001b[1;32m--> 208\u001b[0m     result \u001b[39m=\u001b[39m ImmediateResult(func)\n\u001b[0;32m    209\u001b[0m     \u001b[39mif\u001b[39;00m callback:\n\u001b[0;32m    210\u001b[0m         callback(result)\n",
      "File \u001b[1;32mc:\\Users\\bugae\\ML\\venv\\lib\\site-packages\\joblib\\_parallel_backends.py:597\u001b[0m, in \u001b[0;36mImmediateResult.__init__\u001b[1;34m(self, batch)\u001b[0m\n\u001b[0;32m    594\u001b[0m \u001b[39mdef\u001b[39;00m \u001b[39m__init__\u001b[39m(\u001b[39mself\u001b[39m, batch):\n\u001b[0;32m    595\u001b[0m     \u001b[39m# Don't delay the application, to avoid keeping the input\u001b[39;00m\n\u001b[0;32m    596\u001b[0m     \u001b[39m# arguments in memory\u001b[39;00m\n\u001b[1;32m--> 597\u001b[0m     \u001b[39mself\u001b[39m\u001b[39m.\u001b[39mresults \u001b[39m=\u001b[39m batch()\n",
      "File \u001b[1;32mc:\\Users\\bugae\\ML\\venv\\lib\\site-packages\\joblib\\parallel.py:288\u001b[0m, in \u001b[0;36mBatchedCalls.__call__\u001b[1;34m(self)\u001b[0m\n\u001b[0;32m    284\u001b[0m \u001b[39mdef\u001b[39;00m \u001b[39m__call__\u001b[39m(\u001b[39mself\u001b[39m):\n\u001b[0;32m    285\u001b[0m     \u001b[39m# Set the default nested backend to self._backend but do not set the\u001b[39;00m\n\u001b[0;32m    286\u001b[0m     \u001b[39m# change the default number of processes to -1\u001b[39;00m\n\u001b[0;32m    287\u001b[0m     \u001b[39mwith\u001b[39;00m parallel_backend(\u001b[39mself\u001b[39m\u001b[39m.\u001b[39m_backend, n_jobs\u001b[39m=\u001b[39m\u001b[39mself\u001b[39m\u001b[39m.\u001b[39m_n_jobs):\n\u001b[1;32m--> 288\u001b[0m         \u001b[39mreturn\u001b[39;00m [func(\u001b[39m*\u001b[39margs, \u001b[39m*\u001b[39m\u001b[39m*\u001b[39mkwargs)\n\u001b[0;32m    289\u001b[0m                 \u001b[39mfor\u001b[39;00m func, args, kwargs \u001b[39min\u001b[39;00m \u001b[39mself\u001b[39m\u001b[39m.\u001b[39mitems]\n",
      "File \u001b[1;32mc:\\Users\\bugae\\ML\\venv\\lib\\site-packages\\joblib\\parallel.py:288\u001b[0m, in \u001b[0;36m<listcomp>\u001b[1;34m(.0)\u001b[0m\n\u001b[0;32m    284\u001b[0m \u001b[39mdef\u001b[39;00m \u001b[39m__call__\u001b[39m(\u001b[39mself\u001b[39m):\n\u001b[0;32m    285\u001b[0m     \u001b[39m# Set the default nested backend to self._backend but do not set the\u001b[39;00m\n\u001b[0;32m    286\u001b[0m     \u001b[39m# change the default number of processes to -1\u001b[39;00m\n\u001b[0;32m    287\u001b[0m     \u001b[39mwith\u001b[39;00m parallel_backend(\u001b[39mself\u001b[39m\u001b[39m.\u001b[39m_backend, n_jobs\u001b[39m=\u001b[39m\u001b[39mself\u001b[39m\u001b[39m.\u001b[39m_n_jobs):\n\u001b[1;32m--> 288\u001b[0m         \u001b[39mreturn\u001b[39;00m [func(\u001b[39m*\u001b[39margs, \u001b[39m*\u001b[39m\u001b[39m*\u001b[39mkwargs)\n\u001b[0;32m    289\u001b[0m                 \u001b[39mfor\u001b[39;00m func, args, kwargs \u001b[39min\u001b[39;00m \u001b[39mself\u001b[39m\u001b[39m.\u001b[39mitems]\n",
      "File \u001b[1;32mc:\\Users\\bugae\\ML\\venv\\lib\\site-packages\\sklearn\\utils\\parallel.py:123\u001b[0m, in \u001b[0;36m_FuncWrapper.__call__\u001b[1;34m(self, *args, **kwargs)\u001b[0m\n\u001b[0;32m    121\u001b[0m     config \u001b[39m=\u001b[39m {}\n\u001b[0;32m    122\u001b[0m \u001b[39mwith\u001b[39;00m config_context(\u001b[39m*\u001b[39m\u001b[39m*\u001b[39mconfig):\n\u001b[1;32m--> 123\u001b[0m     \u001b[39mreturn\u001b[39;00m \u001b[39mself\u001b[39m\u001b[39m.\u001b[39mfunction(\u001b[39m*\u001b[39margs, \u001b[39m*\u001b[39m\u001b[39m*\u001b[39mkwargs)\n",
      "File \u001b[1;32mc:\\Users\\bugae\\ML\\venv\\lib\\site-packages\\sklearn\\model_selection\\_validation.py:686\u001b[0m, in \u001b[0;36m_fit_and_score\u001b[1;34m(estimator, X, y, scorer, train, test, verbose, parameters, fit_params, return_train_score, return_parameters, return_n_test_samples, return_times, return_estimator, split_progress, candidate_progress, error_score)\u001b[0m\n\u001b[0;32m    684\u001b[0m         estimator\u001b[39m.\u001b[39mfit(X_train, \u001b[39m*\u001b[39m\u001b[39m*\u001b[39mfit_params)\n\u001b[0;32m    685\u001b[0m     \u001b[39melse\u001b[39;00m:\n\u001b[1;32m--> 686\u001b[0m         estimator\u001b[39m.\u001b[39mfit(X_train, y_train, \u001b[39m*\u001b[39m\u001b[39m*\u001b[39mfit_params)\n\u001b[0;32m    688\u001b[0m \u001b[39mexcept\u001b[39;00m \u001b[39mException\u001b[39;00m:\n\u001b[0;32m    689\u001b[0m     \u001b[39m# Note fit time as time until error\u001b[39;00m\n\u001b[0;32m    690\u001b[0m     fit_time \u001b[39m=\u001b[39m time\u001b[39m.\u001b[39mtime() \u001b[39m-\u001b[39m start_time\n",
      "File \u001b[1;32mc:\\Users\\bugae\\ML\\venv\\lib\\site-packages\\sklearn\\linear_model\\_coordinate_descent.py:1004\u001b[0m, in \u001b[0;36mElasticNet.fit\u001b[1;34m(self, X, y, sample_weight, check_input)\u001b[0m\n\u001b[0;32m   1002\u001b[0m \u001b[39melse\u001b[39;00m:\n\u001b[0;32m   1003\u001b[0m     this_Xy \u001b[39m=\u001b[39m \u001b[39mNone\u001b[39;00m\n\u001b[1;32m-> 1004\u001b[0m _, this_coef, this_dual_gap, this_iter \u001b[39m=\u001b[39m \u001b[39mself\u001b[39;49m\u001b[39m.\u001b[39;49mpath(\n\u001b[0;32m   1005\u001b[0m     X,\n\u001b[0;32m   1006\u001b[0m     y[:, k],\n\u001b[0;32m   1007\u001b[0m     l1_ratio\u001b[39m=\u001b[39;49m\u001b[39mself\u001b[39;49m\u001b[39m.\u001b[39;49ml1_ratio,\n\u001b[0;32m   1008\u001b[0m     eps\u001b[39m=\u001b[39;49m\u001b[39mNone\u001b[39;49;00m,\n\u001b[0;32m   1009\u001b[0m     n_alphas\u001b[39m=\u001b[39;49m\u001b[39mNone\u001b[39;49;00m,\n\u001b[0;32m   1010\u001b[0m     alphas\u001b[39m=\u001b[39;49m[alpha],\n\u001b[0;32m   1011\u001b[0m     precompute\u001b[39m=\u001b[39;49mprecompute,\n\u001b[0;32m   1012\u001b[0m     Xy\u001b[39m=\u001b[39;49mthis_Xy,\n\u001b[0;32m   1013\u001b[0m     copy_X\u001b[39m=\u001b[39;49m\u001b[39mTrue\u001b[39;49;00m,\n\u001b[0;32m   1014\u001b[0m     coef_init\u001b[39m=\u001b[39;49mcoef_[k],\n\u001b[0;32m   1015\u001b[0m     verbose\u001b[39m=\u001b[39;49m\u001b[39mFalse\u001b[39;49;00m,\n\u001b[0;32m   1016\u001b[0m     return_n_iter\u001b[39m=\u001b[39;49m\u001b[39mTrue\u001b[39;49;00m,\n\u001b[0;32m   1017\u001b[0m     positive\u001b[39m=\u001b[39;49m\u001b[39mself\u001b[39;49m\u001b[39m.\u001b[39;49mpositive,\n\u001b[0;32m   1018\u001b[0m     check_input\u001b[39m=\u001b[39;49m\u001b[39mFalse\u001b[39;49;00m,\n\u001b[0;32m   1019\u001b[0m     \u001b[39m# from here on **params\u001b[39;49;00m\n\u001b[0;32m   1020\u001b[0m     tol\u001b[39m=\u001b[39;49m\u001b[39mself\u001b[39;49m\u001b[39m.\u001b[39;49mtol,\n\u001b[0;32m   1021\u001b[0m     X_offset\u001b[39m=\u001b[39;49mX_offset,\n\u001b[0;32m   1022\u001b[0m     X_scale\u001b[39m=\u001b[39;49mX_scale,\n\u001b[0;32m   1023\u001b[0m     max_iter\u001b[39m=\u001b[39;49m\u001b[39mself\u001b[39;49m\u001b[39m.\u001b[39;49mmax_iter,\n\u001b[0;32m   1024\u001b[0m     random_state\u001b[39m=\u001b[39;49m\u001b[39mself\u001b[39;49m\u001b[39m.\u001b[39;49mrandom_state,\n\u001b[0;32m   1025\u001b[0m     selection\u001b[39m=\u001b[39;49m\u001b[39mself\u001b[39;49m\u001b[39m.\u001b[39;49mselection,\n\u001b[0;32m   1026\u001b[0m     sample_weight\u001b[39m=\u001b[39;49msample_weight,\n\u001b[0;32m   1027\u001b[0m )\n\u001b[0;32m   1028\u001b[0m coef_[k] \u001b[39m=\u001b[39m this_coef[:, \u001b[39m0\u001b[39m]\n\u001b[0;32m   1029\u001b[0m dual_gaps_[k] \u001b[39m=\u001b[39m this_dual_gap[\u001b[39m0\u001b[39m]\n",
      "File \u001b[1;32mc:\\Users\\bugae\\ML\\venv\\lib\\site-packages\\sklearn\\linear_model\\_coordinate_descent.py:631\u001b[0m, in \u001b[0;36menet_path\u001b[1;34m(X, y, l1_ratio, eps, n_alphas, alphas, precompute, Xy, copy_X, coef_init, verbose, return_n_iter, positive, check_input, **params)\u001b[0m\n\u001b[0;32m    617\u001b[0m     model \u001b[39m=\u001b[39m cd_fast\u001b[39m.\u001b[39menet_coordinate_descent_gram(\n\u001b[0;32m    618\u001b[0m         coef_,\n\u001b[0;32m    619\u001b[0m         l1_reg,\n\u001b[1;32m   (...)\u001b[0m\n\u001b[0;32m    628\u001b[0m         positive,\n\u001b[0;32m    629\u001b[0m     )\n\u001b[0;32m    630\u001b[0m \u001b[39melif\u001b[39;00m precompute \u001b[39mis\u001b[39;00m \u001b[39mFalse\u001b[39;00m:\n\u001b[1;32m--> 631\u001b[0m     model \u001b[39m=\u001b[39m cd_fast\u001b[39m.\u001b[39;49menet_coordinate_descent(\n\u001b[0;32m    632\u001b[0m         coef_, l1_reg, l2_reg, X, y, max_iter, tol, rng, random, positive\n\u001b[0;32m    633\u001b[0m     )\n\u001b[0;32m    634\u001b[0m \u001b[39melse\u001b[39;00m:\n\u001b[0;32m    635\u001b[0m     \u001b[39mraise\u001b[39;00m \u001b[39mValueError\u001b[39;00m(\n\u001b[0;32m    636\u001b[0m         \u001b[39m\"\u001b[39m\u001b[39mPrecompute should be one of True, False, \u001b[39m\u001b[39m'\u001b[39m\u001b[39mauto\u001b[39m\u001b[39m'\u001b[39m\u001b[39m or array-like. Got \u001b[39m\u001b[39m%r\u001b[39;00m\u001b[39m\"\u001b[39m\n\u001b[0;32m    637\u001b[0m         \u001b[39m%\u001b[39m precompute\n\u001b[0;32m    638\u001b[0m     )\n",
      "File \u001b[1;32msklearn\\linear_model\\_cd_fast.pyx:264\u001b[0m, in \u001b[0;36msklearn.linear_model._cd_fast.enet_coordinate_descent\u001b[1;34m()\u001b[0m\n",
      "File \u001b[1;32mc:\\Users\\bugae\\ML\\venv\\lib\\site-packages\\numpy\\core\\getlimits.py:478\u001b[0m, in \u001b[0;36mfinfo.__new__\u001b[1;34m(cls, dtype)\u001b[0m\n\u001b[0;32m    476\u001b[0m \u001b[39mdef\u001b[39;00m \u001b[39m__new__\u001b[39m(\u001b[39mcls\u001b[39m, dtype):\n\u001b[0;32m    477\u001b[0m     \u001b[39mtry\u001b[39;00m:\n\u001b[1;32m--> 478\u001b[0m         dtype \u001b[39m=\u001b[39m numeric\u001b[39m.\u001b[39;49mdtype(dtype)\n\u001b[0;32m    479\u001b[0m     \u001b[39mexcept\u001b[39;00m \u001b[39mTypeError\u001b[39;00m:\n\u001b[0;32m    480\u001b[0m         \u001b[39m# In case a float instance was given\u001b[39;00m\n\u001b[0;32m    481\u001b[0m         dtype \u001b[39m=\u001b[39m numeric\u001b[39m.\u001b[39mdtype(\u001b[39mtype\u001b[39m(dtype))\n",
      "\u001b[1;31mKeyboardInterrupt\u001b[0m: "
     ]
    }
   ],
   "source": [
    "l_p = create_lasso_with_hyperparameter(X_PolynomialFeatures_train, y_p_train)\n",
    "y_p_lasso_predict = l_p.predict(X_PolynomialFeatures_test)\n",
    "metrics(y_p_test, y_p_ridge_predict)"
   ]
  }
 ],
 "metadata": {
  "kernelspec": {
   "display_name": "Python 3 (ipykernel)",
   "language": "python",
   "name": "python3"
  },
  "language_info": {
   "codemirror_mode": {
    "name": "ipython",
    "version": 3
   },
   "file_extension": ".py",
   "mimetype": "text/x-python",
   "name": "python",
   "nbconvert_exporter": "python",
   "pygments_lexer": "ipython3",
   "version": "3.10.10"
  },
  "vscode": {
   "interpreter": {
    "hash": "ded057bdc669a491efb1f119c5211a8e9762fe6800dcb278596818a39d1d89d2"
   }
  }
 },
 "nbformat": 4,
 "nbformat_minor": 5
}

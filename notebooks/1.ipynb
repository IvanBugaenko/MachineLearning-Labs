{
 "cells": [
  {
   "cell_type": "markdown",
   "id": "43dfc1f0",
   "metadata": {},
   "source": [
    "# Лабораторная работа 1. Введение в машинное обучение. Обучение с учителем. Задача регрессии"
   ]
  },
  {
   "cell_type": "markdown",
   "id": "af0b0580",
   "metadata": {},
   "source": [
    "<b>Традиционное предупреждение для всех лабораторных работ:</b> перед обучением моделей необходимо выполнить предварительную обработку данных, которая <b>обязательно</b> включает в себя:\n",
    "- заполнение пропущенных значений (рекомедуется логика заполнения пропусков на основе типа данных, которая использовалась в РГР по Практикуму);\n",
    "- преобразование категориальных признаков в числовые (используйте one-hot кодирование или map; используйте знания с Практикума)."
   ]
  },
  {
   "cell_type": "markdown",
   "id": "b08d9e23",
   "metadata": {},
   "source": [
    "Предобработка может включать в себя другие действия, но выполнение описанных выше действий обязательно."
   ]
  },
  {
   "cell_type": "markdown",
   "id": "05aab9d1",
   "metadata": {},
   "source": [
    "Сделайте это один раз и сохраните в отдельный csv файл, а потом его используйте."
   ]
  },
  {
   "cell_type": "markdown",
   "id": "e053af5b",
   "metadata": {},
   "source": [
    "<b>Выполните следующие задания:</b>\n",
    "- загрузите датасет для регрессии, выделите целевой признак и предикторы, разбейте данные на обучающую и тестовую выборку;\n",
    "- решите задачу регрессии на ваших данных с использованием моделей sklearn (линейная регрессия + L1, L2), для моделей с регуляризациями подберите гиперпараметр;\n",
    "- решите задачу регрессии на ваших данных с использованием моделей sklearn (полиномиальная регрессия + L1, L2), для моделей с регуляризациями подберите гиперпараметр;\n",
    "- вычислите значения метрик $R^2$, MAE, MSE, RMSE, MAPE для всех обученных моделей; выберите лучшую модель;\n",
    "- самостоятельно реализуйте (желательно в виде класса) модель линейной регрессии с регуляризацией (можете выбрать L1 или L2);\n",
    "- самостоятельно реализуйте вычисление всех используемых метрик (в виде функций, принимающих два аргумента);\n",
    "- обучите вашу модель линейной регрессии на ваших данных; оцените качество с помощью реализованных вами метрик."
   ]
  },
  {
   "cell_type": "code",
   "execution_count": 1,
   "id": "f337ad4b",
   "metadata": {},
   "outputs": [],
   "source": [
    "from pathlib import Path\n",
    "import os\n",
    "import sys\n",
    "\n",
    "sys.path.append(str(Path(os.getcwd()).parent))"
   ]
  },
  {
   "cell_type": "code",
   "execution_count": 2,
   "id": "f500beec",
   "metadata": {},
   "outputs": [],
   "source": [
    "import pandas as pd\n",
    "from sklearn.model_selection import train_test_split\n",
    "from sklearn.linear_model import LinearRegression, Lasso, Ridge\n",
    "from sklearn.metrics import mean_squared_error, mean_absolute_error, mean_absolute_percentage_error, r2_score\n",
    "from math import sqrt\n",
    "from sklearn.model_selection import RandomizedSearchCV, GridSearchCV\n",
    "import numpy as np\n",
    "from sklearn.preprocessing import PolynomialFeatures"
   ]
  },
  {
   "cell_type": "markdown",
   "id": "db65d3d8",
   "metadata": {},
   "source": [
    "Функция для вычисления метрик"
   ]
  },
  {
   "cell_type": "code",
   "execution_count": 3,
   "id": "49291f2f",
   "metadata": {},
   "outputs": [],
   "source": [
    "def metrics(test, predict):\n",
    "    print(f'MAE: {mean_absolute_error(test, predict)}')\n",
    "    print(f'MSE: {mean_squared_error(test, predict)}')\n",
    "    print(f'RMSE: {sqrt(mean_squared_error(test, predict))}')\n",
    "    print(f'MAPE: {mean_absolute_percentage_error(test, predict)}')\n",
    "    print(f'R^2: {r2_score(test, predict)}')"
   ]
  },
  {
   "cell_type": "markdown",
   "id": "1f44fcf1",
   "metadata": {},
   "source": [
    "Функция для заполнения пропусков в выборке"
   ]
  },
  {
   "cell_type": "code",
   "execution_count": 4,
   "id": "159d78f9",
   "metadata": {},
   "outputs": [],
   "source": [
    "def fill_empty_cell(column_name, df):\n",
    "    if df.dtypes[column_name] == \"float64\":\n",
    "        df[column_name] = df[column_name].fillna(df[column_name].mean())\n",
    "    elif df.dtypes[column_name] == \"int64\":\n",
    "        df[column_name] = df[column_name].fillna(df[column_name].median())\n",
    "    else:\n",
    "        df[column_name] = df[column_name].fillna(df[column_name].mode())"
   ]
  },
  {
   "cell_type": "markdown",
   "id": "51a64565",
   "metadata": {},
   "source": [
    "Ridge"
   ]
  },
  {
   "cell_type": "code",
   "execution_count": 5,
   "id": "72437d3c",
   "metadata": {},
   "outputs": [],
   "source": [
    "def create_ridge_with_hyperparameter(X_train, y_train) -> Ridge:\n",
    "    alpha = {'alpha': np.arange(0, 1, 0.1)}\n",
    "    ridge = GridSearchCV(Ridge(), alpha).fit(X_train, y_train)\n",
    "    return ridge"
   ]
  },
  {
   "cell_type": "markdown",
   "id": "d044a8d9",
   "metadata": {},
   "source": [
    "Lasso"
   ]
  },
  {
   "cell_type": "code",
   "execution_count": 6,
   "id": "14f19220",
   "metadata": {},
   "outputs": [],
   "source": [
    "def create_lasso_with_hyperparameter(X_train, y_train) -> Lasso:\n",
    "    alpha = {'alpha': np.arange(0, 1, 0.1)}\n",
    "    lasso = RandomizedSearchCV(Lasso(), alpha).fit(X_train, y_train)\n",
    "    return lasso"
   ]
  },
  {
   "cell_type": "code",
   "execution_count": 7,
   "id": "d2e81993",
   "metadata": {},
   "outputs": [],
   "source": [
    "table = pd.read_csv(\"../data/energy_task.csv\", parse_dates=['date'])"
   ]
  },
  {
   "cell_type": "code",
   "execution_count": 8,
   "id": "15a8e5a1",
   "metadata": {},
   "outputs": [
    {
     "data": {
      "text/html": [
       "<div>\n",
       "<style scoped>\n",
       "    .dataframe tbody tr th:only-of-type {\n",
       "        vertical-align: middle;\n",
       "    }\n",
       "\n",
       "    .dataframe tbody tr th {\n",
       "        vertical-align: top;\n",
       "    }\n",
       "\n",
       "    .dataframe thead th {\n",
       "        text-align: right;\n",
       "    }\n",
       "</style>\n",
       "<table border=\"1\" class=\"dataframe\">\n",
       "  <thead>\n",
       "    <tr style=\"text-align: right;\">\n",
       "      <th></th>\n",
       "      <th>Appliances</th>\n",
       "      <th>lights</th>\n",
       "      <th>T1</th>\n",
       "      <th>RH_1</th>\n",
       "      <th>T2</th>\n",
       "      <th>RH_2</th>\n",
       "      <th>T3</th>\n",
       "      <th>RH_3</th>\n",
       "      <th>T4</th>\n",
       "      <th>RH_4</th>\n",
       "      <th>...</th>\n",
       "      <th>RH_8</th>\n",
       "      <th>T9</th>\n",
       "      <th>RH_9</th>\n",
       "      <th>T_out</th>\n",
       "      <th>Press_mm_hg</th>\n",
       "      <th>RH_out</th>\n",
       "      <th>Windspeed</th>\n",
       "      <th>Visibility</th>\n",
       "      <th>Tdewpoint</th>\n",
       "      <th>month</th>\n",
       "    </tr>\n",
       "  </thead>\n",
       "  <tbody>\n",
       "    <tr>\n",
       "      <th>0</th>\n",
       "      <td>60</td>\n",
       "      <td>30</td>\n",
       "      <td>19.890000</td>\n",
       "      <td>47.596667</td>\n",
       "      <td>19.200000</td>\n",
       "      <td>44.790000</td>\n",
       "      <td>19.790000</td>\n",
       "      <td>44.730000</td>\n",
       "      <td>19.000000</td>\n",
       "      <td>45.566667</td>\n",
       "      <td>...</td>\n",
       "      <td>48.900000</td>\n",
       "      <td>17.033333</td>\n",
       "      <td>45.5300</td>\n",
       "      <td>6.60</td>\n",
       "      <td>733.5</td>\n",
       "      <td>92.000000</td>\n",
       "      <td>7.000000</td>\n",
       "      <td>63.000000</td>\n",
       "      <td>5.3</td>\n",
       "      <td>11.0</td>\n",
       "    </tr>\n",
       "    <tr>\n",
       "      <th>1</th>\n",
       "      <td>60</td>\n",
       "      <td>30</td>\n",
       "      <td>19.890000</td>\n",
       "      <td>46.693333</td>\n",
       "      <td>19.200000</td>\n",
       "      <td>44.722500</td>\n",
       "      <td>19.790000</td>\n",
       "      <td>44.790000</td>\n",
       "      <td>19.000000</td>\n",
       "      <td>45.992500</td>\n",
       "      <td>...</td>\n",
       "      <td>48.863333</td>\n",
       "      <td>17.066667</td>\n",
       "      <td>45.5600</td>\n",
       "      <td>6.48</td>\n",
       "      <td>733.6</td>\n",
       "      <td>92.000000</td>\n",
       "      <td>6.666667</td>\n",
       "      <td>59.166667</td>\n",
       "      <td>5.2</td>\n",
       "      <td>11.0</td>\n",
       "    </tr>\n",
       "    <tr>\n",
       "      <th>2</th>\n",
       "      <td>50</td>\n",
       "      <td>30</td>\n",
       "      <td>19.890000</td>\n",
       "      <td>46.300000</td>\n",
       "      <td>19.200000</td>\n",
       "      <td>44.626667</td>\n",
       "      <td>19.790000</td>\n",
       "      <td>44.933333</td>\n",
       "      <td>18.926667</td>\n",
       "      <td>45.890000</td>\n",
       "      <td>...</td>\n",
       "      <td>48.730000</td>\n",
       "      <td>17.000000</td>\n",
       "      <td>45.5000</td>\n",
       "      <td>6.37</td>\n",
       "      <td>733.7</td>\n",
       "      <td>92.000000</td>\n",
       "      <td>6.333333</td>\n",
       "      <td>55.333333</td>\n",
       "      <td>5.1</td>\n",
       "      <td>11.0</td>\n",
       "    </tr>\n",
       "    <tr>\n",
       "      <th>3</th>\n",
       "      <td>50</td>\n",
       "      <td>40</td>\n",
       "      <td>19.890000</td>\n",
       "      <td>46.066667</td>\n",
       "      <td>19.200000</td>\n",
       "      <td>44.590000</td>\n",
       "      <td>19.790000</td>\n",
       "      <td>45.000000</td>\n",
       "      <td>18.890000</td>\n",
       "      <td>45.723333</td>\n",
       "      <td>...</td>\n",
       "      <td>48.590000</td>\n",
       "      <td>17.000000</td>\n",
       "      <td>45.4000</td>\n",
       "      <td>6.25</td>\n",
       "      <td>733.8</td>\n",
       "      <td>92.000000</td>\n",
       "      <td>6.000000</td>\n",
       "      <td>51.500000</td>\n",
       "      <td>5.0</td>\n",
       "      <td>11.0</td>\n",
       "    </tr>\n",
       "    <tr>\n",
       "      <th>4</th>\n",
       "      <td>60</td>\n",
       "      <td>40</td>\n",
       "      <td>19.890000</td>\n",
       "      <td>46.333333</td>\n",
       "      <td>19.200000</td>\n",
       "      <td>44.530000</td>\n",
       "      <td>19.790000</td>\n",
       "      <td>45.000000</td>\n",
       "      <td>18.890000</td>\n",
       "      <td>45.530000</td>\n",
       "      <td>...</td>\n",
       "      <td>48.590000</td>\n",
       "      <td>17.000000</td>\n",
       "      <td>45.4000</td>\n",
       "      <td>6.13</td>\n",
       "      <td>733.9</td>\n",
       "      <td>92.000000</td>\n",
       "      <td>5.666667</td>\n",
       "      <td>47.666667</td>\n",
       "      <td>4.9</td>\n",
       "      <td>11.0</td>\n",
       "    </tr>\n",
       "    <tr>\n",
       "      <th>...</th>\n",
       "      <td>...</td>\n",
       "      <td>...</td>\n",
       "      <td>...</td>\n",
       "      <td>...</td>\n",
       "      <td>...</td>\n",
       "      <td>...</td>\n",
       "      <td>...</td>\n",
       "      <td>...</td>\n",
       "      <td>...</td>\n",
       "      <td>...</td>\n",
       "      <td>...</td>\n",
       "      <td>...</td>\n",
       "      <td>...</td>\n",
       "      <td>...</td>\n",
       "      <td>...</td>\n",
       "      <td>...</td>\n",
       "      <td>...</td>\n",
       "      <td>...</td>\n",
       "      <td>...</td>\n",
       "      <td>...</td>\n",
       "      <td>...</td>\n",
       "    </tr>\n",
       "    <tr>\n",
       "      <th>19730</th>\n",
       "      <td>100</td>\n",
       "      <td>0</td>\n",
       "      <td>25.566667</td>\n",
       "      <td>46.560000</td>\n",
       "      <td>25.890000</td>\n",
       "      <td>42.025714</td>\n",
       "      <td>27.200000</td>\n",
       "      <td>41.163333</td>\n",
       "      <td>24.700000</td>\n",
       "      <td>45.590000</td>\n",
       "      <td>...</td>\n",
       "      <td>50.074000</td>\n",
       "      <td>23.200000</td>\n",
       "      <td>46.7900</td>\n",
       "      <td>22.70</td>\n",
       "      <td>755.2</td>\n",
       "      <td>55.666667</td>\n",
       "      <td>3.333333</td>\n",
       "      <td>23.666667</td>\n",
       "      <td>13.3</td>\n",
       "      <td>5.0</td>\n",
       "    </tr>\n",
       "    <tr>\n",
       "      <th>19731</th>\n",
       "      <td>90</td>\n",
       "      <td>0</td>\n",
       "      <td>25.500000</td>\n",
       "      <td>46.500000</td>\n",
       "      <td>25.754000</td>\n",
       "      <td>42.080000</td>\n",
       "      <td>27.133333</td>\n",
       "      <td>41.223333</td>\n",
       "      <td>24.700000</td>\n",
       "      <td>45.590000</td>\n",
       "      <td>...</td>\n",
       "      <td>49.790000</td>\n",
       "      <td>23.200000</td>\n",
       "      <td>46.7900</td>\n",
       "      <td>22.60</td>\n",
       "      <td>755.2</td>\n",
       "      <td>56.000000</td>\n",
       "      <td>3.500000</td>\n",
       "      <td>24.500000</td>\n",
       "      <td>13.3</td>\n",
       "      <td>5.0</td>\n",
       "    </tr>\n",
       "    <tr>\n",
       "      <th>19732</th>\n",
       "      <td>270</td>\n",
       "      <td>10</td>\n",
       "      <td>25.500000</td>\n",
       "      <td>46.596667</td>\n",
       "      <td>25.628571</td>\n",
       "      <td>42.768571</td>\n",
       "      <td>27.050000</td>\n",
       "      <td>41.690000</td>\n",
       "      <td>24.700000</td>\n",
       "      <td>45.730000</td>\n",
       "      <td>...</td>\n",
       "      <td>49.660000</td>\n",
       "      <td>23.200000</td>\n",
       "      <td>46.7900</td>\n",
       "      <td>22.50</td>\n",
       "      <td>755.2</td>\n",
       "      <td>56.333333</td>\n",
       "      <td>3.666667</td>\n",
       "      <td>25.333333</td>\n",
       "      <td>13.3</td>\n",
       "      <td>5.0</td>\n",
       "    </tr>\n",
       "    <tr>\n",
       "      <th>19733</th>\n",
       "      <td>420</td>\n",
       "      <td>10</td>\n",
       "      <td>25.500000</td>\n",
       "      <td>46.990000</td>\n",
       "      <td>25.414000</td>\n",
       "      <td>43.036000</td>\n",
       "      <td>26.890000</td>\n",
       "      <td>41.290000</td>\n",
       "      <td>24.700000</td>\n",
       "      <td>45.790000</td>\n",
       "      <td>...</td>\n",
       "      <td>49.518750</td>\n",
       "      <td>23.200000</td>\n",
       "      <td>46.8175</td>\n",
       "      <td>22.30</td>\n",
       "      <td>755.2</td>\n",
       "      <td>56.666667</td>\n",
       "      <td>3.833333</td>\n",
       "      <td>26.166667</td>\n",
       "      <td>13.2</td>\n",
       "      <td>5.0</td>\n",
       "    </tr>\n",
       "    <tr>\n",
       "      <th>19734</th>\n",
       "      <td>430</td>\n",
       "      <td>10</td>\n",
       "      <td>25.500000</td>\n",
       "      <td>46.600000</td>\n",
       "      <td>25.264286</td>\n",
       "      <td>42.971429</td>\n",
       "      <td>26.823333</td>\n",
       "      <td>41.156667</td>\n",
       "      <td>24.700000</td>\n",
       "      <td>45.963333</td>\n",
       "      <td>...</td>\n",
       "      <td>49.736000</td>\n",
       "      <td>23.200000</td>\n",
       "      <td>46.8450</td>\n",
       "      <td>22.20</td>\n",
       "      <td>755.2</td>\n",
       "      <td>57.000000</td>\n",
       "      <td>4.000000</td>\n",
       "      <td>27.000000</td>\n",
       "      <td>13.2</td>\n",
       "      <td>5.0</td>\n",
       "    </tr>\n",
       "  </tbody>\n",
       "</table>\n",
       "<p>19735 rows × 27 columns</p>\n",
       "</div>"
      ],
      "text/plain": [
       "       Appliances  lights         T1       RH_1         T2       RH_2  \\\n",
       "0              60      30  19.890000  47.596667  19.200000  44.790000   \n",
       "1              60      30  19.890000  46.693333  19.200000  44.722500   \n",
       "2              50      30  19.890000  46.300000  19.200000  44.626667   \n",
       "3              50      40  19.890000  46.066667  19.200000  44.590000   \n",
       "4              60      40  19.890000  46.333333  19.200000  44.530000   \n",
       "...           ...     ...        ...        ...        ...        ...   \n",
       "19730         100       0  25.566667  46.560000  25.890000  42.025714   \n",
       "19731          90       0  25.500000  46.500000  25.754000  42.080000   \n",
       "19732         270      10  25.500000  46.596667  25.628571  42.768571   \n",
       "19733         420      10  25.500000  46.990000  25.414000  43.036000   \n",
       "19734         430      10  25.500000  46.600000  25.264286  42.971429   \n",
       "\n",
       "              T3       RH_3         T4       RH_4  ...       RH_8         T9  \\\n",
       "0      19.790000  44.730000  19.000000  45.566667  ...  48.900000  17.033333   \n",
       "1      19.790000  44.790000  19.000000  45.992500  ...  48.863333  17.066667   \n",
       "2      19.790000  44.933333  18.926667  45.890000  ...  48.730000  17.000000   \n",
       "3      19.790000  45.000000  18.890000  45.723333  ...  48.590000  17.000000   \n",
       "4      19.790000  45.000000  18.890000  45.530000  ...  48.590000  17.000000   \n",
       "...          ...        ...        ...        ...  ...        ...        ...   \n",
       "19730  27.200000  41.163333  24.700000  45.590000  ...  50.074000  23.200000   \n",
       "19731  27.133333  41.223333  24.700000  45.590000  ...  49.790000  23.200000   \n",
       "19732  27.050000  41.690000  24.700000  45.730000  ...  49.660000  23.200000   \n",
       "19733  26.890000  41.290000  24.700000  45.790000  ...  49.518750  23.200000   \n",
       "19734  26.823333  41.156667  24.700000  45.963333  ...  49.736000  23.200000   \n",
       "\n",
       "          RH_9  T_out  Press_mm_hg     RH_out  Windspeed  Visibility  \\\n",
       "0      45.5300   6.60        733.5  92.000000   7.000000   63.000000   \n",
       "1      45.5600   6.48        733.6  92.000000   6.666667   59.166667   \n",
       "2      45.5000   6.37        733.7  92.000000   6.333333   55.333333   \n",
       "3      45.4000   6.25        733.8  92.000000   6.000000   51.500000   \n",
       "4      45.4000   6.13        733.9  92.000000   5.666667   47.666667   \n",
       "...        ...    ...          ...        ...        ...         ...   \n",
       "19730  46.7900  22.70        755.2  55.666667   3.333333   23.666667   \n",
       "19731  46.7900  22.60        755.2  56.000000   3.500000   24.500000   \n",
       "19732  46.7900  22.50        755.2  56.333333   3.666667   25.333333   \n",
       "19733  46.8175  22.30        755.2  56.666667   3.833333   26.166667   \n",
       "19734  46.8450  22.20        755.2  57.000000   4.000000   27.000000   \n",
       "\n",
       "       Tdewpoint  month  \n",
       "0            5.3   11.0  \n",
       "1            5.2   11.0  \n",
       "2            5.1   11.0  \n",
       "3            5.0   11.0  \n",
       "4            4.9   11.0  \n",
       "...          ...    ...  \n",
       "19730       13.3    5.0  \n",
       "19731       13.3    5.0  \n",
       "19732       13.3    5.0  \n",
       "19733       13.2    5.0  \n",
       "19734       13.2    5.0  \n",
       "\n",
       "[19735 rows x 27 columns]"
      ]
     },
     "execution_count": 8,
     "metadata": {},
     "output_type": "execute_result"
    }
   ],
   "source": [
    "table['month'] = pd.DatetimeIndex(table['date']).month\n",
    "table.drop(['date'], axis=1, inplace=True)\n",
    "table"
   ]
  },
  {
   "cell_type": "markdown",
   "id": "494fb185",
   "metadata": {},
   "source": [
    "Проверка датасета на наличие пустых данных"
   ]
  },
  {
   "cell_type": "code",
   "execution_count": 9,
   "id": "c9e196d4",
   "metadata": {},
   "outputs": [
    {
     "name": "stdout",
     "output_type": "stream",
     "text": [
      "['RH_2', 'RH_4', 'RH_5', 'RH_6', 'T7', 'T8', 'T9', 'RH_9', 'T_out', 'Press_mm_hg', 'RH_out', 'Visibility', 'month']\n"
     ]
    }
   ],
   "source": [
    "null_columns = []\n",
    "for i in table.columns:\n",
    "    if len(table[table[i].isnull()]) > 0:\n",
    "        null_columns.append(i)\n",
    "print(null_columns)"
   ]
  },
  {
   "cell_type": "code",
   "execution_count": 10,
   "id": "9ba89764",
   "metadata": {},
   "outputs": [],
   "source": [
    "for name in null_columns:\n",
    "    fill_empty_cell(name, table)"
   ]
  },
  {
   "cell_type": "code",
   "execution_count": 11,
   "id": "10f9a516",
   "metadata": {},
   "outputs": [],
   "source": [
    "for i in table.columns:\n",
    "    if len(table[table[i].isnull()]) > 0:\n",
    "        print(f\"В столбце {i} есть пустые элементы\")"
   ]
  },
  {
   "cell_type": "code",
   "execution_count": 12,
   "id": "784efa80",
   "metadata": {},
   "outputs": [],
   "source": [
    "table.to_csv('../data/energy_task_compleated.csv') "
   ]
  },
  {
   "cell_type": "markdown",
   "id": "7f341f63",
   "metadata": {},
   "source": [
    "Создание обучающей выборки"
   ]
  },
  {
   "cell_type": "code",
   "execution_count": 13,
   "id": "f89cb2c0",
   "metadata": {},
   "outputs": [],
   "source": [
    "y = table[\"Appliances\"]\n",
    "X = table.drop([\"Appliances\"], axis=1)"
   ]
  },
  {
   "cell_type": "code",
   "execution_count": 14,
   "id": "967ae018",
   "metadata": {},
   "outputs": [],
   "source": [
    "X_train, X_test, y_train, y_test = train_test_split(X, y, test_size=0.3, random_state=42)"
   ]
  },
  {
   "cell_type": "markdown",
   "id": "bc1f9c5d",
   "metadata": {},
   "source": [
    "1. Простая линейная регрессия"
   ]
  },
  {
   "cell_type": "code",
   "execution_count": 15,
   "id": "14c63a17",
   "metadata": {},
   "outputs": [
    {
     "name": "stdout",
     "output_type": "stream",
     "text": [
      "MAE: 53.10679567708878\n",
      "MSE: 8591.182844508243\n",
      "RMSE: 92.68863384745858\n",
      "MAPE: 0.6258338469268974\n",
      "R^2: 0.16611682728825938\n"
     ]
    }
   ],
   "source": [
    "lr = LinearRegression().fit(X_train, y_train)\n",
    "y1_predict = lr.predict(X_test)\n",
    "metrics(y_test, y1_predict)"
   ]
  },
  {
   "cell_type": "code",
   "execution_count": 16,
   "id": "e679704e",
   "metadata": {},
   "outputs": [],
   "source": [
    "from mylib.LinearRegressionClass import My_LinearRegression \n",
    "\n",
    "\n",
    "linear = My_LinearRegression(X_train, y_train).fit()\n",
    "y_my = linear.predict(X_test)"
   ]
  },
  {
   "cell_type": "code",
   "execution_count": 17,
   "id": "a013278f",
   "metadata": {},
   "outputs": [
    {
     "name": "stdout",
     "output_type": "stream",
     "text": [
      "MAE: 57.38854942076182\n",
      "MSE: 9701.246411417216\n",
      "RMSE: 98.49490550996643\n",
      "MAPE: 0.7081670039971508\n",
      "R^2: 0.05837109007845487\n"
     ]
    }
   ],
   "source": [
    "from mylib.Metrics import all_metrics\n",
    "\n",
    "\n",
    "all_metrics(y_test, y_my)"
   ]
  },
  {
   "cell_type": "code",
   "execution_count": 18,
   "id": "2d03c4e9",
   "metadata": {},
   "outputs": [
    {
     "name": "stdout",
     "output_type": "stream",
     "text": [
      "MAE: 53.10679567708878\n",
      "MSE: 8591.182844508243\n",
      "RMSE: 92.68863384745858\n",
      "MAPE: 0.6258338469268974\n",
      "R^2: 0.16611682728825938\n"
     ]
    }
   ],
   "source": [
    "from mylib.Metrics import all_metrics\n",
    "\n",
    "\n",
    "all_metrics(y_test, y1_predict)"
   ]
  },
  {
   "cell_type": "markdown",
   "id": "f0544cde",
   "metadata": {},
   "source": [
    "2. L1 - Lasso (подбор гиперпараметра + модель)"
   ]
  },
  {
   "cell_type": "code",
   "execution_count": 19,
   "id": "f5223846",
   "metadata": {},
   "outputs": [
    {
     "name": "stderr",
     "output_type": "stream",
     "text": [
      "c:\\Users\\bugae\\MachineLearning-Labs\\venv\\lib\\site-packages\\sklearn\\model_selection\\_validation.py:686: UserWarning: With alpha=0, this algorithm does not converge well. You are advised to use the LinearRegression estimator\n",
      "  estimator.fit(X_train, y_train, **fit_params)\n",
      "c:\\Users\\bugae\\MachineLearning-Labs\\venv\\lib\\site-packages\\sklearn\\linear_model\\_coordinate_descent.py:631: UserWarning: Coordinate descent with no regularization may lead to unexpected results and is discouraged.\n",
      "  model = cd_fast.enet_coordinate_descent(\n",
      "c:\\Users\\bugae\\MachineLearning-Labs\\venv\\lib\\site-packages\\sklearn\\linear_model\\_coordinate_descent.py:631: ConvergenceWarning: Objective did not converge. You might want to increase the number of iterations, check the scale of the features or consider increasing regularisation. Duality gap: 4.731e+07, tolerance: 1.144e+04 Linear regression models with null weight for the l1 regularization term are more efficiently fitted using one of the solvers implemented in sklearn.linear_model.Ridge/RidgeCV instead.\n",
      "  model = cd_fast.enet_coordinate_descent(\n",
      "c:\\Users\\bugae\\MachineLearning-Labs\\venv\\lib\\site-packages\\sklearn\\model_selection\\_validation.py:686: UserWarning: With alpha=0, this algorithm does not converge well. You are advised to use the LinearRegression estimator\n",
      "  estimator.fit(X_train, y_train, **fit_params)\n",
      "c:\\Users\\bugae\\MachineLearning-Labs\\venv\\lib\\site-packages\\sklearn\\linear_model\\_coordinate_descent.py:631: UserWarning: Coordinate descent with no regularization may lead to unexpected results and is discouraged.\n",
      "  model = cd_fast.enet_coordinate_descent(\n",
      "c:\\Users\\bugae\\MachineLearning-Labs\\venv\\lib\\site-packages\\sklearn\\linear_model\\_coordinate_descent.py:631: ConvergenceWarning: Objective did not converge. You might want to increase the number of iterations, check the scale of the features or consider increasing regularisation. Duality gap: 4.962e+07, tolerance: 1.178e+04 Linear regression models with null weight for the l1 regularization term are more efficiently fitted using one of the solvers implemented in sklearn.linear_model.Ridge/RidgeCV instead.\n",
      "  model = cd_fast.enet_coordinate_descent(\n",
      "c:\\Users\\bugae\\MachineLearning-Labs\\venv\\lib\\site-packages\\sklearn\\model_selection\\_validation.py:686: UserWarning: With alpha=0, this algorithm does not converge well. You are advised to use the LinearRegression estimator\n",
      "  estimator.fit(X_train, y_train, **fit_params)\n",
      "c:\\Users\\bugae\\MachineLearning-Labs\\venv\\lib\\site-packages\\sklearn\\linear_model\\_coordinate_descent.py:631: UserWarning: Coordinate descent with no regularization may lead to unexpected results and is discouraged.\n",
      "  model = cd_fast.enet_coordinate_descent(\n",
      "c:\\Users\\bugae\\MachineLearning-Labs\\venv\\lib\\site-packages\\sklearn\\linear_model\\_coordinate_descent.py:631: ConvergenceWarning: Objective did not converge. You might want to increase the number of iterations, check the scale of the features or consider increasing regularisation. Duality gap: 4.862e+07, tolerance: 1.155e+04 Linear regression models with null weight for the l1 regularization term are more efficiently fitted using one of the solvers implemented in sklearn.linear_model.Ridge/RidgeCV instead.\n",
      "  model = cd_fast.enet_coordinate_descent(\n",
      "c:\\Users\\bugae\\MachineLearning-Labs\\venv\\lib\\site-packages\\sklearn\\model_selection\\_validation.py:686: UserWarning: With alpha=0, this algorithm does not converge well. You are advised to use the LinearRegression estimator\n",
      "  estimator.fit(X_train, y_train, **fit_params)\n",
      "c:\\Users\\bugae\\MachineLearning-Labs\\venv\\lib\\site-packages\\sklearn\\linear_model\\_coordinate_descent.py:631: UserWarning: Coordinate descent with no regularization may lead to unexpected results and is discouraged.\n",
      "  model = cd_fast.enet_coordinate_descent(\n",
      "c:\\Users\\bugae\\MachineLearning-Labs\\venv\\lib\\site-packages\\sklearn\\linear_model\\_coordinate_descent.py:631: ConvergenceWarning: Objective did not converge. You might want to increase the number of iterations, check the scale of the features or consider increasing regularisation. Duality gap: 5.088e+07, tolerance: 1.216e+04 Linear regression models with null weight for the l1 regularization term are more efficiently fitted using one of the solvers implemented in sklearn.linear_model.Ridge/RidgeCV instead.\n",
      "  model = cd_fast.enet_coordinate_descent(\n",
      "c:\\Users\\bugae\\MachineLearning-Labs\\venv\\lib\\site-packages\\sklearn\\model_selection\\_validation.py:686: UserWarning: With alpha=0, this algorithm does not converge well. You are advised to use the LinearRegression estimator\n",
      "  estimator.fit(X_train, y_train, **fit_params)\n",
      "c:\\Users\\bugae\\MachineLearning-Labs\\venv\\lib\\site-packages\\sklearn\\linear_model\\_coordinate_descent.py:631: UserWarning: Coordinate descent with no regularization may lead to unexpected results and is discouraged.\n",
      "  model = cd_fast.enet_coordinate_descent(\n",
      "c:\\Users\\bugae\\MachineLearning-Labs\\venv\\lib\\site-packages\\sklearn\\linear_model\\_coordinate_descent.py:631: ConvergenceWarning: Objective did not converge. You might want to increase the number of iterations, check the scale of the features or consider increasing regularisation. Duality gap: 4.913e+07, tolerance: 1.164e+04 Linear regression models with null weight for the l1 regularization term are more efficiently fitted using one of the solvers implemented in sklearn.linear_model.Ridge/RidgeCV instead.\n",
      "  model = cd_fast.enet_coordinate_descent(\n"
     ]
    },
    {
     "name": "stdout",
     "output_type": "stream",
     "text": [
      "MAE: 53.07905846640824\n",
      "MSE: 8591.912619663875\n",
      "RMSE: 92.69257046637489\n",
      "MAPE: 0.625245261270526\n",
      "R^2: 0.16604599336082937\n"
     ]
    }
   ],
   "source": [
    "l = create_lasso_with_hyperparameter(X_train, y_train)\n",
    "y2_predict = l.predict(X_test)\n",
    "metrics(y_test, y2_predict)"
   ]
  },
  {
   "cell_type": "markdown",
   "id": "433cd483",
   "metadata": {},
   "source": [
    "3. L2 - Ridge (подбор гиперпараметра + модель)"
   ]
  },
  {
   "cell_type": "code",
   "execution_count": 20,
   "id": "fd4ecc50",
   "metadata": {},
   "outputs": [
    {
     "name": "stdout",
     "output_type": "stream",
     "text": [
      "MAE: 53.10667473422766\n",
      "MSE: 8591.199699996327\n",
      "RMSE: 92.68872477273774\n",
      "MAPE: 0.6258313873079989\n",
      "R^2: 0.16611519124952812\n"
     ]
    }
   ],
   "source": [
    "r = create_ridge_with_hyperparameter(X_train, y_train)\n",
    "y3_predict = r.predict(X_test)\n",
    "metrics(y_test, y3_predict)"
   ]
  },
  {
   "cell_type": "markdown",
   "id": "e7a2528a",
   "metadata": {},
   "source": [
    "4. Полиномиальная регрессия"
   ]
  },
  {
   "cell_type": "code",
   "execution_count": 21,
   "id": "969dbcaf",
   "metadata": {},
   "outputs": [],
   "source": [
    "table_p = table.drop(columns=[\"T1\", \"RH_4\", \"RH_6\", \"T7\"])\n",
    "y_p = table_p[\"Appliances\"]\n",
    "X_p = table_p.drop([\"Appliances\"], axis=1)\n",
    "X_p_train, X_p_test, y_p_train, y_p_test = train_test_split(X_p, y_p, test_size=0.5, random_state=42)"
   ]
  },
  {
   "cell_type": "code",
   "execution_count": 22,
   "id": "1b230693",
   "metadata": {},
   "outputs": [],
   "source": [
    "p = PolynomialFeatures(2)\n",
    "X_PolynomialFeatures_train = p.fit_transform(X_p_train)\n",
    "X_PolynomialFeatures_test = p.fit_transform(X_p_test)"
   ]
  },
  {
   "cell_type": "code",
   "execution_count": 23,
   "id": "13e46681",
   "metadata": {},
   "outputs": [
    {
     "ename": "TypeError",
     "evalue": "LinearRegression.__init__() missing 2 required positional arguments: 'X_train' and 'y_train'",
     "output_type": "error",
     "traceback": [
      "\u001b[1;31m---------------------------------------------------------------------------\u001b[0m",
      "\u001b[1;31mTypeError\u001b[0m                                 Traceback (most recent call last)",
      "Cell \u001b[1;32mIn[23], line 1\u001b[0m\n\u001b[1;32m----> 1\u001b[0m lr2 \u001b[39m=\u001b[39m LinearRegression()\u001b[39m.\u001b[39mfit(X_PolynomialFeatures_train, y_p_train)\n\u001b[0;32m      2\u001b[0m y_PolynomialFeatures_predict \u001b[39m=\u001b[39m lr2\u001b[39m.\u001b[39mpredict(X_PolynomialFeatures_test)\n\u001b[0;32m      3\u001b[0m metrics(y_p_test, y_PolynomialFeatures_predict)\n",
      "\u001b[1;31mTypeError\u001b[0m: LinearRegression.__init__() missing 2 required positional arguments: 'X_train' and 'y_train'"
     ]
    }
   ],
   "source": [
    "lr2 = LinearRegression().fit(X_PolynomialFeatures_train, y_p_train)\n",
    "y_PolynomialFeatures_predict = lr2.predict(X_PolynomialFeatures_test)\n",
    "metrics(y_p_test, y_PolynomialFeatures_predict)"
   ]
  },
  {
   "cell_type": "markdown",
   "id": "afc18edf",
   "metadata": {},
   "source": [
    "5. Полиномиальная регрессия + Ridge"
   ]
  },
  {
   "cell_type": "code",
   "execution_count": null,
   "id": "2a76b0b8",
   "metadata": {},
   "outputs": [
    {
     "name": "stdout",
     "output_type": "stream",
     "text": [
      "MAE: 51.028233135692595\n",
      "MSE: 8318.029152423323\n",
      "RMSE: 91.20322994512487\n",
      "MAPE: 0.5709522699518464\n",
      "R^2: 0.22716292020549944\n"
     ]
    }
   ],
   "source": [
    "r_p = create_ridge_with_hyperparameter(X_PolynomialFeatures_train, y_p_train)\n",
    "y_p_ridge_predict = r_p.predict(X_PolynomialFeatures_test)\n",
    "metrics(y_p_test, y_p_ridge_predict)"
   ]
  },
  {
   "cell_type": "markdown",
   "id": "18102d89",
   "metadata": {},
   "source": [
    "6. Полиномиальная регрессия + Lasso"
   ]
  },
  {
   "cell_type": "code",
   "execution_count": null,
   "id": "883b7463",
   "metadata": {},
   "outputs": [
    {
     "name": "stderr",
     "output_type": "stream",
     "text": [
      "c:\\Users\\bugae\\MachineLearning-Labs\\venv\\lib\\site-packages\\sklearn\\model_selection\\_validation.py:686: UserWarning: With alpha=0, this algorithm does not converge well. You are advised to use the LinearRegression estimator\n",
      "  estimator.fit(X_train, y_train, **fit_params)\n",
      "c:\\Users\\bugae\\MachineLearning-Labs\\venv\\lib\\site-packages\\sklearn\\linear_model\\_coordinate_descent.py:631: UserWarning: Coordinate descent with no regularization may lead to unexpected results and is discouraged.\n",
      "  model = cd_fast.enet_coordinate_descent(\n",
      "c:\\Users\\bugae\\MachineLearning-Labs\\venv\\lib\\site-packages\\sklearn\\linear_model\\_coordinate_descent.py:631: ConvergenceWarning: Objective did not converge. You might want to increase the number of iterations, check the scale of the features or consider increasing regularisation. Duality gap: 3.055e+07, tolerance: 8.158e+03 Linear regression models with null weight for the l1 regularization term are more efficiently fitted using one of the solvers implemented in sklearn.linear_model.Ridge/RidgeCV instead.\n",
      "  model = cd_fast.enet_coordinate_descent(\n",
      "c:\\Users\\bugae\\MachineLearning-Labs\\venv\\lib\\site-packages\\sklearn\\model_selection\\_validation.py:686: UserWarning: With alpha=0, this algorithm does not converge well. You are advised to use the LinearRegression estimator\n",
      "  estimator.fit(X_train, y_train, **fit_params)\n",
      "c:\\Users\\bugae\\MachineLearning-Labs\\venv\\lib\\site-packages\\sklearn\\linear_model\\_coordinate_descent.py:631: UserWarning: Coordinate descent with no regularization may lead to unexpected results and is discouraged.\n",
      "  model = cd_fast.enet_coordinate_descent(\n",
      "c:\\Users\\bugae\\MachineLearning-Labs\\venv\\lib\\site-packages\\sklearn\\linear_model\\_coordinate_descent.py:631: ConvergenceWarning: Objective did not converge. You might want to increase the number of iterations, check the scale of the features or consider increasing regularisation. Duality gap: 2.928e+07, tolerance: 7.867e+03 Linear regression models with null weight for the l1 regularization term are more efficiently fitted using one of the solvers implemented in sklearn.linear_model.Ridge/RidgeCV instead.\n",
      "  model = cd_fast.enet_coordinate_descent(\n",
      "c:\\Users\\bugae\\MachineLearning-Labs\\venv\\lib\\site-packages\\sklearn\\model_selection\\_validation.py:686: UserWarning: With alpha=0, this algorithm does not converge well. You are advised to use the LinearRegression estimator\n",
      "  estimator.fit(X_train, y_train, **fit_params)\n",
      "c:\\Users\\bugae\\MachineLearning-Labs\\venv\\lib\\site-packages\\sklearn\\linear_model\\_coordinate_descent.py:631: UserWarning: Coordinate descent with no regularization may lead to unexpected results and is discouraged.\n",
      "  model = cd_fast.enet_coordinate_descent(\n",
      "c:\\Users\\bugae\\MachineLearning-Labs\\venv\\lib\\site-packages\\sklearn\\linear_model\\_coordinate_descent.py:631: ConvergenceWarning: Objective did not converge. You might want to increase the number of iterations, check the scale of the features or consider increasing regularisation. Duality gap: 3.076e+07, tolerance: 8.306e+03 Linear regression models with null weight for the l1 regularization term are more efficiently fitted using one of the solvers implemented in sklearn.linear_model.Ridge/RidgeCV instead.\n",
      "  model = cd_fast.enet_coordinate_descent(\n",
      "c:\\Users\\bugae\\MachineLearning-Labs\\venv\\lib\\site-packages\\sklearn\\model_selection\\_validation.py:686: UserWarning: With alpha=0, this algorithm does not converge well. You are advised to use the LinearRegression estimator\n",
      "  estimator.fit(X_train, y_train, **fit_params)\n",
      "c:\\Users\\bugae\\MachineLearning-Labs\\venv\\lib\\site-packages\\sklearn\\linear_model\\_coordinate_descent.py:631: UserWarning: Coordinate descent with no regularization may lead to unexpected results and is discouraged.\n",
      "  model = cd_fast.enet_coordinate_descent(\n",
      "c:\\Users\\bugae\\MachineLearning-Labs\\venv\\lib\\site-packages\\sklearn\\linear_model\\_coordinate_descent.py:631: ConvergenceWarning: Objective did not converge. You might want to increase the number of iterations, check the scale of the features or consider increasing regularisation. Duality gap: 2.960e+07, tolerance: 7.955e+03 Linear regression models with null weight for the l1 regularization term are more efficiently fitted using one of the solvers implemented in sklearn.linear_model.Ridge/RidgeCV instead.\n",
      "  model = cd_fast.enet_coordinate_descent(\n",
      "c:\\Users\\bugae\\MachineLearning-Labs\\venv\\lib\\site-packages\\sklearn\\model_selection\\_validation.py:686: UserWarning: With alpha=0, this algorithm does not converge well. You are advised to use the LinearRegression estimator\n",
      "  estimator.fit(X_train, y_train, **fit_params)\n",
      "c:\\Users\\bugae\\MachineLearning-Labs\\venv\\lib\\site-packages\\sklearn\\linear_model\\_coordinate_descent.py:631: UserWarning: Coordinate descent with no regularization may lead to unexpected results and is discouraged.\n",
      "  model = cd_fast.enet_coordinate_descent(\n",
      "c:\\Users\\bugae\\MachineLearning-Labs\\venv\\lib\\site-packages\\sklearn\\linear_model\\_coordinate_descent.py:631: ConvergenceWarning: Objective did not converge. You might want to increase the number of iterations, check the scale of the features or consider increasing regularisation. Duality gap: 3.048e+07, tolerance: 8.198e+03 Linear regression models with null weight for the l1 regularization term are more efficiently fitted using one of the solvers implemented in sklearn.linear_model.Ridge/RidgeCV instead.\n",
      "  model = cd_fast.enet_coordinate_descent(\n",
      "c:\\Users\\bugae\\MachineLearning-Labs\\venv\\lib\\site-packages\\sklearn\\linear_model\\_coordinate_descent.py:631: ConvergenceWarning: Objective did not converge. You might want to increase the number of iterations, check the scale of the features or consider increasing regularisation. Duality gap: 3.063e+07, tolerance: 8.158e+03\n",
      "  model = cd_fast.enet_coordinate_descent(\n",
      "c:\\Users\\bugae\\MachineLearning-Labs\\venv\\lib\\site-packages\\sklearn\\linear_model\\_coordinate_descent.py:631: ConvergenceWarning: Objective did not converge. You might want to increase the number of iterations, check the scale of the features or consider increasing regularisation. Duality gap: 2.937e+07, tolerance: 7.867e+03\n",
      "  model = cd_fast.enet_coordinate_descent(\n",
      "c:\\Users\\bugae\\MachineLearning-Labs\\venv\\lib\\site-packages\\sklearn\\linear_model\\_coordinate_descent.py:631: ConvergenceWarning: Objective did not converge. You might want to increase the number of iterations, check the scale of the features or consider increasing regularisation. Duality gap: 3.087e+07, tolerance: 8.306e+03\n",
      "  model = cd_fast.enet_coordinate_descent(\n",
      "c:\\Users\\bugae\\MachineLearning-Labs\\venv\\lib\\site-packages\\sklearn\\linear_model\\_coordinate_descent.py:631: ConvergenceWarning: Objective did not converge. You might want to increase the number of iterations, check the scale of the features or consider increasing regularisation. Duality gap: 2.969e+07, tolerance: 7.955e+03\n",
      "  model = cd_fast.enet_coordinate_descent(\n",
      "c:\\Users\\bugae\\MachineLearning-Labs\\venv\\lib\\site-packages\\sklearn\\linear_model\\_coordinate_descent.py:631: ConvergenceWarning: Objective did not converge. You might want to increase the number of iterations, check the scale of the features or consider increasing regularisation. Duality gap: 3.057e+07, tolerance: 8.198e+03\n",
      "  model = cd_fast.enet_coordinate_descent(\n",
      "c:\\Users\\bugae\\MachineLearning-Labs\\venv\\lib\\site-packages\\sklearn\\linear_model\\_coordinate_descent.py:631: ConvergenceWarning: Objective did not converge. You might want to increase the number of iterations, check the scale of the features or consider increasing regularisation. Duality gap: 3.062e+07, tolerance: 8.158e+03\n",
      "  model = cd_fast.enet_coordinate_descent(\n",
      "c:\\Users\\bugae\\MachineLearning-Labs\\venv\\lib\\site-packages\\sklearn\\linear_model\\_coordinate_descent.py:631: ConvergenceWarning: Objective did not converge. You might want to increase the number of iterations, check the scale of the features or consider increasing regularisation. Duality gap: 2.938e+07, tolerance: 7.867e+03\n",
      "  model = cd_fast.enet_coordinate_descent(\n",
      "c:\\Users\\bugae\\MachineLearning-Labs\\venv\\lib\\site-packages\\sklearn\\linear_model\\_coordinate_descent.py:631: ConvergenceWarning: Objective did not converge. You might want to increase the number of iterations, check the scale of the features or consider increasing regularisation. Duality gap: 3.087e+07, tolerance: 8.306e+03\n",
      "  model = cd_fast.enet_coordinate_descent(\n",
      "c:\\Users\\bugae\\MachineLearning-Labs\\venv\\lib\\site-packages\\sklearn\\linear_model\\_coordinate_descent.py:631: ConvergenceWarning: Objective did not converge. You might want to increase the number of iterations, check the scale of the features or consider increasing regularisation. Duality gap: 2.968e+07, tolerance: 7.955e+03\n",
      "  model = cd_fast.enet_coordinate_descent(\n",
      "c:\\Users\\bugae\\MachineLearning-Labs\\venv\\lib\\site-packages\\sklearn\\linear_model\\_coordinate_descent.py:631: ConvergenceWarning: Objective did not converge. You might want to increase the number of iterations, check the scale of the features or consider increasing regularisation. Duality gap: 3.057e+07, tolerance: 8.198e+03\n",
      "  model = cd_fast.enet_coordinate_descent(\n",
      "c:\\Users\\bugae\\MachineLearning-Labs\\venv\\lib\\site-packages\\sklearn\\linear_model\\_coordinate_descent.py:631: ConvergenceWarning: Objective did not converge. You might want to increase the number of iterations, check the scale of the features or consider increasing regularisation. Duality gap: 3.060e+07, tolerance: 8.158e+03\n",
      "  model = cd_fast.enet_coordinate_descent(\n",
      "c:\\Users\\bugae\\MachineLearning-Labs\\venv\\lib\\site-packages\\sklearn\\linear_model\\_coordinate_descent.py:631: ConvergenceWarning: Objective did not converge. You might want to increase the number of iterations, check the scale of the features or consider increasing regularisation. Duality gap: 2.935e+07, tolerance: 7.867e+03\n",
      "  model = cd_fast.enet_coordinate_descent(\n",
      "c:\\Users\\bugae\\MachineLearning-Labs\\venv\\lib\\site-packages\\sklearn\\linear_model\\_coordinate_descent.py:631: ConvergenceWarning: Objective did not converge. You might want to increase the number of iterations, check the scale of the features or consider increasing regularisation. Duality gap: 3.083e+07, tolerance: 8.306e+03\n",
      "  model = cd_fast.enet_coordinate_descent(\n",
      "c:\\Users\\bugae\\MachineLearning-Labs\\venv\\lib\\site-packages\\sklearn\\linear_model\\_coordinate_descent.py:631: ConvergenceWarning: Objective did not converge. You might want to increase the number of iterations, check the scale of the features or consider increasing regularisation. Duality gap: 2.964e+07, tolerance: 7.955e+03\n",
      "  model = cd_fast.enet_coordinate_descent(\n",
      "c:\\Users\\bugae\\MachineLearning-Labs\\venv\\lib\\site-packages\\sklearn\\linear_model\\_coordinate_descent.py:631: ConvergenceWarning: Objective did not converge. You might want to increase the number of iterations, check the scale of the features or consider increasing regularisation. Duality gap: 3.056e+07, tolerance: 8.198e+03\n",
      "  model = cd_fast.enet_coordinate_descent(\n",
      "c:\\Users\\bugae\\MachineLearning-Labs\\venv\\lib\\site-packages\\sklearn\\linear_model\\_coordinate_descent.py:631: ConvergenceWarning: Objective did not converge. You might want to increase the number of iterations, check the scale of the features or consider increasing regularisation. Duality gap: 3.056e+07, tolerance: 8.158e+03\n",
      "  model = cd_fast.enet_coordinate_descent(\n",
      "c:\\Users\\bugae\\MachineLearning-Labs\\venv\\lib\\site-packages\\sklearn\\linear_model\\_coordinate_descent.py:631: ConvergenceWarning: Objective did not converge. You might want to increase the number of iterations, check the scale of the features or consider increasing regularisation. Duality gap: 2.935e+07, tolerance: 7.867e+03\n",
      "  model = cd_fast.enet_coordinate_descent(\n",
      "c:\\Users\\bugae\\MachineLearning-Labs\\venv\\lib\\site-packages\\sklearn\\linear_model\\_coordinate_descent.py:631: ConvergenceWarning: Objective did not converge. You might want to increase the number of iterations, check the scale of the features or consider increasing regularisation. Duality gap: 3.082e+07, tolerance: 8.306e+03\n",
      "  model = cd_fast.enet_coordinate_descent(\n",
      "c:\\Users\\bugae\\MachineLearning-Labs\\venv\\lib\\site-packages\\sklearn\\linear_model\\_coordinate_descent.py:631: ConvergenceWarning: Objective did not converge. You might want to increase the number of iterations, check the scale of the features or consider increasing regularisation. Duality gap: 2.958e+07, tolerance: 7.955e+03\n",
      "  model = cd_fast.enet_coordinate_descent(\n",
      "c:\\Users\\bugae\\MachineLearning-Labs\\venv\\lib\\site-packages\\sklearn\\linear_model\\_coordinate_descent.py:631: ConvergenceWarning: Objective did not converge. You might want to increase the number of iterations, check the scale of the features or consider increasing regularisation. Duality gap: 3.056e+07, tolerance: 8.198e+03\n",
      "  model = cd_fast.enet_coordinate_descent(\n",
      "c:\\Users\\bugae\\MachineLearning-Labs\\venv\\lib\\site-packages\\sklearn\\linear_model\\_coordinate_descent.py:631: ConvergenceWarning: Objective did not converge. You might want to increase the number of iterations, check the scale of the features or consider increasing regularisation. Duality gap: 3.053e+07, tolerance: 8.158e+03\n",
      "  model = cd_fast.enet_coordinate_descent(\n",
      "c:\\Users\\bugae\\MachineLearning-Labs\\venv\\lib\\site-packages\\sklearn\\linear_model\\_coordinate_descent.py:631: ConvergenceWarning: Objective did not converge. You might want to increase the number of iterations, check the scale of the features or consider increasing regularisation. Duality gap: 2.934e+07, tolerance: 7.867e+03\n",
      "  model = cd_fast.enet_coordinate_descent(\n",
      "c:\\Users\\bugae\\MachineLearning-Labs\\venv\\lib\\site-packages\\sklearn\\linear_model\\_coordinate_descent.py:631: ConvergenceWarning: Objective did not converge. You might want to increase the number of iterations, check the scale of the features or consider increasing regularisation. Duality gap: 3.080e+07, tolerance: 8.306e+03\n",
      "  model = cd_fast.enet_coordinate_descent(\n",
      "c:\\Users\\bugae\\MachineLearning-Labs\\venv\\lib\\site-packages\\sklearn\\linear_model\\_coordinate_descent.py:631: ConvergenceWarning: Objective did not converge. You might want to increase the number of iterations, check the scale of the features or consider increasing regularisation. Duality gap: 2.956e+07, tolerance: 7.955e+03\n",
      "  model = cd_fast.enet_coordinate_descent(\n",
      "c:\\Users\\bugae\\MachineLearning-Labs\\venv\\lib\\site-packages\\sklearn\\linear_model\\_coordinate_descent.py:631: ConvergenceWarning: Objective did not converge. You might want to increase the number of iterations, check the scale of the features or consider increasing regularisation. Duality gap: 3.057e+07, tolerance: 8.198e+03\n",
      "  model = cd_fast.enet_coordinate_descent(\n",
      "c:\\Users\\bugae\\MachineLearning-Labs\\venv\\lib\\site-packages\\sklearn\\linear_model\\_coordinate_descent.py:631: ConvergenceWarning: Objective did not converge. You might want to increase the number of iterations, check the scale of the features or consider increasing regularisation. Duality gap: 3.049e+07, tolerance: 8.158e+03\n",
      "  model = cd_fast.enet_coordinate_descent(\n",
      "c:\\Users\\bugae\\MachineLearning-Labs\\venv\\lib\\site-packages\\sklearn\\linear_model\\_coordinate_descent.py:631: ConvergenceWarning: Objective did not converge. You might want to increase the number of iterations, check the scale of the features or consider increasing regularisation. Duality gap: 2.933e+07, tolerance: 7.867e+03\n",
      "  model = cd_fast.enet_coordinate_descent(\n",
      "c:\\Users\\bugae\\MachineLearning-Labs\\venv\\lib\\site-packages\\sklearn\\linear_model\\_coordinate_descent.py:631: ConvergenceWarning: Objective did not converge. You might want to increase the number of iterations, check the scale of the features or consider increasing regularisation. Duality gap: 3.078e+07, tolerance: 8.306e+03\n",
      "  model = cd_fast.enet_coordinate_descent(\n",
      "c:\\Users\\bugae\\MachineLearning-Labs\\venv\\lib\\site-packages\\sklearn\\linear_model\\_coordinate_descent.py:631: ConvergenceWarning: Objective did not converge. You might want to increase the number of iterations, check the scale of the features or consider increasing regularisation. Duality gap: 2.953e+07, tolerance: 7.955e+03\n",
      "  model = cd_fast.enet_coordinate_descent(\n",
      "c:\\Users\\bugae\\MachineLearning-Labs\\venv\\lib\\site-packages\\sklearn\\linear_model\\_coordinate_descent.py:631: ConvergenceWarning: Objective did not converge. You might want to increase the number of iterations, check the scale of the features or consider increasing regularisation. Duality gap: 3.056e+07, tolerance: 8.198e+03\n",
      "  model = cd_fast.enet_coordinate_descent(\n",
      "c:\\Users\\bugae\\MachineLearning-Labs\\venv\\lib\\site-packages\\sklearn\\linear_model\\_coordinate_descent.py:631: ConvergenceWarning: Objective did not converge. You might want to increase the number of iterations, check the scale of the features or consider increasing regularisation. Duality gap: 3.044e+07, tolerance: 8.158e+03\n",
      "  model = cd_fast.enet_coordinate_descent(\n",
      "c:\\Users\\bugae\\MachineLearning-Labs\\venv\\lib\\site-packages\\sklearn\\linear_model\\_coordinate_descent.py:631: ConvergenceWarning: Objective did not converge. You might want to increase the number of iterations, check the scale of the features or consider increasing regularisation. Duality gap: 2.931e+07, tolerance: 7.867e+03\n",
      "  model = cd_fast.enet_coordinate_descent(\n",
      "c:\\Users\\bugae\\MachineLearning-Labs\\venv\\lib\\site-packages\\sklearn\\linear_model\\_coordinate_descent.py:631: ConvergenceWarning: Objective did not converge. You might want to increase the number of iterations, check the scale of the features or consider increasing regularisation. Duality gap: 3.076e+07, tolerance: 8.306e+03\n",
      "  model = cd_fast.enet_coordinate_descent(\n",
      "c:\\Users\\bugae\\MachineLearning-Labs\\venv\\lib\\site-packages\\sklearn\\linear_model\\_coordinate_descent.py:631: ConvergenceWarning: Objective did not converge. You might want to increase the number of iterations, check the scale of the features or consider increasing regularisation. Duality gap: 2.950e+07, tolerance: 7.955e+03\n",
      "  model = cd_fast.enet_coordinate_descent(\n",
      "c:\\Users\\bugae\\MachineLearning-Labs\\venv\\lib\\site-packages\\sklearn\\linear_model\\_coordinate_descent.py:631: ConvergenceWarning: Objective did not converge. You might want to increase the number of iterations, check the scale of the features or consider increasing regularisation. Duality gap: 3.055e+07, tolerance: 8.198e+03\n",
      "  model = cd_fast.enet_coordinate_descent(\n",
      "c:\\Users\\bugae\\MachineLearning-Labs\\venv\\lib\\site-packages\\sklearn\\linear_model\\_coordinate_descent.py:631: ConvergenceWarning: Objective did not converge. You might want to increase the number of iterations, check the scale of the features or consider increasing regularisation. Duality gap: 3.039e+07, tolerance: 8.158e+03\n",
      "  model = cd_fast.enet_coordinate_descent(\n",
      "c:\\Users\\bugae\\MachineLearning-Labs\\venv\\lib\\site-packages\\sklearn\\linear_model\\_coordinate_descent.py:631: ConvergenceWarning: Objective did not converge. You might want to increase the number of iterations, check the scale of the features or consider increasing regularisation. Duality gap: 2.930e+07, tolerance: 7.867e+03\n",
      "  model = cd_fast.enet_coordinate_descent(\n",
      "c:\\Users\\bugae\\MachineLearning-Labs\\venv\\lib\\site-packages\\sklearn\\linear_model\\_coordinate_descent.py:631: ConvergenceWarning: Objective did not converge. You might want to increase the number of iterations, check the scale of the features or consider increasing regularisation. Duality gap: 3.074e+07, tolerance: 8.306e+03\n",
      "  model = cd_fast.enet_coordinate_descent(\n",
      "c:\\Users\\bugae\\MachineLearning-Labs\\venv\\lib\\site-packages\\sklearn\\linear_model\\_coordinate_descent.py:631: ConvergenceWarning: Objective did not converge. You might want to increase the number of iterations, check the scale of the features or consider increasing regularisation. Duality gap: 2.951e+07, tolerance: 7.955e+03\n",
      "  model = cd_fast.enet_coordinate_descent(\n",
      "c:\\Users\\bugae\\MachineLearning-Labs\\venv\\lib\\site-packages\\sklearn\\linear_model\\_coordinate_descent.py:631: ConvergenceWarning: Objective did not converge. You might want to increase the number of iterations, check the scale of the features or consider increasing regularisation. Duality gap: 3.054e+07, tolerance: 8.198e+03\n",
      "  model = cd_fast.enet_coordinate_descent(\n",
      "c:\\Users\\bugae\\MachineLearning-Labs\\venv\\lib\\site-packages\\sklearn\\linear_model\\_coordinate_descent.py:631: ConvergenceWarning: Objective did not converge. You might want to increase the number of iterations, check the scale of the features or consider increasing regularisation. Duality gap: 3.036e+07, tolerance: 8.158e+03\n",
      "  model = cd_fast.enet_coordinate_descent(\n",
      "c:\\Users\\bugae\\MachineLearning-Labs\\venv\\lib\\site-packages\\sklearn\\linear_model\\_coordinate_descent.py:631: ConvergenceWarning: Objective did not converge. You might want to increase the number of iterations, check the scale of the features or consider increasing regularisation. Duality gap: 2.929e+07, tolerance: 7.867e+03\n",
      "  model = cd_fast.enet_coordinate_descent(\n",
      "c:\\Users\\bugae\\MachineLearning-Labs\\venv\\lib\\site-packages\\sklearn\\linear_model\\_coordinate_descent.py:631: ConvergenceWarning: Objective did not converge. You might want to increase the number of iterations, check the scale of the features or consider increasing regularisation. Duality gap: 3.072e+07, tolerance: 8.306e+03\n",
      "  model = cd_fast.enet_coordinate_descent(\n",
      "c:\\Users\\bugae\\MachineLearning-Labs\\venv\\lib\\site-packages\\sklearn\\linear_model\\_coordinate_descent.py:631: ConvergenceWarning: Objective did not converge. You might want to increase the number of iterations, check the scale of the features or consider increasing regularisation. Duality gap: 2.949e+07, tolerance: 7.955e+03\n",
      "  model = cd_fast.enet_coordinate_descent(\n",
      "c:\\Users\\bugae\\MachineLearning-Labs\\venv\\lib\\site-packages\\sklearn\\linear_model\\_coordinate_descent.py:631: ConvergenceWarning: Objective did not converge. You might want to increase the number of iterations, check the scale of the features or consider increasing regularisation. Duality gap: 3.053e+07, tolerance: 8.198e+03\n",
      "  model = cd_fast.enet_coordinate_descent(\n",
      "c:\\Users\\bugae\\MachineLearning-Labs\\venv\\lib\\site-packages\\sklearn\\model_selection\\_search.py:909: UserWarning: With alpha=0, this algorithm does not converge well. You are advised to use the LinearRegression estimator\n",
      "  self.best_estimator_.fit(X, y, **fit_params)\n",
      "c:\\Users\\bugae\\MachineLearning-Labs\\venv\\lib\\site-packages\\sklearn\\linear_model\\_coordinate_descent.py:631: UserWarning: Coordinate descent with no regularization may lead to unexpected results and is discouraged.\n",
      "  model = cd_fast.enet_coordinate_descent(\n"
     ]
    },
    {
     "name": "stdout",
     "output_type": "stream",
     "text": [
      "MAE: 51.028233135692595\n",
      "MSE: 8318.029152423323\n",
      "RMSE: 91.20322994512487\n",
      "MAPE: 0.5709522699518464\n",
      "R^2: 0.22716292020549944\n"
     ]
    },
    {
     "name": "stderr",
     "output_type": "stream",
     "text": [
      "c:\\Users\\bugae\\MachineLearning-Labs\\venv\\lib\\site-packages\\sklearn\\linear_model\\_coordinate_descent.py:631: ConvergenceWarning: Objective did not converge. You might want to increase the number of iterations, check the scale of the features or consider increasing regularisation. Duality gap: 3.783e+07, tolerance: 1.012e+04 Linear regression models with null weight for the l1 regularization term are more efficiently fitted using one of the solvers implemented in sklearn.linear_model.Ridge/RidgeCV instead.\n",
      "  model = cd_fast.enet_coordinate_descent(\n"
     ]
    }
   ],
   "source": [
    "l_p = create_lasso_with_hyperparameter(X_PolynomialFeatures_train, y_p_train)\n",
    "y_p_lasso_predict = l_p.predict(X_PolynomialFeatures_test)\n",
    "metrics(y_p_test, y_p_ridge_predict)"
   ]
  }
 ],
 "metadata": {
  "kernelspec": {
   "display_name": "venv",
   "language": "python",
   "name": "python3"
  },
  "language_info": {
   "codemirror_mode": {
    "name": "ipython",
    "version": 3
   },
   "file_extension": ".py",
   "mimetype": "text/x-python",
   "name": "python",
   "nbconvert_exporter": "python",
   "pygments_lexer": "ipython3",
   "version": "3.10.10"
  },
  "vscode": {
   "interpreter": {
    "hash": "2b91b03b648906c4da38485ff1ede1596c5dd28ef290a44be8b5498f0c5932a3"
   }
  }
 },
 "nbformat": 4,
 "nbformat_minor": 5
}

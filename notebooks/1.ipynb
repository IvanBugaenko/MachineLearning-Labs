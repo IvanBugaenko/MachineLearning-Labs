{
 "cells": [
  {
   "cell_type": "markdown",
   "id": "43dfc1f0",
   "metadata": {},
   "source": [
    "# Лабораторная работа 1. Введение в машинное обучение. Обучение с учителем. Задача регрессии"
   ]
  },
  {
   "cell_type": "markdown",
   "id": "af0b0580",
   "metadata": {},
   "source": [
    "<b>Традиционное предупреждение для всех лабораторных работ:</b> перед обучением моделей необходимо выполнить предварительную обработку данных, которая <b>обязательно</b> включает в себя:\n",
    "- заполнение пропущенных значений (рекомедуется логика заполнения пропусков на основе типа данных, которая использовалась в РГР по Практикуму);\n",
    "- преобразование категориальных признаков в числовые (используйте one-hot кодирование или map; используйте знания с Практикума)."
   ]
  },
  {
   "cell_type": "markdown",
   "id": "b08d9e23",
   "metadata": {},
   "source": [
    "Предобработка может включать в себя другие действия, но выполнение описанных выше действий обязательно."
   ]
  },
  {
   "cell_type": "markdown",
   "id": "05aab9d1",
   "metadata": {},
   "source": [
    "Сделайте это один раз и сохраните в отдельный csv файл, а потом его используйте."
   ]
  },
  {
   "cell_type": "markdown",
   "id": "e053af5b",
   "metadata": {},
   "source": [
    "<b>Выполните следующие задания:</b>\n",
    "- загрузите датасет для регрессии, выделите целевой признак и предикторы, разбейте данные на обучающую и тестовую выборку;\n",
    "- решите задачу регрессии на ваших данных с использованием моделей sklearn (линейная регрессия + L1, L2), для моделей с регуляризациями подберите гиперпараметр;\n",
    "- решите задачу регрессии на ваших данных с использованием моделей sklearn (полиномиальная регрессия + L1, L2), для моделей с регуляризациями подберите гиперпараметр;\n",
    "- вычислите значения метрик $R^2$, MAE, MSE, RMSE, MAPE для всех обученных моделей; выберите лучшую модель;\n",
    "- самостоятельно реализуйте (желательно в виде класса) модель линейной регрессии с регуляризацией (можете выбрать L1 или L2);\n",
    "- самостоятельно реализуйте вычисление всех используемых метрик (в виде функций, принимающих два аргумента);\n",
    "- обучите вашу модель линейной регрессии на ваших данных; оцените качество с помощью реализованных вами метрик."
   ]
  },
  {
   "cell_type": "code",
   "execution_count": 23,
   "id": "f500beec",
   "metadata": {},
   "outputs": [],
   "source": [
    "import pandas as pd\n",
    "from sklearn.model_selection import train_test_split"
   ]
  },
  {
   "cell_type": "code",
   "execution_count": 24,
   "id": "d2e81993",
   "metadata": {},
   "outputs": [
    {
     "data": {
      "text/html": [
       "<div>\n",
       "<style scoped>\n",
       "    .dataframe tbody tr th:only-of-type {\n",
       "        vertical-align: middle;\n",
       "    }\n",
       "\n",
       "    .dataframe tbody tr th {\n",
       "        vertical-align: top;\n",
       "    }\n",
       "\n",
       "    .dataframe thead th {\n",
       "        text-align: right;\n",
       "    }\n",
       "</style>\n",
       "<table border=\"1\" class=\"dataframe\">\n",
       "  <thead>\n",
       "    <tr style=\"text-align: right;\">\n",
       "      <th></th>\n",
       "      <th>Appliances</th>\n",
       "      <th>lights</th>\n",
       "      <th>T1</th>\n",
       "      <th>RH_1</th>\n",
       "      <th>T2</th>\n",
       "      <th>RH_2</th>\n",
       "      <th>T3</th>\n",
       "      <th>RH_3</th>\n",
       "      <th>T4</th>\n",
       "      <th>RH_4</th>\n",
       "      <th>...</th>\n",
       "      <th>T8</th>\n",
       "      <th>RH_8</th>\n",
       "      <th>T9</th>\n",
       "      <th>RH_9</th>\n",
       "      <th>T_out</th>\n",
       "      <th>Press_mm_hg</th>\n",
       "      <th>RH_out</th>\n",
       "      <th>Windspeed</th>\n",
       "      <th>Visibility</th>\n",
       "      <th>Tdewpoint</th>\n",
       "    </tr>\n",
       "  </thead>\n",
       "  <tbody>\n",
       "    <tr>\n",
       "      <th>0</th>\n",
       "      <td>60</td>\n",
       "      <td>30</td>\n",
       "      <td>19.89</td>\n",
       "      <td>47.596667</td>\n",
       "      <td>19.2</td>\n",
       "      <td>44.790000</td>\n",
       "      <td>19.79</td>\n",
       "      <td>44.730000</td>\n",
       "      <td>19.000000</td>\n",
       "      <td>45.566667</td>\n",
       "      <td>...</td>\n",
       "      <td>18.2</td>\n",
       "      <td>48.900000</td>\n",
       "      <td>17.033333</td>\n",
       "      <td>45.53</td>\n",
       "      <td>6.60</td>\n",
       "      <td>733.5</td>\n",
       "      <td>92.0</td>\n",
       "      <td>7.000000</td>\n",
       "      <td>63.000000</td>\n",
       "      <td>5.3</td>\n",
       "    </tr>\n",
       "    <tr>\n",
       "      <th>1</th>\n",
       "      <td>60</td>\n",
       "      <td>30</td>\n",
       "      <td>19.89</td>\n",
       "      <td>46.693333</td>\n",
       "      <td>19.2</td>\n",
       "      <td>44.722500</td>\n",
       "      <td>19.79</td>\n",
       "      <td>44.790000</td>\n",
       "      <td>19.000000</td>\n",
       "      <td>45.992500</td>\n",
       "      <td>...</td>\n",
       "      <td>18.2</td>\n",
       "      <td>48.863333</td>\n",
       "      <td>17.066667</td>\n",
       "      <td>45.56</td>\n",
       "      <td>6.48</td>\n",
       "      <td>733.6</td>\n",
       "      <td>92.0</td>\n",
       "      <td>6.666667</td>\n",
       "      <td>59.166667</td>\n",
       "      <td>5.2</td>\n",
       "    </tr>\n",
       "    <tr>\n",
       "      <th>2</th>\n",
       "      <td>50</td>\n",
       "      <td>30</td>\n",
       "      <td>19.89</td>\n",
       "      <td>46.300000</td>\n",
       "      <td>19.2</td>\n",
       "      <td>44.626667</td>\n",
       "      <td>19.79</td>\n",
       "      <td>44.933333</td>\n",
       "      <td>18.926667</td>\n",
       "      <td>45.890000</td>\n",
       "      <td>...</td>\n",
       "      <td>18.2</td>\n",
       "      <td>48.730000</td>\n",
       "      <td>17.000000</td>\n",
       "      <td>45.50</td>\n",
       "      <td>6.37</td>\n",
       "      <td>733.7</td>\n",
       "      <td>92.0</td>\n",
       "      <td>6.333333</td>\n",
       "      <td>55.333333</td>\n",
       "      <td>5.1</td>\n",
       "    </tr>\n",
       "    <tr>\n",
       "      <th>3</th>\n",
       "      <td>50</td>\n",
       "      <td>40</td>\n",
       "      <td>19.89</td>\n",
       "      <td>46.066667</td>\n",
       "      <td>19.2</td>\n",
       "      <td>44.590000</td>\n",
       "      <td>19.79</td>\n",
       "      <td>45.000000</td>\n",
       "      <td>18.890000</td>\n",
       "      <td>45.723333</td>\n",
       "      <td>...</td>\n",
       "      <td>18.1</td>\n",
       "      <td>48.590000</td>\n",
       "      <td>17.000000</td>\n",
       "      <td>45.40</td>\n",
       "      <td>6.25</td>\n",
       "      <td>733.8</td>\n",
       "      <td>92.0</td>\n",
       "      <td>6.000000</td>\n",
       "      <td>51.500000</td>\n",
       "      <td>5.0</td>\n",
       "    </tr>\n",
       "    <tr>\n",
       "      <th>4</th>\n",
       "      <td>60</td>\n",
       "      <td>40</td>\n",
       "      <td>19.89</td>\n",
       "      <td>46.333333</td>\n",
       "      <td>19.2</td>\n",
       "      <td>44.530000</td>\n",
       "      <td>19.79</td>\n",
       "      <td>45.000000</td>\n",
       "      <td>18.890000</td>\n",
       "      <td>45.530000</td>\n",
       "      <td>...</td>\n",
       "      <td>18.1</td>\n",
       "      <td>48.590000</td>\n",
       "      <td>17.000000</td>\n",
       "      <td>45.40</td>\n",
       "      <td>6.13</td>\n",
       "      <td>733.9</td>\n",
       "      <td>92.0</td>\n",
       "      <td>5.666667</td>\n",
       "      <td>47.666667</td>\n",
       "      <td>4.9</td>\n",
       "    </tr>\n",
       "  </tbody>\n",
       "</table>\n",
       "<p>5 rows × 26 columns</p>\n",
       "</div>"
      ],
      "text/plain": [
       "   Appliances  lights     T1       RH_1    T2       RH_2     T3       RH_3  \\\n",
       "0          60      30  19.89  47.596667  19.2  44.790000  19.79  44.730000   \n",
       "1          60      30  19.89  46.693333  19.2  44.722500  19.79  44.790000   \n",
       "2          50      30  19.89  46.300000  19.2  44.626667  19.79  44.933333   \n",
       "3          50      40  19.89  46.066667  19.2  44.590000  19.79  45.000000   \n",
       "4          60      40  19.89  46.333333  19.2  44.530000  19.79  45.000000   \n",
       "\n",
       "          T4       RH_4  ...    T8       RH_8         T9   RH_9  T_out  \\\n",
       "0  19.000000  45.566667  ...  18.2  48.900000  17.033333  45.53   6.60   \n",
       "1  19.000000  45.992500  ...  18.2  48.863333  17.066667  45.56   6.48   \n",
       "2  18.926667  45.890000  ...  18.2  48.730000  17.000000  45.50   6.37   \n",
       "3  18.890000  45.723333  ...  18.1  48.590000  17.000000  45.40   6.25   \n",
       "4  18.890000  45.530000  ...  18.1  48.590000  17.000000  45.40   6.13   \n",
       "\n",
       "   Press_mm_hg  RH_out  Windspeed  Visibility  Tdewpoint  \n",
       "0        733.5    92.0   7.000000   63.000000        5.3  \n",
       "1        733.6    92.0   6.666667   59.166667        5.2  \n",
       "2        733.7    92.0   6.333333   55.333333        5.1  \n",
       "3        733.8    92.0   6.000000   51.500000        5.0  \n",
       "4        733.9    92.0   5.666667   47.666667        4.9  \n",
       "\n",
       "[5 rows x 26 columns]"
      ]
     },
     "execution_count": 24,
     "metadata": {},
     "output_type": "execute_result"
    }
   ],
   "source": [
    "table = pd.read_csv(\"../data/energy_task.csv\")\n",
    "table.drop([\"date\"], axis=1, inplace=True)\n",
    "table.head(5)"
   ]
  },
  {
   "cell_type": "code",
   "execution_count": 25,
   "id": "67009cc6",
   "metadata": {},
   "outputs": [
    {
     "name": "stdout",
     "output_type": "stream",
     "text": [
      "<class 'pandas.core.frame.DataFrame'>\n",
      "RangeIndex: 19735 entries, 0 to 19734\n",
      "Data columns (total 26 columns):\n",
      " #   Column       Non-Null Count  Dtype  \n",
      "---  ------       --------------  -----  \n",
      " 0   Appliances   19735 non-null  int64  \n",
      " 1   lights       19735 non-null  int64  \n",
      " 2   T1           19735 non-null  float64\n",
      " 3   RH_1         19735 non-null  float64\n",
      " 4   T2           19735 non-null  float64\n",
      " 5   RH_2         19569 non-null  float64\n",
      " 6   T3           19735 non-null  float64\n",
      " 7   RH_3         19735 non-null  float64\n",
      " 8   T4           19735 non-null  float64\n",
      " 9   RH_4         19654 non-null  float64\n",
      " 10  T5           19735 non-null  float64\n",
      " 11  RH_5         19644 non-null  float64\n",
      " 12  T6           19735 non-null  float64\n",
      " 13  RH_6         19651 non-null  float64\n",
      " 14  T7           19681 non-null  float64\n",
      " 15  RH_7         19735 non-null  float64\n",
      " 16  T8           19613 non-null  float64\n",
      " 17  RH_8         19735 non-null  float64\n",
      " 18  T9           19651 non-null  float64\n",
      " 19  RH_9         19732 non-null  float64\n",
      " 20  T_out        19539 non-null  float64\n",
      " 21  Press_mm_hg  19607 non-null  float64\n",
      " 22  RH_out       19634 non-null  float64\n",
      " 23  Windspeed    19735 non-null  float64\n",
      " 24  Visibility   19725 non-null  float64\n",
      " 25  Tdewpoint    19735 non-null  float64\n",
      "dtypes: float64(24), int64(2)\n",
      "memory usage: 3.9 MB\n"
     ]
    }
   ],
   "source": [
    "table.info()"
   ]
  },
  {
   "attachments": {},
   "cell_type": "markdown",
   "id": "494fb185",
   "metadata": {},
   "source": [
    "Проверка датасета на наличие пустых данных"
   ]
  },
  {
   "cell_type": "code",
   "execution_count": 26,
   "id": "c9e196d4",
   "metadata": {},
   "outputs": [
    {
     "name": "stdout",
     "output_type": "stream",
     "text": [
      "В столбце RH_2 есть пустые элементы\n",
      "В столбце RH_4 есть пустые элементы\n",
      "В столбце RH_5 есть пустые элементы\n",
      "В столбце RH_6 есть пустые элементы\n",
      "В столбце T7 есть пустые элементы\n",
      "В столбце T8 есть пустые элементы\n",
      "В столбце T9 есть пустые элементы\n",
      "В столбце RH_9 есть пустые элементы\n",
      "В столбце T_out есть пустые элементы\n",
      "В столбце Press_mm_hg есть пустые элементы\n",
      "В столбце RH_out есть пустые элементы\n",
      "В столбце Visibility есть пустые элементы\n",
      "['RH_2', 'RH_4', 'RH_5', 'RH_6', 'T7', 'T8', 'T9', 'RH_9', 'T_out', 'Press_mm_hg', 'RH_out', 'Visibility']\n"
     ]
    }
   ],
   "source": [
    "null_columns = []\n",
    "for i in table.columns:\n",
    "    if len(table[table[i].isnull()]) > 0:\n",
    "        print(f\"В столбце {i} есть пустые элементы\")\n",
    "        null_columns.append(i)\n",
    "print(null_columns)"
   ]
  },
  {
   "cell_type": "code",
   "execution_count": 27,
   "id": "9ba89764",
   "metadata": {},
   "outputs": [],
   "source": [
    "def fill_empty_cell(column_name, df):\n",
    "    if df.dtypes[column_name] == \"float64\":\n",
    "        df[column_name] = df[column_name].fillna(df[column_name].mean())\n",
    "    elif df.dtypes[column_name] == \"int64\":\n",
    "        df[column_name] = df[column_name].fillna(df[column_name].median())\n",
    "    else:\n",
    "        df[column_name] = df[column_name].fillna(df[column_name].mode())\n",
    "\n",
    "\n",
    "for name in null_columns:\n",
    "    fill_empty_cell(name, table)"
   ]
  },
  {
   "cell_type": "code",
   "execution_count": 28,
   "id": "10f9a516",
   "metadata": {},
   "outputs": [],
   "source": [
    "for i in table.columns:\n",
    "    if len(table[table[i].isnull()]) > 0:\n",
    "        print(f\"В столбце {i} есть пустые элементы\")"
   ]
  },
  {
   "cell_type": "code",
   "execution_count": 29,
   "id": "784efa80",
   "metadata": {},
   "outputs": [],
   "source": [
    "table.to_csv('../data/energy_task_compleated.csv') "
   ]
  },
  {
   "cell_type": "code",
   "execution_count": 30,
   "id": "f89cb2c0",
   "metadata": {},
   "outputs": [],
   "source": [
    "y = table[\"Appliances\"]\n",
    "X = table.drop([\"Appliances\"], axis=1)"
   ]
  },
  {
   "cell_type": "code",
   "execution_count": 31,
   "id": "967ae018",
   "metadata": {},
   "outputs": [],
   "source": [
    "X_train, X_test, y_train, y_test = train_test_split(X, y, test_size=0.3)"
   ]
  },
  {
   "cell_type": "code",
   "execution_count": null,
   "id": "14c63a17",
   "metadata": {},
   "outputs": [],
   "source": []
  }
 ],
 "metadata": {
  "kernelspec": {
   "display_name": "venv",
   "language": "python",
   "name": "python3"
  },
  "language_info": {
   "codemirror_mode": {
    "name": "ipython",
    "version": 3
   },
   "file_extension": ".py",
   "mimetype": "text/x-python",
   "name": "python",
   "nbconvert_exporter": "python",
   "pygments_lexer": "ipython3",
   "version": "3.10.10"
  },
  "vscode": {
   "interpreter": {
    "hash": "2b91b03b648906c4da38485ff1ede1596c5dd28ef290a44be8b5498f0c5932a3"
   }
  }
 },
 "nbformat": 4,
 "nbformat_minor": 5
}

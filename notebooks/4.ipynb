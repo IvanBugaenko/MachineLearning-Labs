{
 "cells": [
  {
   "cell_type": "code",
   "execution_count": 3,
   "metadata": {},
   "outputs": [],
   "source": [
    "from pathlib import Path\n",
    "import os\n",
    "import sys\n",
    "\n",
    "sys.path.append(str(Path(os.getcwd()).parent))"
   ]
  },
  {
   "cell_type": "code",
   "execution_count": 4,
   "metadata": {},
   "outputs": [],
   "source": [
    "import pandas as pd\n",
    "import numpy as np\n",
    "from sklearn.preprocessing import StandardScaler\n",
    "from sklearn.model_selection import train_test_split, GridSearchCV\n",
    "from imblearn.under_sampling import RandomUnderSampler\n",
    "import tensorflow as tf"
   ]
  },
  {
   "attachments": {},
   "cell_type": "markdown",
   "metadata": {},
   "source": [
    "## 1. Предобработка данных для классификации"
   ]
  },
  {
   "cell_type": "code",
   "execution_count": 5,
   "metadata": {},
   "outputs": [
    {
     "data": {
      "text/html": [
       "<div>\n",
       "<style scoped>\n",
       "    .dataframe tbody tr th:only-of-type {\n",
       "        vertical-align: middle;\n",
       "    }\n",
       "\n",
       "    .dataframe tbody tr th {\n",
       "        vertical-align: top;\n",
       "    }\n",
       "\n",
       "    .dataframe thead th {\n",
       "        text-align: right;\n",
       "    }\n",
       "</style>\n",
       "<table border=\"1\" class=\"dataframe\">\n",
       "  <thead>\n",
       "    <tr style=\"text-align: right;\">\n",
       "      <th></th>\n",
       "      <th>est_diameter_min</th>\n",
       "      <th>est_diameter_max</th>\n",
       "      <th>relative_velocity</th>\n",
       "      <th>miss_distance</th>\n",
       "      <th>absolute_magnitude</th>\n",
       "      <th>hazardous</th>\n",
       "    </tr>\n",
       "  </thead>\n",
       "  <tbody>\n",
       "    <tr>\n",
       "      <th>0</th>\n",
       "      <td>0.016016</td>\n",
       "      <td>0.035813</td>\n",
       "      <td>56014.078517</td>\n",
       "      <td>1.024333e+06</td>\n",
       "      <td>26.10</td>\n",
       "      <td>False</td>\n",
       "    </tr>\n",
       "    <tr>\n",
       "      <th>1</th>\n",
       "      <td>0.030518</td>\n",
       "      <td>0.068240</td>\n",
       "      <td>7864.348060</td>\n",
       "      <td>3.268186e+07</td>\n",
       "      <td>24.70</td>\n",
       "      <td>False</td>\n",
       "    </tr>\n",
       "    <tr>\n",
       "      <th>2</th>\n",
       "      <td>0.055533</td>\n",
       "      <td>0.124177</td>\n",
       "      <td>55257.544508</td>\n",
       "      <td>6.538636e+07</td>\n",
       "      <td>23.40</td>\n",
       "      <td>False</td>\n",
       "    </tr>\n",
       "    <tr>\n",
       "      <th>3</th>\n",
       "      <td>0.019256</td>\n",
       "      <td>0.043057</td>\n",
       "      <td>41531.404722</td>\n",
       "      <td>1.260796e+07</td>\n",
       "      <td>25.70</td>\n",
       "      <td>False</td>\n",
       "    </tr>\n",
       "    <tr>\n",
       "      <th>4</th>\n",
       "      <td>0.139494</td>\n",
       "      <td>0.311918</td>\n",
       "      <td>67639.394481</td>\n",
       "      <td>7.130590e+07</td>\n",
       "      <td>21.40</td>\n",
       "      <td>False</td>\n",
       "    </tr>\n",
       "    <tr>\n",
       "      <th>...</th>\n",
       "      <td>...</td>\n",
       "      <td>...</td>\n",
       "      <td>...</td>\n",
       "      <td>...</td>\n",
       "      <td>...</td>\n",
       "      <td>...</td>\n",
       "    </tr>\n",
       "    <tr>\n",
       "      <th>90831</th>\n",
       "      <td>0.017561</td>\n",
       "      <td>0.039268</td>\n",
       "      <td>23264.740825</td>\n",
       "      <td>1.635007e+06</td>\n",
       "      <td>25.90</td>\n",
       "      <td>False</td>\n",
       "    </tr>\n",
       "    <tr>\n",
       "      <th>90832</th>\n",
       "      <td>0.110804</td>\n",
       "      <td>0.247765</td>\n",
       "      <td>24802.519406</td>\n",
       "      <td>3.351901e+07</td>\n",
       "      <td>21.90</td>\n",
       "      <td>False</td>\n",
       "    </tr>\n",
       "    <tr>\n",
       "      <th>90833</th>\n",
       "      <td>0.035039</td>\n",
       "      <td>0.078350</td>\n",
       "      <td>116288.999548</td>\n",
       "      <td>5.471396e+07</td>\n",
       "      <td>24.40</td>\n",
       "      <td>False</td>\n",
       "    </tr>\n",
       "    <tr>\n",
       "      <th>90834</th>\n",
       "      <td>0.044112</td>\n",
       "      <td>0.098637</td>\n",
       "      <td>45763.317060</td>\n",
       "      <td>2.694877e+07</td>\n",
       "      <td>23.90</td>\n",
       "      <td>False</td>\n",
       "    </tr>\n",
       "    <tr>\n",
       "      <th>90835</th>\n",
       "      <td>0.084441</td>\n",
       "      <td>0.188817</td>\n",
       "      <td>79519.526381</td>\n",
       "      <td>3.631207e+07</td>\n",
       "      <td>22.49</td>\n",
       "      <td>False</td>\n",
       "    </tr>\n",
       "  </tbody>\n",
       "</table>\n",
       "<p>90836 rows × 6 columns</p>\n",
       "</div>"
      ],
      "text/plain": [
       "       est_diameter_min  est_diameter_max  relative_velocity  miss_distance  \\\n",
       "0              0.016016          0.035813       56014.078517   1.024333e+06   \n",
       "1              0.030518          0.068240        7864.348060   3.268186e+07   \n",
       "2              0.055533          0.124177       55257.544508   6.538636e+07   \n",
       "3              0.019256          0.043057       41531.404722   1.260796e+07   \n",
       "4              0.139494          0.311918       67639.394481   7.130590e+07   \n",
       "...                 ...               ...                ...            ...   \n",
       "90831          0.017561          0.039268       23264.740825   1.635007e+06   \n",
       "90832          0.110804          0.247765       24802.519406   3.351901e+07   \n",
       "90833          0.035039          0.078350      116288.999548   5.471396e+07   \n",
       "90834          0.044112          0.098637       45763.317060   2.694877e+07   \n",
       "90835          0.084441          0.188817       79519.526381   3.631207e+07   \n",
       "\n",
       "       absolute_magnitude  hazardous  \n",
       "0                   26.10      False  \n",
       "1                   24.70      False  \n",
       "2                   23.40      False  \n",
       "3                   25.70      False  \n",
       "4                   21.40      False  \n",
       "...                   ...        ...  \n",
       "90831               25.90      False  \n",
       "90832               21.90      False  \n",
       "90833               24.40      False  \n",
       "90834               23.90      False  \n",
       "90835               22.49      False  \n",
       "\n",
       "[90836 rows x 6 columns]"
      ]
     },
     "execution_count": 5,
     "metadata": {},
     "output_type": "execute_result"
    }
   ],
   "source": [
    "table_classification = pd.read_csv(\"../data/neo_task_compleated.csv\")\n",
    "table_classification"
   ]
  },
  {
   "cell_type": "code",
   "execution_count": 6,
   "metadata": {},
   "outputs": [],
   "source": [
    "X_classification = np.array(table_classification.drop(columns=['hazardous'], axis=1))\n",
    "y_classification = np.array(table_classification['hazardous'])\n",
    "columns = table_classification.drop(columns=['hazardous'], axis=1).columns"
   ]
  },
  {
   "cell_type": "code",
   "execution_count": 7,
   "metadata": {},
   "outputs": [
    {
     "name": "stdout",
     "output_type": "stream",
     "text": [
      "(17680, 5) (17680,)\n"
     ]
    }
   ],
   "source": [
    "rus = RandomUnderSampler()\n",
    "X, y = rus.fit_resample(X_classification, y_classification)\n",
    "print(X.shape, y.shape)"
   ]
  },
  {
   "cell_type": "code",
   "execution_count": 8,
   "metadata": {},
   "outputs": [],
   "source": [
    "X_train, X_test, y_train, y_test = train_test_split(X, y, test_size=0.3, stratify=y, shuffle=True)"
   ]
  },
  {
   "cell_type": "code",
   "execution_count": 9,
   "metadata": {},
   "outputs": [
    {
     "data": {
      "text/plain": [
       "array([[-0.4925856 , -0.49252148, -1.292951  ,  0.76776362,  0.325423  ],\n",
       "       [-0.00393169, -0.00291649, -1.1354122 , -1.07647549, -0.52657773],\n",
       "       [-0.4416683 , -0.44150507, -0.57768376, -0.84696529,  0.17755511],\n",
       "       ...,\n",
       "       [ 0.13117173,  0.13244989,  0.61321298,  1.07551441, -0.65684231],\n",
       "       [-0.57354848, -0.57364194,  0.68634373,  0.90230633,  0.64228278],\n",
       "       [-0.32597575, -0.32558735, -1.14790476,  0.12880583, -0.07945338]])"
      ]
     },
     "execution_count": 9,
     "metadata": {},
     "output_type": "execute_result"
    }
   ],
   "source": [
    "# Масштабирование\n",
    "\n",
    "scaler = StandardScaler()\n",
    "X_train = scaler.fit_transform(X_train)\n",
    "X_test = scaler.transform(X_test)\n",
    "\n",
    "X_my_train, X_my_test, y_my_train, y_my_test = X_train, X_test, y_train, y_test\n",
    "\n",
    "X_train"
   ]
  }
 ],
 "metadata": {
  "kernelspec": {
   "display_name": "venv",
   "language": "python",
   "name": "python3"
  },
  "language_info": {
   "codemirror_mode": {
    "name": "ipython",
    "version": 3
   },
   "file_extension": ".py",
   "mimetype": "text/x-python",
   "name": "python",
   "nbconvert_exporter": "python",
   "pygments_lexer": "ipython3",
   "version": "3.10.11"
  },
  "orig_nbformat": 4
 },
 "nbformat": 4,
 "nbformat_minor": 2
}

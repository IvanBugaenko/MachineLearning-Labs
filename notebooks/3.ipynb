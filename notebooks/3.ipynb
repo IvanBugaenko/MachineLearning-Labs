{
 "cells": [
  {
   "attachments": {},
   "cell_type": "markdown",
   "metadata": {},
   "source": [
    "# Задание\n",
    "  1. Использовать DecisionTreeClassifier и DecisionTreeRegressor для наборов данных своего варианта.\n",
    "  2. Использовать [ансамбли](https://scikit-learn.org/stable/modules/classes.html#module-sklearn.ensemble) для наборов данных своего варианта:\n",
    "    - BaggingClassifier\n",
    "    - BaggingRegressor\n",
    "    - GradientBoostingClassifier\n",
    "    - GradientBoostingRegressor\n",
    "    - StackingClassifier\n",
    "    - StackingRegressor\n",
    "  3. Попробовать для решения задачи регрессии и классификации одну из библиотек (на выбор): \n",
    "    - [Catboost](https://catboost.ai/en/docs/concepts/python-usages-examples), \n",
    "    - [XGBoost](https://xgboost.readthedocs.io/en/stable/get_started.html), \n",
    "    - [LightGBM](https://github.com/microsoft/LightGBM/blob/master/examples/python-guide/simple_example.py)\n",
    "  4. Реализовать обучения и вычисления дерева с использованием алгоритма CART для задачи регрессии и классификации.\n",
    "  5. Доп. задание: реализовать(на выбор) бустинг или бэггинг."
   ]
  },
  {
   "cell_type": "code",
   "execution_count": 36,
   "metadata": {},
   "outputs": [],
   "source": [
    "from pathlib import Path\n",
    "import os\n",
    "import sys\n",
    "\n",
    "sys.path.append(str(Path(os.getcwd()).parent))"
   ]
  },
  {
   "cell_type": "code",
   "execution_count": 37,
   "metadata": {},
   "outputs": [],
   "source": [
    "import pandas as pd\n",
    "import numpy as np\n",
    "from sklearn.preprocessing import StandardScaler\n",
    "from sklearn.model_selection import train_test_split, GridSearchCV\n",
    "from imblearn.under_sampling import RandomUnderSampler\n",
    "from matplotlib import pyplot as plt\n",
    "from sklearn.tree import plot_tree"
   ]
  },
  {
   "attachments": {},
   "cell_type": "markdown",
   "metadata": {},
   "source": [
    "## 1.1.1. Предобработка для классификации"
   ]
  },
  {
   "cell_type": "code",
   "execution_count": 78,
   "metadata": {},
   "outputs": [
    {
     "data": {
      "text/html": [
       "<div>\n",
       "<style scoped>\n",
       "    .dataframe tbody tr th:only-of-type {\n",
       "        vertical-align: middle;\n",
       "    }\n",
       "\n",
       "    .dataframe tbody tr th {\n",
       "        vertical-align: top;\n",
       "    }\n",
       "\n",
       "    .dataframe thead th {\n",
       "        text-align: right;\n",
       "    }\n",
       "</style>\n",
       "<table border=\"1\" class=\"dataframe\">\n",
       "  <thead>\n",
       "    <tr style=\"text-align: right;\">\n",
       "      <th></th>\n",
       "      <th>est_diameter_min</th>\n",
       "      <th>est_diameter_max</th>\n",
       "      <th>relative_velocity</th>\n",
       "      <th>miss_distance</th>\n",
       "      <th>absolute_magnitude</th>\n",
       "      <th>hazardous</th>\n",
       "    </tr>\n",
       "  </thead>\n",
       "  <tbody>\n",
       "    <tr>\n",
       "      <th>0</th>\n",
       "      <td>0.016016</td>\n",
       "      <td>0.035813</td>\n",
       "      <td>56014.078517</td>\n",
       "      <td>1.024333e+06</td>\n",
       "      <td>26.10</td>\n",
       "      <td>False</td>\n",
       "    </tr>\n",
       "    <tr>\n",
       "      <th>1</th>\n",
       "      <td>0.030518</td>\n",
       "      <td>0.068240</td>\n",
       "      <td>7864.348060</td>\n",
       "      <td>3.268186e+07</td>\n",
       "      <td>24.70</td>\n",
       "      <td>False</td>\n",
       "    </tr>\n",
       "    <tr>\n",
       "      <th>2</th>\n",
       "      <td>0.055533</td>\n",
       "      <td>0.124177</td>\n",
       "      <td>55257.544508</td>\n",
       "      <td>6.538636e+07</td>\n",
       "      <td>23.40</td>\n",
       "      <td>False</td>\n",
       "    </tr>\n",
       "    <tr>\n",
       "      <th>3</th>\n",
       "      <td>0.019256</td>\n",
       "      <td>0.043057</td>\n",
       "      <td>41531.404722</td>\n",
       "      <td>1.260796e+07</td>\n",
       "      <td>25.70</td>\n",
       "      <td>False</td>\n",
       "    </tr>\n",
       "    <tr>\n",
       "      <th>4</th>\n",
       "      <td>0.139494</td>\n",
       "      <td>0.311918</td>\n",
       "      <td>67639.394481</td>\n",
       "      <td>7.130590e+07</td>\n",
       "      <td>21.40</td>\n",
       "      <td>False</td>\n",
       "    </tr>\n",
       "    <tr>\n",
       "      <th>...</th>\n",
       "      <td>...</td>\n",
       "      <td>...</td>\n",
       "      <td>...</td>\n",
       "      <td>...</td>\n",
       "      <td>...</td>\n",
       "      <td>...</td>\n",
       "    </tr>\n",
       "    <tr>\n",
       "      <th>90831</th>\n",
       "      <td>0.017561</td>\n",
       "      <td>0.039268</td>\n",
       "      <td>23264.740825</td>\n",
       "      <td>1.635007e+06</td>\n",
       "      <td>25.90</td>\n",
       "      <td>False</td>\n",
       "    </tr>\n",
       "    <tr>\n",
       "      <th>90832</th>\n",
       "      <td>0.110804</td>\n",
       "      <td>0.247765</td>\n",
       "      <td>24802.519406</td>\n",
       "      <td>3.351901e+07</td>\n",
       "      <td>21.90</td>\n",
       "      <td>False</td>\n",
       "    </tr>\n",
       "    <tr>\n",
       "      <th>90833</th>\n",
       "      <td>0.035039</td>\n",
       "      <td>0.078350</td>\n",
       "      <td>116288.999548</td>\n",
       "      <td>5.471396e+07</td>\n",
       "      <td>24.40</td>\n",
       "      <td>False</td>\n",
       "    </tr>\n",
       "    <tr>\n",
       "      <th>90834</th>\n",
       "      <td>0.044112</td>\n",
       "      <td>0.098637</td>\n",
       "      <td>45763.317060</td>\n",
       "      <td>2.694877e+07</td>\n",
       "      <td>23.90</td>\n",
       "      <td>False</td>\n",
       "    </tr>\n",
       "    <tr>\n",
       "      <th>90835</th>\n",
       "      <td>0.084441</td>\n",
       "      <td>0.188817</td>\n",
       "      <td>79519.526381</td>\n",
       "      <td>3.631207e+07</td>\n",
       "      <td>22.49</td>\n",
       "      <td>False</td>\n",
       "    </tr>\n",
       "  </tbody>\n",
       "</table>\n",
       "<p>90836 rows × 6 columns</p>\n",
       "</div>"
      ],
      "text/plain": [
       "       est_diameter_min  est_diameter_max  relative_velocity  miss_distance  \\\n",
       "0              0.016016          0.035813       56014.078517   1.024333e+06   \n",
       "1              0.030518          0.068240        7864.348060   3.268186e+07   \n",
       "2              0.055533          0.124177       55257.544508   6.538636e+07   \n",
       "3              0.019256          0.043057       41531.404722   1.260796e+07   \n",
       "4              0.139494          0.311918       67639.394481   7.130590e+07   \n",
       "...                 ...               ...                ...            ...   \n",
       "90831          0.017561          0.039268       23264.740825   1.635007e+06   \n",
       "90832          0.110804          0.247765       24802.519406   3.351901e+07   \n",
       "90833          0.035039          0.078350      116288.999548   5.471396e+07   \n",
       "90834          0.044112          0.098637       45763.317060   2.694877e+07   \n",
       "90835          0.084441          0.188817       79519.526381   3.631207e+07   \n",
       "\n",
       "       absolute_magnitude  hazardous  \n",
       "0                   26.10      False  \n",
       "1                   24.70      False  \n",
       "2                   23.40      False  \n",
       "3                   25.70      False  \n",
       "4                   21.40      False  \n",
       "...                   ...        ...  \n",
       "90831               25.90      False  \n",
       "90832               21.90      False  \n",
       "90833               24.40      False  \n",
       "90834               23.90      False  \n",
       "90835               22.49      False  \n",
       "\n",
       "[90836 rows x 6 columns]"
      ]
     },
     "execution_count": 78,
     "metadata": {},
     "output_type": "execute_result"
    }
   ],
   "source": [
    "table_classification = pd.read_csv(\"../data/neo_task_compleated.csv\")\n",
    "table_classification"
   ]
  },
  {
   "cell_type": "code",
   "execution_count": 79,
   "metadata": {},
   "outputs": [],
   "source": [
    "X_classification = np.array(table_classification.drop(columns=['hazardous'], axis=1))\n",
    "y_classification = np.array(table_classification['hazardous'])\n",
    "columns = table_classification.drop(columns=['hazardous'], axis=1).columns"
   ]
  },
  {
   "cell_type": "code",
   "execution_count": 80,
   "metadata": {},
   "outputs": [
    {
     "name": "stdout",
     "output_type": "stream",
     "text": [
      "(17680, 5) (17680,)\n"
     ]
    }
   ],
   "source": [
    "# Дисбаланс классов\n",
    "\n",
    "rus = RandomUnderSampler()\n",
    "X, y = rus.fit_resample(X_classification, y_classification)\n",
    "print(X.shape, y.shape)\n",
    "\n",
    "# X, y = X_classification, y_classification"
   ]
  },
  {
   "attachments": {
    "image.png": {
     "image/png": "[encoded data removed]"
    }
   },
   "cell_type": "markdown",
   "metadata": {},
   "source": [
    "Без RandomUnderSampler очень плохие результаты у 2 класса!\n",
    "\n",
    "![image.png](attachment:image.png)"
   ]
  },
  {
   "cell_type": "code",
   "execution_count": 81,
   "metadata": {},
   "outputs": [],
   "source": [
    "X_train, X_test, y_train, y_test = train_test_split(X, y, test_size=0.3, stratify=y, shuffle=True)"
   ]
  },
  {
   "cell_type": "code",
   "execution_count": 83,
   "metadata": {},
   "outputs": [
    {
     "data": {
      "text/plain": [
       "array([[-0.17454217, -0.17365261, -0.53150224,  0.97935634, -0.13784494],\n",
       "       [-0.19339569, -0.19253052, -0.38897814,  0.63386826, -0.07739707],\n",
       "       [ 0.16201592,  0.16334081, -0.34298716, -1.37488871, -0.79566004],\n",
       "       ...,\n",
       "       [-0.05628805, -0.05524553,  0.89694724,  1.50388142, -0.43652855],\n",
       "       [-0.3765436 , -0.37591533, -0.61003836, -0.46058278,  1.13156041],\n",
       "       [ 0.01420887,  0.01534257, -0.72320159, -0.69825118, -0.57164733]])"
      ]
     },
     "execution_count": 83,
     "metadata": {},
     "output_type": "execute_result"
    }
   ],
   "source": [
    "# Масштабирование\n",
    "\n",
    "scaler = StandardScaler()\n",
    "X_train = scaler.fit_transform(X_train)\n",
    "X_test = scaler.transform(X_test)\n",
    "\n",
    "X_my_train, X_my_test, y_my_train, y_my_test = X_train, X_test, y_train, y_test\n",
    "\n",
    "X_train"
   ]
  },
  {
   "attachments": {},
   "cell_type": "markdown",
   "metadata": {},
   "source": [
    "## 1.1.2. Обучение моделей решающих деревьев для классификации"
   ]
  },
  {
   "cell_type": "code",
   "execution_count": 43,
   "metadata": {},
   "outputs": [],
   "source": [
    "from sklearn.metrics import classification_report\n",
    "from sklearn.tree import DecisionTreeClassifier\n",
    "from sklearn.ensemble import BaggingClassifier, GradientBoostingClassifier, StackingClassifier"
   ]
  },
  {
   "cell_type": "code",
   "execution_count": 44,
   "metadata": {},
   "outputs": [
    {
     "name": "stdout",
     "output_type": "stream",
     "text": [
      "              precision    recall  f1-score   support\n",
      "\n",
      "       False       0.99      0.78      0.87      2652\n",
      "        True       0.82      0.99      0.89      2652\n",
      "\n",
      "    accuracy                           0.88      5304\n",
      "   macro avg       0.90      0.88      0.88      5304\n",
      "weighted avg       0.90      0.88      0.88      5304\n",
      "\n"
     ]
    }
   ],
   "source": [
    "# DecisionTreeClassifier\n",
    "\n",
    "grid = {\n",
    "    'max_depth': np.arange(3, 5, 1),\n",
    "    'criterion': [\"gini\", \"entropy\", \"log_loss\"]\n",
    "}\n",
    "\n",
    "dt = GridSearchCV(DecisionTreeClassifier(), grid).fit(X_train, y_train)\n",
    "y_pred = dt.predict(X_test)\n",
    "print(classification_report(y_test, y_pred))"
   ]
  },
  {
   "cell_type": "code",
   "execution_count": 45,
   "metadata": {},
   "outputs": [
    {
     "data": {
      "text/plain": [
       "{'criterion': 'gini', 'max_depth': 4}"
      ]
     },
     "execution_count": 45,
     "metadata": {},
     "output_type": "execute_result"
    }
   ],
   "source": [
    "dt.best_params_"
   ]
  },
  {
   "cell_type": "code",
   "execution_count": 46,
   "metadata": {},
   "outputs": [],
   "source": [
    "fig = plt.figure(figsize=(20, 20))\n",
    "_ = plot_tree(dt.best_estimator_, filled=True)"
   ]
  },
  {
   "cell_type": "code",
   "execution_count": 47,
   "metadata": {},
   "outputs": [],
   "source": [
    "# BaggingClassifier\n",
    "\n",
    "from sklearn.neighbors import KNeighborsClassifier\n",
    "from sklearn.linear_model import LogisticRegression\n",
    "\n",
    "grid_knn = {\n",
    "    'n_neighbors': np.arange(5, 11, 2),\n",
    "    'p': np.array([1, 2])\n",
    "}\n",
    "\n",
    "log_reg_grid = {\n",
    "    'C': np.array([0.01, 0.05, 0.1, 0.5, 1, 5, 10])\n",
    "}\n",
    "\n",
    "grid_bagging = {\n",
    "    'estimator': [GridSearchCV(KNeighborsClassifier(), grid_knn).fit(X_train, y_train).best_estimator_, \n",
    "                  GridSearchCV(LogisticRegression(), log_reg_grid).fit(X_train, y_train).best_estimator_],\n",
    "    'n_estimators': np.arange(9, 15, 2),\n",
    "}\n",
    "\n",
    "b = GridSearchCV(BaggingClassifier(), grid_bagging).fit(X_train, y_train)\n",
    "y_pred = b.predict(X_test)\n",
    "print(classification_report(y_test, y_pred))\n"
   ]
  },
  {
   "cell_type": "code",
   "execution_count": 48,
   "metadata": {},
   "outputs": [],
   "source": [
    "b.best_params_"
   ]
  },
  {
   "cell_type": "code",
   "execution_count": 49,
   "metadata": {},
   "outputs": [],
   "source": [
    "# GradientBoostingClassifier\n",
    "\n",
    "grid_gb = {\n",
    "    'loss': [\"log_loss\", \"exponential\"],\n",
    "    'max_depth': np.arange(3, 5, 1)\n",
    "}\n",
    "\n",
    "gb = GridSearchCV(GradientBoostingClassifier(), grid_gb).fit(X_train, y_train)\n",
    "y_pred = gb.predict(X_test)\n",
    "print(classification_report(y_test, y_pred))"
   ]
  },
  {
   "cell_type": "code",
   "execution_count": 50,
   "metadata": {},
   "outputs": [],
   "source": [
    "gb.best_params_"
   ]
  },
  {
   "cell_type": "code",
   "execution_count": 51,
   "metadata": {},
   "outputs": [],
   "source": [
    "# StackingClassifier\n",
    "\n",
    "est = [\n",
    "    ('knn', GridSearchCV(KNeighborsClassifier(), grid_knn).fit(X_train, y_train).best_estimator_), \n",
    "    ('lr', GridSearchCV(LogisticRegression(), log_reg_grid).fit(X_train, y_train).best_estimator_)\n",
    "]\n",
    "\n",
    "grid_st = {\n",
    "    'n_jobs': np.arange(2, 10, 1)\n",
    "}\n",
    "\n",
    "s = GridSearchCV(StackingClassifier(est, LogisticRegression()), grid_st).fit(X_train, y_train)\n",
    "y_pred = s.predict(X_test)\n",
    "print(classification_report(y_test, y_pred))"
   ]
  },
  {
   "cell_type": "code",
   "execution_count": 52,
   "metadata": {},
   "outputs": [],
   "source": [
    "s.best_params_"
   ]
  },
  {
   "cell_type": "code",
   "execution_count": 53,
   "metadata": {},
   "outputs": [
    {
     "name": "stdout",
     "output_type": "stream",
     "text": [
      "              precision    recall  f1-score   support\n",
      "\n",
      "       False       0.96      0.79      0.87      2652\n",
      "        True       0.82      0.96      0.89      2652\n",
      "\n",
      "    accuracy                           0.88      5304\n",
      "   macro avg       0.89      0.88      0.88      5304\n",
      "weighted avg       0.89      0.88      0.88      5304\n",
      "\n"
     ]
    }
   ],
   "source": [
    "# Градиентный бустинг XGBoost для классификации\n",
    "\n",
    "from xgboost import XGBClassifier\n",
    "\n",
    "xg_class = XGBClassifier(max_depth=8).fit(X_train, y_train)\n",
    "y_pred = xg_class.predict(X_test)\n",
    "\n",
    "print(classification_report(y_test, y_pred))"
   ]
  },
  {
   "attachments": {},
   "cell_type": "markdown",
   "metadata": {},
   "source": [
    "## 1.2.1. Предобработка для регрессии"
   ]
  },
  {
   "cell_type": "code",
   "execution_count": 54,
   "metadata": {},
   "outputs": [
    {
     "data": {
      "text/html": [
       "<div>\n",
       "<style scoped>\n",
       "    .dataframe tbody tr th:only-of-type {\n",
       "        vertical-align: middle;\n",
       "    }\n",
       "\n",
       "    .dataframe tbody tr th {\n",
       "        vertical-align: top;\n",
       "    }\n",
       "\n",
       "    .dataframe thead th {\n",
       "        text-align: right;\n",
       "    }\n",
       "</style>\n",
       "<table border=\"1\" class=\"dataframe\">\n",
       "  <thead>\n",
       "    <tr style=\"text-align: right;\">\n",
       "      <th></th>\n",
       "      <th>Unnamed: 0</th>\n",
       "      <th>Appliances</th>\n",
       "      <th>lights</th>\n",
       "      <th>T1</th>\n",
       "      <th>RH_1</th>\n",
       "      <th>T2</th>\n",
       "      <th>RH_2</th>\n",
       "      <th>T3</th>\n",
       "      <th>RH_3</th>\n",
       "      <th>T4</th>\n",
       "      <th>...</th>\n",
       "      <th>T9</th>\n",
       "      <th>RH_9</th>\n",
       "      <th>T_out</th>\n",
       "      <th>Press_mm_hg</th>\n",
       "      <th>RH_out</th>\n",
       "      <th>Windspeed</th>\n",
       "      <th>Visibility</th>\n",
       "      <th>Tdewpoint</th>\n",
       "      <th>month</th>\n",
       "      <th>day</th>\n",
       "    </tr>\n",
       "  </thead>\n",
       "  <tbody>\n",
       "    <tr>\n",
       "      <th>0</th>\n",
       "      <td>0</td>\n",
       "      <td>60</td>\n",
       "      <td>30</td>\n",
       "      <td>19.890000</td>\n",
       "      <td>47.596667</td>\n",
       "      <td>19.200000</td>\n",
       "      <td>44.790000</td>\n",
       "      <td>19.790000</td>\n",
       "      <td>44.730000</td>\n",
       "      <td>19.000000</td>\n",
       "      <td>...</td>\n",
       "      <td>17.033333</td>\n",
       "      <td>45.5300</td>\n",
       "      <td>6.60</td>\n",
       "      <td>733.5</td>\n",
       "      <td>92.000000</td>\n",
       "      <td>7.000000</td>\n",
       "      <td>63.000000</td>\n",
       "      <td>5.3</td>\n",
       "      <td>11.0</td>\n",
       "      <td>1.0</td>\n",
       "    </tr>\n",
       "    <tr>\n",
       "      <th>1</th>\n",
       "      <td>1</td>\n",
       "      <td>60</td>\n",
       "      <td>30</td>\n",
       "      <td>19.890000</td>\n",
       "      <td>46.693333</td>\n",
       "      <td>19.200000</td>\n",
       "      <td>44.722500</td>\n",
       "      <td>19.790000</td>\n",
       "      <td>44.790000</td>\n",
       "      <td>19.000000</td>\n",
       "      <td>...</td>\n",
       "      <td>17.066667</td>\n",
       "      <td>45.5600</td>\n",
       "      <td>6.48</td>\n",
       "      <td>733.6</td>\n",
       "      <td>92.000000</td>\n",
       "      <td>6.666667</td>\n",
       "      <td>59.166667</td>\n",
       "      <td>5.2</td>\n",
       "      <td>11.0</td>\n",
       "      <td>1.0</td>\n",
       "    </tr>\n",
       "    <tr>\n",
       "      <th>2</th>\n",
       "      <td>2</td>\n",
       "      <td>50</td>\n",
       "      <td>30</td>\n",
       "      <td>19.890000</td>\n",
       "      <td>46.300000</td>\n",
       "      <td>19.200000</td>\n",
       "      <td>44.626667</td>\n",
       "      <td>19.790000</td>\n",
       "      <td>44.933333</td>\n",
       "      <td>18.926667</td>\n",
       "      <td>...</td>\n",
       "      <td>17.000000</td>\n",
       "      <td>45.5000</td>\n",
       "      <td>6.37</td>\n",
       "      <td>733.7</td>\n",
       "      <td>92.000000</td>\n",
       "      <td>6.333333</td>\n",
       "      <td>55.333333</td>\n",
       "      <td>5.1</td>\n",
       "      <td>11.0</td>\n",
       "      <td>1.0</td>\n",
       "    </tr>\n",
       "    <tr>\n",
       "      <th>3</th>\n",
       "      <td>3</td>\n",
       "      <td>50</td>\n",
       "      <td>40</td>\n",
       "      <td>19.890000</td>\n",
       "      <td>46.066667</td>\n",
       "      <td>19.200000</td>\n",
       "      <td>44.590000</td>\n",
       "      <td>19.790000</td>\n",
       "      <td>45.000000</td>\n",
       "      <td>18.890000</td>\n",
       "      <td>...</td>\n",
       "      <td>17.000000</td>\n",
       "      <td>45.4000</td>\n",
       "      <td>6.25</td>\n",
       "      <td>733.8</td>\n",
       "      <td>92.000000</td>\n",
       "      <td>6.000000</td>\n",
       "      <td>51.500000</td>\n",
       "      <td>5.0</td>\n",
       "      <td>11.0</td>\n",
       "      <td>1.0</td>\n",
       "    </tr>\n",
       "    <tr>\n",
       "      <th>4</th>\n",
       "      <td>4</td>\n",
       "      <td>60</td>\n",
       "      <td>40</td>\n",
       "      <td>19.890000</td>\n",
       "      <td>46.333333</td>\n",
       "      <td>19.200000</td>\n",
       "      <td>44.530000</td>\n",
       "      <td>19.790000</td>\n",
       "      <td>45.000000</td>\n",
       "      <td>18.890000</td>\n",
       "      <td>...</td>\n",
       "      <td>17.000000</td>\n",
       "      <td>45.4000</td>\n",
       "      <td>6.13</td>\n",
       "      <td>733.9</td>\n",
       "      <td>92.000000</td>\n",
       "      <td>5.666667</td>\n",
       "      <td>47.666667</td>\n",
       "      <td>4.9</td>\n",
       "      <td>11.0</td>\n",
       "      <td>1.0</td>\n",
       "    </tr>\n",
       "    <tr>\n",
       "      <th>...</th>\n",
       "      <td>...</td>\n",
       "      <td>...</td>\n",
       "      <td>...</td>\n",
       "      <td>...</td>\n",
       "      <td>...</td>\n",
       "      <td>...</td>\n",
       "      <td>...</td>\n",
       "      <td>...</td>\n",
       "      <td>...</td>\n",
       "      <td>...</td>\n",
       "      <td>...</td>\n",
       "      <td>...</td>\n",
       "      <td>...</td>\n",
       "      <td>...</td>\n",
       "      <td>...</td>\n",
       "      <td>...</td>\n",
       "      <td>...</td>\n",
       "      <td>...</td>\n",
       "      <td>...</td>\n",
       "      <td>...</td>\n",
       "      <td>...</td>\n",
       "    </tr>\n",
       "    <tr>\n",
       "      <th>19730</th>\n",
       "      <td>19730</td>\n",
       "      <td>100</td>\n",
       "      <td>0</td>\n",
       "      <td>25.566667</td>\n",
       "      <td>46.560000</td>\n",
       "      <td>25.890000</td>\n",
       "      <td>42.025714</td>\n",
       "      <td>27.200000</td>\n",
       "      <td>41.163333</td>\n",
       "      <td>24.700000</td>\n",
       "      <td>...</td>\n",
       "      <td>23.200000</td>\n",
       "      <td>46.7900</td>\n",
       "      <td>22.70</td>\n",
       "      <td>755.2</td>\n",
       "      <td>55.666667</td>\n",
       "      <td>3.333333</td>\n",
       "      <td>23.666667</td>\n",
       "      <td>13.3</td>\n",
       "      <td>5.0</td>\n",
       "      <td>27.0</td>\n",
       "    </tr>\n",
       "    <tr>\n",
       "      <th>19731</th>\n",
       "      <td>19731</td>\n",
       "      <td>90</td>\n",
       "      <td>0</td>\n",
       "      <td>25.500000</td>\n",
       "      <td>46.500000</td>\n",
       "      <td>25.754000</td>\n",
       "      <td>42.080000</td>\n",
       "      <td>27.133333</td>\n",
       "      <td>41.223333</td>\n",
       "      <td>24.700000</td>\n",
       "      <td>...</td>\n",
       "      <td>23.200000</td>\n",
       "      <td>46.7900</td>\n",
       "      <td>22.60</td>\n",
       "      <td>755.2</td>\n",
       "      <td>56.000000</td>\n",
       "      <td>3.500000</td>\n",
       "      <td>24.500000</td>\n",
       "      <td>13.3</td>\n",
       "      <td>5.0</td>\n",
       "      <td>27.0</td>\n",
       "    </tr>\n",
       "    <tr>\n",
       "      <th>19732</th>\n",
       "      <td>19732</td>\n",
       "      <td>270</td>\n",
       "      <td>10</td>\n",
       "      <td>25.500000</td>\n",
       "      <td>46.596667</td>\n",
       "      <td>25.628571</td>\n",
       "      <td>42.768571</td>\n",
       "      <td>27.050000</td>\n",
       "      <td>41.690000</td>\n",
       "      <td>24.700000</td>\n",
       "      <td>...</td>\n",
       "      <td>23.200000</td>\n",
       "      <td>46.7900</td>\n",
       "      <td>22.50</td>\n",
       "      <td>755.2</td>\n",
       "      <td>56.333333</td>\n",
       "      <td>3.666667</td>\n",
       "      <td>25.333333</td>\n",
       "      <td>13.3</td>\n",
       "      <td>5.0</td>\n",
       "      <td>27.0</td>\n",
       "    </tr>\n",
       "    <tr>\n",
       "      <th>19733</th>\n",
       "      <td>19733</td>\n",
       "      <td>420</td>\n",
       "      <td>10</td>\n",
       "      <td>25.500000</td>\n",
       "      <td>46.990000</td>\n",
       "      <td>25.414000</td>\n",
       "      <td>43.036000</td>\n",
       "      <td>26.890000</td>\n",
       "      <td>41.290000</td>\n",
       "      <td>24.700000</td>\n",
       "      <td>...</td>\n",
       "      <td>23.200000</td>\n",
       "      <td>46.8175</td>\n",
       "      <td>22.30</td>\n",
       "      <td>755.2</td>\n",
       "      <td>56.666667</td>\n",
       "      <td>3.833333</td>\n",
       "      <td>26.166667</td>\n",
       "      <td>13.2</td>\n",
       "      <td>5.0</td>\n",
       "      <td>27.0</td>\n",
       "    </tr>\n",
       "    <tr>\n",
       "      <th>19734</th>\n",
       "      <td>19734</td>\n",
       "      <td>430</td>\n",
       "      <td>10</td>\n",
       "      <td>25.500000</td>\n",
       "      <td>46.600000</td>\n",
       "      <td>25.264286</td>\n",
       "      <td>42.971429</td>\n",
       "      <td>26.823333</td>\n",
       "      <td>41.156667</td>\n",
       "      <td>24.700000</td>\n",
       "      <td>...</td>\n",
       "      <td>23.200000</td>\n",
       "      <td>46.8450</td>\n",
       "      <td>22.20</td>\n",
       "      <td>755.2</td>\n",
       "      <td>57.000000</td>\n",
       "      <td>4.000000</td>\n",
       "      <td>27.000000</td>\n",
       "      <td>13.2</td>\n",
       "      <td>5.0</td>\n",
       "      <td>27.0</td>\n",
       "    </tr>\n",
       "  </tbody>\n",
       "</table>\n",
       "<p>19735 rows × 29 columns</p>\n",
       "</div>"
      ],
      "text/plain": [
       "       Unnamed: 0  Appliances  lights         T1       RH_1         T2  \\\n",
       "0               0          60      30  19.890000  47.596667  19.200000   \n",
       "1               1          60      30  19.890000  46.693333  19.200000   \n",
       "2               2          50      30  19.890000  46.300000  19.200000   \n",
       "3               3          50      40  19.890000  46.066667  19.200000   \n",
       "4               4          60      40  19.890000  46.333333  19.200000   \n",
       "...           ...         ...     ...        ...        ...        ...   \n",
       "19730       19730         100       0  25.566667  46.560000  25.890000   \n",
       "19731       19731          90       0  25.500000  46.500000  25.754000   \n",
       "19732       19732         270      10  25.500000  46.596667  25.628571   \n",
       "19733       19733         420      10  25.500000  46.990000  25.414000   \n",
       "19734       19734         430      10  25.500000  46.600000  25.264286   \n",
       "\n",
       "            RH_2         T3       RH_3         T4  ...         T9     RH_9  \\\n",
       "0      44.790000  19.790000  44.730000  19.000000  ...  17.033333  45.5300   \n",
       "1      44.722500  19.790000  44.790000  19.000000  ...  17.066667  45.5600   \n",
       "2      44.626667  19.790000  44.933333  18.926667  ...  17.000000  45.5000   \n",
       "3      44.590000  19.790000  45.000000  18.890000  ...  17.000000  45.4000   \n",
       "4      44.530000  19.790000  45.000000  18.890000  ...  17.000000  45.4000   \n",
       "...          ...        ...        ...        ...  ...        ...      ...   \n",
       "19730  42.025714  27.200000  41.163333  24.700000  ...  23.200000  46.7900   \n",
       "19731  42.080000  27.133333  41.223333  24.700000  ...  23.200000  46.7900   \n",
       "19732  42.768571  27.050000  41.690000  24.700000  ...  23.200000  46.7900   \n",
       "19733  43.036000  26.890000  41.290000  24.700000  ...  23.200000  46.8175   \n",
       "19734  42.971429  26.823333  41.156667  24.700000  ...  23.200000  46.8450   \n",
       "\n",
       "       T_out  Press_mm_hg     RH_out  Windspeed  Visibility  Tdewpoint  month  \\\n",
       "0       6.60        733.5  92.000000   7.000000   63.000000        5.3   11.0   \n",
       "1       6.48        733.6  92.000000   6.666667   59.166667        5.2   11.0   \n",
       "2       6.37        733.7  92.000000   6.333333   55.333333        5.1   11.0   \n",
       "3       6.25        733.8  92.000000   6.000000   51.500000        5.0   11.0   \n",
       "4       6.13        733.9  92.000000   5.666667   47.666667        4.9   11.0   \n",
       "...      ...          ...        ...        ...         ...        ...    ...   \n",
       "19730  22.70        755.2  55.666667   3.333333   23.666667       13.3    5.0   \n",
       "19731  22.60        755.2  56.000000   3.500000   24.500000       13.3    5.0   \n",
       "19732  22.50        755.2  56.333333   3.666667   25.333333       13.3    5.0   \n",
       "19733  22.30        755.2  56.666667   3.833333   26.166667       13.2    5.0   \n",
       "19734  22.20        755.2  57.000000   4.000000   27.000000       13.2    5.0   \n",
       "\n",
       "        day  \n",
       "0       1.0  \n",
       "1       1.0  \n",
       "2       1.0  \n",
       "3       1.0  \n",
       "4       1.0  \n",
       "...     ...  \n",
       "19730  27.0  \n",
       "19731  27.0  \n",
       "19732  27.0  \n",
       "19733  27.0  \n",
       "19734  27.0  \n",
       "\n",
       "[19735 rows x 29 columns]"
      ]
     },
     "execution_count": 54,
     "metadata": {},
     "output_type": "execute_result"
    }
   ],
   "source": [
    "table_regression = pd.read_csv(\"../data/energy_task_compleated.csv\")\n",
    "table_regression"
   ]
  },
  {
   "cell_type": "code",
   "execution_count": 55,
   "metadata": {},
   "outputs": [],
   "source": [
    "X = np.array(table_regression.drop(columns=[\"Appliances\"], axis=1))\n",
    "y = np.array(table_regression[\"Appliances\"])"
   ]
  },
  {
   "cell_type": "code",
   "execution_count": 56,
   "metadata": {},
   "outputs": [],
   "source": [
    "X_train, X_test, y_train, y_test = train_test_split(X, y, test_size=0.3, shuffle=True)"
   ]
  },
  {
   "cell_type": "code",
   "execution_count": 57,
   "metadata": {},
   "outputs": [
    {
     "data": {
      "text/plain": [
       "array([[ 0.46988434, -0.48236946,  0.13890641, ..., -0.18684103,\n",
       "         0.91728556, -1.13598146],\n",
       "       [-1.04718863, -0.48236946, -0.30661086, ..., -0.23447984,\n",
       "         0.91728556, -1.345518  ],\n",
       "       [-0.28689505, -0.48236946, -1.01033152, ..., -0.84187463,\n",
       "         1.25265954, -1.24074973],\n",
       "       ...,\n",
       "       [-1.25628254, -0.48236946, -1.80305214, ...,  0.79451839,\n",
       "        -1.09495836,  1.58799354],\n",
       "       [ 0.0437896 ,  0.7737006 , -0.36870386, ..., -0.14396611,\n",
       "        -0.42421039,  0.64507911],\n",
       "       [-0.59210188,  2.02977066, -0.43079686, ..., -1.29920718,\n",
       "        -0.75958438,  1.06415219]])"
      ]
     },
     "execution_count": 57,
     "metadata": {},
     "output_type": "execute_result"
    }
   ],
   "source": [
    "scaler = StandardScaler()\n",
    "X_train = scaler.fit_transform(X_train)\n",
    "X_test = scaler.transform(X_test)\n",
    "X_train"
   ]
  },
  {
   "attachments": {},
   "cell_type": "markdown",
   "metadata": {},
   "source": [
    "## 1.2.2. Обучение моделей решающих деревьев для регрессии"
   ]
  },
  {
   "cell_type": "code",
   "execution_count": 58,
   "metadata": {},
   "outputs": [],
   "source": [
    "from sklearn.metrics import mean_squared_error, mean_absolute_error, mean_absolute_percentage_error, r2_score\n",
    "from math import sqrt\n",
    "from sklearn.tree import DecisionTreeRegressor\n",
    "from sklearn.ensemble import BaggingRegressor, GradientBoostingRegressor, StackingRegressor"
   ]
  },
  {
   "cell_type": "code",
   "execution_count": 59,
   "metadata": {},
   "outputs": [],
   "source": [
    "def metrics(test, predict):\n",
    "    print(f'MAE: {mean_absolute_error(test, predict)}')\n",
    "    print(f'MSE: {mean_squared_error(test, predict)}')\n",
    "    print(f'RMSE: {sqrt(mean_squared_error(test, predict))}')\n",
    "    print(f'MAPE: {mean_absolute_percentage_error(test, predict)}')\n",
    "    print(f'R^2: {r2_score(test, predict)}')"
   ]
  },
  {
   "cell_type": "code",
   "execution_count": 60,
   "metadata": {},
   "outputs": [],
   "source": [
    "# DecisionTreeRegressor\n",
    "\n",
    "grid = {\n",
    "    'max_depth': np.arange(3, 5, 1),\n",
    "    'criterion': [\"squared_error\", \"friedman_mse\", \"absolute_error\", \"poisson\"]\n",
    "}\n",
    "\n",
    "dt = GridSearchCV(DecisionTreeRegressor(), grid).fit(X_train, y_train)\n",
    "y_pred = dt.predict(X_test)\n",
    "metrics(y_test, y_pred)"
   ]
  },
  {
   "cell_type": "code",
   "execution_count": 61,
   "metadata": {},
   "outputs": [],
   "source": [
    "dt.best_params_"
   ]
  },
  {
   "cell_type": "code",
   "execution_count": 62,
   "metadata": {},
   "outputs": [],
   "source": [
    "# BaggingRegressor\n",
    "\n",
    "from sklearn.linear_model import Lasso, Ridge\n",
    "\n",
    "grid_reg = {\n",
    "    'alpha': np.arange(0.2, 1, 0.2),\n",
    "}\n",
    "\n",
    "grid_bagging = {\n",
    "    'estimator': [GridSearchCV(Lasso(), grid_reg).fit(X_train, y_train).best_estimator_, \n",
    "                  GridSearchCV(Ridge(), grid_reg).fit(X_train, y_train).best_estimator_],\n",
    "    'n_estimators': np.arange(9, 15, 2),\n",
    "}\n",
    "\n",
    "b = GridSearchCV(BaggingRegressor(), grid_bagging).fit(X_train, y_train)\n",
    "y_pred = b.predict(X_test)\n",
    "metrics(y_test, y_pred)"
   ]
  },
  {
   "cell_type": "code",
   "execution_count": 63,
   "metadata": {},
   "outputs": [],
   "source": [
    "b.best_params_"
   ]
  },
  {
   "cell_type": "code",
   "execution_count": 64,
   "metadata": {},
   "outputs": [],
   "source": [
    "# GradientBoostingRegressor\n",
    "\n",
    "grid_gb = {\n",
    "    'loss': [\"squared_error\", \"friedman_mse\", \"absolute_error\", \"poisson\"],\n",
    "    'max_depth': np.arange(3, 5, 1)\n",
    "}\n",
    "\n",
    "gb = GridSearchCV(GradientBoostingRegressor(), grid_gb).fit(X_train, y_train)\n",
    "y_pred = gb.predict(X_test)\n",
    "metrics(y_test, y_pred)"
   ]
  },
  {
   "cell_type": "code",
   "execution_count": 65,
   "metadata": {},
   "outputs": [],
   "source": [
    "gb.best_params_"
   ]
  },
  {
   "cell_type": "code",
   "execution_count": 66,
   "metadata": {},
   "outputs": [],
   "source": [
    "# StackingRegressor\n",
    "\n",
    "est = [\n",
    "    ('l2', GridSearchCV(Ridge(), grid_reg).fit(X_train, y_train).best_estimator_), \n",
    "    ('l1', GridSearchCV(Lasso(), grid_reg).fit(X_train, y_train).best_estimator_)\n",
    "]\n",
    "\n",
    "grid_st = {\n",
    "    'n_jobs': np.arange(2, 10, 1)\n",
    "}\n",
    "\n",
    "s = GridSearchCV(StackingRegressor(est, Ridge()), grid_st).fit(X_train, y_train)\n",
    "y_pred = s.predict(X_test)\n",
    "metrics(y_test, y_pred)"
   ]
  },
  {
   "cell_type": "code",
   "execution_count": 67,
   "metadata": {},
   "outputs": [],
   "source": [
    "s.best_params_"
   ]
  },
  {
   "cell_type": "code",
   "execution_count": 68,
   "metadata": {},
   "outputs": [
    {
     "name": "stdout",
     "output_type": "stream",
     "text": [
      "MAE: 35.620100939360405\n",
      "MSE: 5388.343570560045\n",
      "RMSE: 73.40533748005008\n",
      "MAPE: 0.36707559547574464\n",
      "R^2: 0.49084134768134646\n"
     ]
    }
   ],
   "source": [
    "# Градиентный бустинг XGBoost для регрессии\n",
    "\n",
    "from xgboost import XGBRegressor\n",
    "\n",
    "xg_reg = XGBRegressor(max_depth=8).fit(X_train, y_train)\n",
    "y_pred = xg_reg.predict(X_test)\n",
    "\n",
    "metrics(y_test, y_pred)"
   ]
  },
  {
   "attachments": {},
   "cell_type": "markdown",
   "metadata": {},
   "source": [
    "## 2. Собственная реализация CART"
   ]
  },
  {
   "cell_type": "code",
   "execution_count": 77,
   "metadata": {},
   "outputs": [
    {
     "name": "stdout",
     "output_type": "stream",
     "text": [
      "MAE: 57.470824800376185\n",
      "MSE: 13785.411071472183\n",
      "RMSE: 117.4112902214782\n",
      "MAPE: 0.5795228777446669\n",
      "R^2: -0.30261948424344753\n"
     ]
    }
   ],
   "source": [
    "from mylib.tree.my_tree import MyDecisionTree\n",
    "\n",
    "tree = MyDecisionTree(\"regression\", 6).fit(X_train[:1000], y_train[:1000])\n",
    "y_pred = tree.predict(X_test)\n",
    "\n",
    "metrics(y_test, y_pred)"
   ]
  },
  {
   "cell_type": "code",
   "execution_count": 84,
   "metadata": {},
   "outputs": [
    {
     "name": "stdout",
     "output_type": "stream",
     "text": [
      "              precision    recall  f1-score   support\n",
      "\n",
      "       False       0.98      0.77      0.86      2652\n",
      "        True       0.81      0.98      0.89      2652\n",
      "\n",
      "    accuracy                           0.88      5304\n",
      "   macro avg       0.90      0.88      0.88      5304\n",
      "weighted avg       0.90      0.88      0.88      5304\n",
      "\n"
     ]
    }
   ],
   "source": [
    "tree = MyDecisionTree(\"classification\", 6).fit(X_my_train[:5000], y_my_train[:5000])\n",
    "y_pred = tree.predict(X_my_test)\n",
    "\n",
    "print(classification_report(y_my_test, y_pred))"
   ]
  },
  {
   "attachments": {},
   "cell_type": "markdown",
   "metadata": {},
   "source": [
    "## 3. Собственная реализация ансамбля Bagging"
   ]
  },
  {
   "cell_type": "code",
   "execution_count": null,
   "metadata": {},
   "outputs": [],
   "source": []
  }
 ],
 "metadata": {
  "kernelspec": {
   "display_name": "venv",
   "language": "python",
   "name": "python3"
  },
  "language_info": {
   "codemirror_mode": {
    "name": "ipython",
    "version": 3
   },
   "file_extension": ".py",
   "mimetype": "text/x-python",
   "name": "python",
   "nbconvert_exporter": "python",
   "pygments_lexer": "ipython3",
   "version": "3.10.10"
  },
  "orig_nbformat": 4
 },
 "nbformat": 4,
 "nbformat_minor": 2
}

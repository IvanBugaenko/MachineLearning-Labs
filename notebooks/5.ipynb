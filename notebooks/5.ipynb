{
 "cells": [
  {
   "attachments": {},
   "cell_type": "markdown",
   "metadata": {},
   "source": [
    "https://drive.google.com/drive/folders/1peThKQigJkn6CTFpIfI3jfkgH5s65EeE -- данные"
   ]
  },
  {
   "attachments": {},
   "cell_type": "markdown",
   "metadata": {},
   "source": [
    "Используйте реализацию многослойного персептрона из ЛР 4. Реализуйте сверточный слой (прямое и обратное распространение). Соберите сверточную сеть. Попробуйте обучить классификатор кошек и собак с использованием собственной реализации сверточной нейронной сети. Вам также потребуется реализовать слой для преобразования многомерных массивов данных в одномерные.\n",
    "\n",
    "Надо сделать:\n",
    "1. Переписать персептрон (полностью);\n",
    "2. Написать Адама;\n",
    "3. Написать сверточный слой (прямое и обратное распространение);\n",
    "4. Написать слой для стягивания тензора в вектор;\n",
    "5. Обучить классификатор кошек и собак на своей нейронке;\n",
    "6. *Написать пулинговый слой "
   ]
  },
  {
   "cell_type": "code",
   "execution_count": 1,
   "metadata": {},
   "outputs": [],
   "source": [
    "from pathlib import Path\n",
    "import os\n",
    "import sys\n",
    "\n",
    "sys.path.append(str(Path(os.getcwd()).parent))"
   ]
  },
  {
   "cell_type": "code",
   "execution_count": 2,
   "metadata": {},
   "outputs": [],
   "source": [
    "import pandas as pd\n",
    "import numpy as np\n",
    "import tensorflow as tf\n",
    "import matplotlib.pyplot as plt"
   ]
  },
  {
   "cell_type": "code",
   "execution_count": 3,
   "metadata": {},
   "outputs": [],
   "source": [
    "from sklearn.metrics import classification_report"
   ]
  },
  {
   "attachments": {},
   "cell_type": "markdown",
   "metadata": {},
   "source": [
    "# 1. Решение задачи классификации кошек и собак"
   ]
  },
  {
   "attachments": {},
   "cell_type": "markdown",
   "metadata": {},
   "source": [
    "## 1.1 Загрузка датасета и аугментация"
   ]
  },
  {
   "cell_type": "code",
   "execution_count": 4,
   "metadata": {},
   "outputs": [
    {
     "name": "stdout",
     "output_type": "stream",
     "text": [
      "Found 2000 files belonging to 2 classes.\n",
      "Using 1600 files for training.\n",
      "Using 400 files for validation.\n"
     ]
    }
   ],
   "source": [
    "train_ds, test_ds = tf.keras.utils.image_dataset_from_directory(\n",
    "    directory=\"../data/cats&dogs\", \n",
    "    validation_split=0.2, \n",
    "    subset=\"both\", \n",
    "    seed=13, \n",
    "    image_size=(200, 200), # СНАЧАЛА ВЫСОТА, ПОТОМ ШИРИНА\n",
    "    batch_size=32\n",
    ")"
   ]
  },
  {
   "cell_type": "code",
   "execution_count": 5,
   "metadata": {},
   "outputs": [],
   "source": [
    "data_augmentation_flip = tf.keras.Sequential([\n",
    "    tf.keras.layers.RandomFlip(\"horizontal\"),\n",
    "    tf.keras.layers.RandomRotation(0.1),\n",
    "])"
   ]
  },
  {
   "cell_type": "code",
   "execution_count": 6,
   "metadata": {},
   "outputs": [
    {
     "name": "stdout",
     "output_type": "stream",
     "text": [
      "WARNING:tensorflow:From c:\\Users\\bugae\\MachineLearning-Labs\\venv\\lib\\site-packages\\tensorflow\\python\\autograph\\pyct\\static_analysis\\liveness.py:83: Analyzer.lamba_check (from tensorflow.python.autograph.pyct.static_analysis.liveness) is deprecated and will be removed after 2023-09-23.\n",
      "Instructions for updating:\n",
      "Lambda fuctions will be no more assumed to be used in the statement where they are used, or at least in the same block. https://github.com/tensorflow/tensorflow/issues/56089\n",
      "WARNING:tensorflow:Using a while_loop for converting RngReadAndSkip cause there is no registered converter for this op.\n",
      "WARNING:tensorflow:Using a while_loop for converting Bitcast cause there is no registered converter for this op.\n",
      "WARNING:tensorflow:Using a while_loop for converting Bitcast cause there is no registered converter for this op.\n",
      "WARNING:tensorflow:Using a while_loop for converting StatelessRandomUniformV2 cause there is no registered converter for this op.\n",
      "WARNING:tensorflow:Using a while_loop for converting ImageProjectiveTransformV3 cause there is no registered converter for this op.\n",
      "WARNING:tensorflow:Using a while_loop for converting RngReadAndSkip cause there is no registered converter for this op.\n",
      "WARNING:tensorflow:Using a while_loop for converting Bitcast cause there is no registered converter for this op.\n",
      "WARNING:tensorflow:Using a while_loop for converting Bitcast cause there is no registered converter for this op.\n",
      "WARNING:tensorflow:Using a while_loop for converting StatelessRandomUniformV2 cause there is no registered converter for this op.\n",
      "WARNING:tensorflow:Using a while_loop for converting ImageProjectiveTransformV3 cause there is no registered converter for this op.\n"
     ]
    }
   ],
   "source": [
    "train_ds = train_ds.map(\n",
    "    lambda img, label: (data_augmentation_flip(img), label)\n",
    ")"
   ]
  },
  {
   "attachments": {},
   "cell_type": "markdown",
   "metadata": {},
   "source": [
    "![cat](..\\memes\\0_yV46bI9fS12FXrh-.png)"
   ]
  },
  {
   "attachments": {},
   "cell_type": "markdown",
   "metadata": {},
   "source": [
    "## 1.2 Построение модели"
   ]
  },
  {
   "cell_type": "code",
   "execution_count": 7,
   "metadata": {},
   "outputs": [],
   "source": [
    "inputs = tf.keras.Input(shape=(200, 200, 3))\n",
    "\n",
    "x = tf.keras.layers.Rescaling(1. / 255)(inputs)\n",
    "\n",
    "x = tf.keras.layers.Conv2D(64, 3, strides=2, padding=\"same\")(x)\n",
    "x = tf.keras.layers.MaxPooling2D(3, strides=2, padding=\"same\")(x)\n",
    "\n",
    "x = tf.keras.layers.Conv2D(128, 4, strides=2, padding=\"same\")(x)\n",
    "x = tf.keras.layers.MaxPooling2D(3, strides=2, padding=\"same\")(x)\n",
    "\n",
    "x = tf.keras.layers.Flatten()(x)\n",
    "\n",
    "x = tf.keras.layers.Dense(64, activation=\"relu\")(x)\n",
    "outputs = tf.keras.layers.Dense(2, activation=\"softmax\")(x)\n",
    "\n",
    "classification_model = tf.keras.Model(inputs, outputs)"
   ]
  },
  {
   "cell_type": "code",
   "execution_count": 8,
   "metadata": {},
   "outputs": [],
   "source": [
    "classification_model.compile(optimizer=tf.keras.optimizers.Adam(1e-3), loss=\"sparse_categorical_crossentropy\", metrics=[\"accuracy\"])"
   ]
  },
  {
   "cell_type": "code",
   "execution_count": 9,
   "metadata": {},
   "outputs": [
    {
     "name": "stdout",
     "output_type": "stream",
     "text": [
      "Epoch 1/5\n",
      "50/50 [==============================] - 13s 246ms/step - loss: 0.8359 - accuracy: 0.5281 - val_loss: 0.6796 - val_accuracy: 0.5450\n",
      "Epoch 2/5\n",
      "50/50 [==============================] - 12s 232ms/step - loss: 0.6632 - accuracy: 0.5969 - val_loss: 0.6460 - val_accuracy: 0.6350\n",
      "Epoch 3/5\n",
      "50/50 [==============================] - 12s 235ms/step - loss: 0.6212 - accuracy: 0.6669 - val_loss: 0.6336 - val_accuracy: 0.6175\n",
      "Epoch 4/5\n",
      "50/50 [==============================] - 12s 234ms/step - loss: 0.6245 - accuracy: 0.6594 - val_loss: 0.6170 - val_accuracy: 0.6600\n",
      "Epoch 5/5\n",
      "50/50 [==============================] - 12s 233ms/step - loss: 0.6064 - accuracy: 0.6619 - val_loss: 0.6304 - val_accuracy: 0.6750\n"
     ]
    },
    {
     "data": {
      "text/plain": [
       "<keras.callbacks.History at 0x2679c46aec0>"
      ]
     },
     "execution_count": 9,
     "metadata": {},
     "output_type": "execute_result"
    }
   ],
   "source": [
    "classification_model.fit(train_ds, epochs=5, validation_data=test_ds)"
   ]
  },
  {
   "cell_type": "code",
   "execution_count": 10,
   "metadata": {},
   "outputs": [
    {
     "name": "stdout",
     "output_type": "stream",
     "text": [
      "1/1 [==============================] - 0s 85ms/step\n",
      "Это кот\n"
     ]
    }
   ],
   "source": [
    "img = tf.keras.preprocessing.image.load_img(\n",
    "    \"../data/cats&dogs/cats/2.jpg\", target_size=(200, 200)\n",
    ")\n",
    "\n",
    "img_array = tf.keras.preprocessing.image.img_to_array(img)\n",
    "img_array = tf.expand_dims(img_array, 0)\n",
    "\n",
    "print(\"Это собака\" if np.argmax(classification_model.predict(img_array)) else \"Это кот\")"
   ]
  },
  {
   "cell_type": "code",
   "execution_count": 11,
   "metadata": {},
   "outputs": [
    {
     "name": "stdout",
     "output_type": "stream",
     "text": [
      "13/13 [==============================] - 1s 56ms/step\n",
      "              precision    recall  f1-score   support\n",
      "\n",
      "         0.0       0.66      0.67      0.66       191\n",
      "         1.0       0.69      0.68      0.69       209\n",
      "\n",
      "    accuracy                           0.68       400\n",
      "   macro avg       0.67      0.67      0.67       400\n",
      "weighted avg       0.68      0.68      0.68       400\n",
      "\n"
     ]
    }
   ],
   "source": [
    "pred = [np.argmax(pred) for pred in classification_model.predict(test_ds)]\n",
    "\n",
    "y_test = np.array([])\n",
    "\n",
    "images, labels = tuple(zip(*test_ds))\n",
    "for i in labels:\n",
    "    y_test = np.append(y_test, i)\n",
    "\n",
    "print(classification_report(y_test, pred))"
   ]
  },
  {
   "attachments": {},
   "cell_type": "markdown",
   "metadata": {},
   "source": [
    "# 2. Работа с уже обученными моделями"
   ]
  },
  {
   "attachments": {},
   "cell_type": "markdown",
   "metadata": {},
   "source": [
    "## 2.1 Загрузка моделей InceptionV3 и VGG19"
   ]
  },
  {
   "cell_type": "code",
   "execution_count": 12,
   "metadata": {},
   "outputs": [],
   "source": [
    "vgg = tf.keras.applications.VGG19(weights='imagenet', include_top=True)\n",
    "# vgg.summary()"
   ]
  },
  {
   "cell_type": "code",
   "execution_count": 13,
   "metadata": {},
   "outputs": [],
   "source": [
    "iv3 = tf.keras.applications.InceptionV3(weights='imagenet', include_top=True)\n",
    "# iv3.summary()"
   ]
  },
  {
   "attachments": {},
   "cell_type": "markdown",
   "metadata": {},
   "source": [
    "## 2.2 Feature-extraction и Fine-tuning для VGG19"
   ]
  },
  {
   "cell_type": "code",
   "execution_count": 14,
   "metadata": {},
   "outputs": [
    {
     "name": "stdout",
     "output_type": "stream",
     "text": [
      "Found 216 files belonging to 3 classes.\n",
      "Using 173 files for training.\n",
      "Using 43 files for validation.\n"
     ]
    }
   ],
   "source": [
    "train_ds, test_ds = tf.keras.utils.image_dataset_from_directory(\n",
    "    directory=\"../data/objects\", \n",
    "    validation_split=0.2, \n",
    "    subset=\"both\", \n",
    "    seed=9, \n",
    "    image_size=(224, 224),\n",
    "    batch_size=32\n",
    ")"
   ]
  },
  {
   "cell_type": "code",
   "execution_count": 15,
   "metadata": {},
   "outputs": [],
   "source": [
    "input = vgg.input\n",
    "my_layer = tf.keras.layers.Dense(3, activation='softmax')\n",
    "output = my_layer(vgg.layers[-2].output)\n",
    "\n",
    "my_vgg = tf.keras.Model(input, output)"
   ]
  },
  {
   "cell_type": "code",
   "execution_count": 16,
   "metadata": {},
   "outputs": [
    {
     "name": "stdout",
     "output_type": "stream",
     "text": [
      "2/2 [==============================] - 4s 1s/step\n",
      "              precision    recall  f1-score   support\n",
      "\n",
      "         0.0       0.46      0.40      0.43        15\n",
      "         1.0       0.20      0.21      0.21        14\n",
      "         2.0       0.27      0.29      0.28        14\n",
      "\n",
      "    accuracy                           0.30        43\n",
      "   macro avg       0.31      0.30      0.30        43\n",
      "weighted avg       0.31      0.30      0.31        43\n",
      "\n"
     ]
    }
   ],
   "source": [
    "pred = [np.argmax(pred) for pred in my_vgg.predict(test_ds)]\n",
    "\n",
    "y_test = np.array([])\n",
    "\n",
    "images, labels = tuple(zip(*test_ds))\n",
    "for i in labels:\n",
    "    y_test = np.append(y_test, i)\n",
    "\n",
    "print(classification_report(y_test, pred))"
   ]
  },
  {
   "cell_type": "code",
   "execution_count": 17,
   "metadata": {},
   "outputs": [],
   "source": [
    "my_vgg.compile(loss='sparse_categorical_crossentropy', optimizer='adam', metrics=['accuracy'])"
   ]
  },
  {
   "cell_type": "code",
   "execution_count": 18,
   "metadata": {},
   "outputs": [],
   "source": [
    "for layer in my_vgg.layers:\n",
    "    layer.trainable = False\n",
    "my_vgg.layers[-1].trainable = True"
   ]
  },
  {
   "cell_type": "code",
   "execution_count": 19,
   "metadata": {},
   "outputs": [
    {
     "name": "stdout",
     "output_type": "stream",
     "text": [
      "Epoch 1/5\n",
      "6/6 [==============================] - 81s 13s/step - loss: 1603.8438 - accuracy: 0.2717 - val_loss: 9.8863 - val_accuracy: 0.3488\n",
      "Epoch 2/5\n",
      "6/6 [==============================] - 76s 13s/step - loss: 19.2764 - accuracy: 0.4220 - val_loss: 2.7130 - val_accuracy: 0.2326\n",
      "Epoch 3/5\n",
      "6/6 [==============================] - 77s 13s/step - loss: 6.0088 - accuracy: 0.3757 - val_loss: 1.2099 - val_accuracy: 0.3953\n",
      "Epoch 4/5\n",
      "6/6 [==============================] - 77s 13s/step - loss: 9.1956 - accuracy: 0.3757 - val_loss: 7.9244 - val_accuracy: 0.3488\n",
      "Epoch 5/5\n",
      "6/6 [==============================] - 77s 13s/step - loss: 5.1251 - accuracy: 0.3699 - val_loss: 3.3204 - val_accuracy: 0.3256\n"
     ]
    },
    {
     "data": {
      "text/plain": [
       "<keras.callbacks.History at 0x267b076f0a0>"
      ]
     },
     "execution_count": 19,
     "metadata": {},
     "output_type": "execute_result"
    }
   ],
   "source": [
    "my_vgg.fit(train_ds, epochs=5, validation_data=test_ds)"
   ]
  },
  {
   "cell_type": "code",
   "execution_count": 20,
   "metadata": {},
   "outputs": [
    {
     "name": "stdout",
     "output_type": "stream",
     "text": [
      "2/2 [==============================] - 4s 1s/step\n",
      "              precision    recall  f1-score   support\n",
      "\n",
      "         0.0       0.00      0.00      0.00        15\n",
      "         1.0       0.33      1.00      0.49        14\n",
      "         2.0       0.00      0.00      0.00        14\n",
      "\n",
      "    accuracy                           0.33        43\n",
      "   macro avg       0.11      0.33      0.16        43\n",
      "weighted avg       0.11      0.33      0.16        43\n",
      "\n"
     ]
    },
    {
     "name": "stderr",
     "output_type": "stream",
     "text": [
      "c:\\Users\\bugae\\MachineLearning-Labs\\venv\\lib\\site-packages\\sklearn\\metrics\\_classification.py:1344: UndefinedMetricWarning: Precision and F-score are ill-defined and being set to 0.0 in labels with no predicted samples. Use `zero_division` parameter to control this behavior.\n",
      "  _warn_prf(average, modifier, msg_start, len(result))\n",
      "c:\\Users\\bugae\\MachineLearning-Labs\\venv\\lib\\site-packages\\sklearn\\metrics\\_classification.py:1344: UndefinedMetricWarning: Precision and F-score are ill-defined and being set to 0.0 in labels with no predicted samples. Use `zero_division` parameter to control this behavior.\n",
      "  _warn_prf(average, modifier, msg_start, len(result))\n",
      "c:\\Users\\bugae\\MachineLearning-Labs\\venv\\lib\\site-packages\\sklearn\\metrics\\_classification.py:1344: UndefinedMetricWarning: Precision and F-score are ill-defined and being set to 0.0 in labels with no predicted samples. Use `zero_division` parameter to control this behavior.\n",
      "  _warn_prf(average, modifier, msg_start, len(result))\n"
     ]
    }
   ],
   "source": [
    "pred = [np.argmax(pred) for pred in my_vgg.predict(test_ds)]\n",
    "\n",
    "y_test = np.array([])\n",
    "\n",
    "images, labels = tuple(zip(*test_ds))\n",
    "for i in labels:\n",
    "    y_test = np.append(y_test, i)\n",
    "\n",
    "print(classification_report(y_test, pred))"
   ]
  },
  {
   "cell_type": "code",
   "execution_count": 21,
   "metadata": {},
   "outputs": [],
   "source": [
    "my_vgg.layers[-2].trainable = True"
   ]
  },
  {
   "cell_type": "code",
   "execution_count": 22,
   "metadata": {},
   "outputs": [
    {
     "name": "stdout",
     "output_type": "stream",
     "text": [
      "Epoch 1/5\n",
      "6/6 [==============================] - 78s 13s/step - loss: 2.4547 - accuracy: 0.3410 - val_loss: 1.2384 - val_accuracy: 0.3721\n",
      "Epoch 2/5\n",
      "6/6 [==============================] - 78s 13s/step - loss: 1.3153 - accuracy: 0.4798 - val_loss: 1.2136 - val_accuracy: 0.3256\n",
      "Epoch 3/5\n",
      "6/6 [==============================] - 77s 13s/step - loss: 1.1581 - accuracy: 0.3873 - val_loss: 2.5256 - val_accuracy: 0.3488\n",
      "Epoch 4/5\n",
      "6/6 [==============================] - 76s 13s/step - loss: 1.5862 - accuracy: 0.4509 - val_loss: 1.2119 - val_accuracy: 0.3488\n",
      "Epoch 5/5\n",
      "6/6 [==============================] - 76s 12s/step - loss: 1.2265 - accuracy: 0.4624 - val_loss: 1.0899 - val_accuracy: 0.3488\n"
     ]
    },
    {
     "data": {
      "text/plain": [
       "<keras.callbacks.History at 0x267b0047f40>"
      ]
     },
     "execution_count": 22,
     "metadata": {},
     "output_type": "execute_result"
    }
   ],
   "source": [
    "my_vgg.fit(train_ds, epochs=5, validation_data=test_ds)"
   ]
  },
  {
   "cell_type": "code",
   "execution_count": 23,
   "metadata": {},
   "outputs": [
    {
     "name": "stdout",
     "output_type": "stream",
     "text": [
      "2/2 [==============================] - 4s 962ms/step\n",
      "              precision    recall  f1-score   support\n",
      "\n",
      "         0.0       0.00      0.00      0.00        15\n",
      "         1.0       0.50      0.07      0.12        14\n",
      "         2.0       0.34      1.00      0.51        14\n",
      "\n",
      "    accuracy                           0.35        43\n",
      "   macro avg       0.28      0.36      0.21        43\n",
      "weighted avg       0.27      0.35      0.21        43\n",
      "\n"
     ]
    },
    {
     "name": "stderr",
     "output_type": "stream",
     "text": [
      "c:\\Users\\bugae\\MachineLearning-Labs\\venv\\lib\\site-packages\\sklearn\\metrics\\_classification.py:1344: UndefinedMetricWarning: Precision and F-score are ill-defined and being set to 0.0 in labels with no predicted samples. Use `zero_division` parameter to control this behavior.\n",
      "  _warn_prf(average, modifier, msg_start, len(result))\n",
      "c:\\Users\\bugae\\MachineLearning-Labs\\venv\\lib\\site-packages\\sklearn\\metrics\\_classification.py:1344: UndefinedMetricWarning: Precision and F-score are ill-defined and being set to 0.0 in labels with no predicted samples. Use `zero_division` parameter to control this behavior.\n",
      "  _warn_prf(average, modifier, msg_start, len(result))\n",
      "c:\\Users\\bugae\\MachineLearning-Labs\\venv\\lib\\site-packages\\sklearn\\metrics\\_classification.py:1344: UndefinedMetricWarning: Precision and F-score are ill-defined and being set to 0.0 in labels with no predicted samples. Use `zero_division` parameter to control this behavior.\n",
      "  _warn_prf(average, modifier, msg_start, len(result))\n"
     ]
    }
   ],
   "source": [
    "pred = [np.argmax(pred) for pred in my_vgg.predict(test_ds)]\n",
    "\n",
    "y_test = np.array([])\n",
    "\n",
    "images, labels = tuple(zip(*test_ds))\n",
    "for i in labels:\n",
    "    y_test = np.append(y_test, i)\n",
    "\n",
    "print(classification_report(y_test, pred))"
   ]
  },
  {
   "attachments": {},
   "cell_type": "markdown",
   "metadata": {},
   "source": [
    "## 2.3 Feature-extraction и Fine-tuning для InceptionV3"
   ]
  },
  {
   "cell_type": "code",
   "execution_count": 24,
   "metadata": {},
   "outputs": [
    {
     "name": "stdout",
     "output_type": "stream",
     "text": [
      "Found 216 files belonging to 3 classes.\n",
      "Using 173 files for training.\n",
      "Using 43 files for validation.\n"
     ]
    }
   ],
   "source": [
    "train_ds, test_ds = tf.keras.utils.image_dataset_from_directory(\n",
    "    directory=\"../data/objects\", \n",
    "    validation_split=0.2, \n",
    "    subset=\"both\", \n",
    "    seed=9, \n",
    "    image_size=(299, 299),\n",
    "    batch_size=32\n",
    ")"
   ]
  },
  {
   "cell_type": "code",
   "execution_count": 25,
   "metadata": {},
   "outputs": [],
   "source": [
    "input = iv3.input\n",
    "my_layer = tf.keras.layers.Dense(3, activation='softmax')\n",
    "output = my_layer(iv3.layers[-2].output)\n",
    "\n",
    "my_iv3 = tf.keras.Model(input, output)"
   ]
  },
  {
   "cell_type": "code",
   "execution_count": 26,
   "metadata": {},
   "outputs": [
    {
     "name": "stdout",
     "output_type": "stream",
     "text": [
      "2/2 [==============================] - 3s 390ms/step\n",
      "              precision    recall  f1-score   support\n",
      "\n",
      "         0.0       0.45      0.67      0.54        15\n",
      "         1.0       0.00      0.00      0.00        14\n",
      "         2.0       0.48      0.71      0.57        14\n",
      "\n",
      "    accuracy                           0.47        43\n",
      "   macro avg       0.31      0.46      0.37        43\n",
      "weighted avg       0.31      0.47      0.37        43\n",
      "\n"
     ]
    },
    {
     "name": "stderr",
     "output_type": "stream",
     "text": [
      "c:\\Users\\bugae\\MachineLearning-Labs\\venv\\lib\\site-packages\\sklearn\\metrics\\_classification.py:1344: UndefinedMetricWarning: Precision and F-score are ill-defined and being set to 0.0 in labels with no predicted samples. Use `zero_division` parameter to control this behavior.\n",
      "  _warn_prf(average, modifier, msg_start, len(result))\n",
      "c:\\Users\\bugae\\MachineLearning-Labs\\venv\\lib\\site-packages\\sklearn\\metrics\\_classification.py:1344: UndefinedMetricWarning: Precision and F-score are ill-defined and being set to 0.0 in labels with no predicted samples. Use `zero_division` parameter to control this behavior.\n",
      "  _warn_prf(average, modifier, msg_start, len(result))\n",
      "c:\\Users\\bugae\\MachineLearning-Labs\\venv\\lib\\site-packages\\sklearn\\metrics\\_classification.py:1344: UndefinedMetricWarning: Precision and F-score are ill-defined and being set to 0.0 in labels with no predicted samples. Use `zero_division` parameter to control this behavior.\n",
      "  _warn_prf(average, modifier, msg_start, len(result))\n"
     ]
    }
   ],
   "source": [
    "pred = [np.argmax(pred) for pred in my_iv3.predict(test_ds)]\n",
    "\n",
    "y_test = np.array([])\n",
    "\n",
    "images, labels = tuple(zip(*test_ds))\n",
    "for i in labels:\n",
    "    y_test = np.append(y_test, i)\n",
    "\n",
    "print(classification_report(y_test, pred))"
   ]
  },
  {
   "cell_type": "code",
   "execution_count": 27,
   "metadata": {},
   "outputs": [],
   "source": [
    "my_iv3.compile(loss='sparse_categorical_crossentropy', optimizer='adam', metrics=['accuracy'])"
   ]
  },
  {
   "cell_type": "code",
   "execution_count": 28,
   "metadata": {},
   "outputs": [],
   "source": [
    "for layer in my_iv3.layers:\n",
    "    layer.trainable = False\n",
    "my_iv3.layers[-1].trainable = True"
   ]
  },
  {
   "cell_type": "code",
   "execution_count": 29,
   "metadata": {},
   "outputs": [
    {
     "name": "stdout",
     "output_type": "stream",
     "text": [
      "Epoch 1/5\n",
      "6/6 [==============================] - 58s 7s/step - loss: 0.2616 - accuracy: 0.8902 - val_loss: 25.2841 - val_accuracy: 0.3256\n",
      "Epoch 2/5\n",
      "6/6 [==============================] - 42s 7s/step - loss: 0.1418 - accuracy: 0.9711 - val_loss: 817.0413 - val_accuracy: 0.3256\n",
      "Epoch 3/5\n",
      "6/6 [==============================] - 43s 7s/step - loss: 0.1597 - accuracy: 0.9653 - val_loss: 5190.0977 - val_accuracy: 0.3256\n",
      "Epoch 4/5\n",
      "6/6 [==============================] - 42s 7s/step - loss: 0.1379 - accuracy: 0.9653 - val_loss: 54033.5391 - val_accuracy: 0.3256\n",
      "Epoch 5/5\n",
      "6/6 [==============================] - 43s 7s/step - loss: 0.0974 - accuracy: 0.9711 - val_loss: 69454.8047 - val_accuracy: 0.3256\n"
     ]
    },
    {
     "data": {
      "text/plain": [
       "<keras.callbacks.History at 0x267b07ba2f0>"
      ]
     },
     "execution_count": 29,
     "metadata": {},
     "output_type": "execute_result"
    }
   ],
   "source": [
    "my_iv3.fit(train_ds, epochs=5, validation_data=test_ds)"
   ]
  },
  {
   "cell_type": "code",
   "execution_count": 30,
   "metadata": {},
   "outputs": [
    {
     "name": "stdout",
     "output_type": "stream",
     "text": [
      "WARNING:tensorflow:5 out of the last 22 calls to <function Model.make_predict_function.<locals>.predict_function at 0x000002679C438550> triggered tf.function retracing. Tracing is expensive and the excessive number of tracings could be due to (1) creating @tf.function repeatedly in a loop, (2) passing tensors with different shapes, (3) passing Python objects instead of tensors. For (1), please define your @tf.function outside of the loop. For (2), @tf.function has reduce_retracing=True option that can avoid unnecessary retracing. For (3), please refer to https://www.tensorflow.org/guide/function#controlling_retracing and https://www.tensorflow.org/api_docs/python/tf/function for  more details.\n",
      "2/2 [==============================] - 3s 401ms/step\n",
      "              precision    recall  f1-score   support\n",
      "\n",
      "         0.0       0.00      0.00      0.00        15\n",
      "         1.0       0.33      1.00      0.49        14\n",
      "         2.0       0.00      0.00      0.00        14\n",
      "\n",
      "    accuracy                           0.33        43\n",
      "   macro avg       0.11      0.33      0.16        43\n",
      "weighted avg       0.11      0.33      0.16        43\n",
      "\n"
     ]
    },
    {
     "name": "stderr",
     "output_type": "stream",
     "text": [
      "c:\\Users\\bugae\\MachineLearning-Labs\\venv\\lib\\site-packages\\sklearn\\metrics\\_classification.py:1344: UndefinedMetricWarning: Precision and F-score are ill-defined and being set to 0.0 in labels with no predicted samples. Use `zero_division` parameter to control this behavior.\n",
      "  _warn_prf(average, modifier, msg_start, len(result))\n",
      "c:\\Users\\bugae\\MachineLearning-Labs\\venv\\lib\\site-packages\\sklearn\\metrics\\_classification.py:1344: UndefinedMetricWarning: Precision and F-score are ill-defined and being set to 0.0 in labels with no predicted samples. Use `zero_division` parameter to control this behavior.\n",
      "  _warn_prf(average, modifier, msg_start, len(result))\n",
      "c:\\Users\\bugae\\MachineLearning-Labs\\venv\\lib\\site-packages\\sklearn\\metrics\\_classification.py:1344: UndefinedMetricWarning: Precision and F-score are ill-defined and being set to 0.0 in labels with no predicted samples. Use `zero_division` parameter to control this behavior.\n",
      "  _warn_prf(average, modifier, msg_start, len(result))\n"
     ]
    }
   ],
   "source": [
    "pred = [np.argmax(pred) for pred in my_iv3.predict(test_ds)]\n",
    "\n",
    "y_test = np.array([])\n",
    "\n",
    "images, labels = tuple(zip(*test_ds))\n",
    "for i in labels:\n",
    "    y_test = np.append(y_test, i)\n",
    "\n",
    "print(classification_report(y_test, pred))"
   ]
  }
 ],
 "metadata": {
  "kernelspec": {
   "display_name": "venv",
   "language": "python",
   "name": "python3"
  },
  "language_info": {
   "codemirror_mode": {
    "name": "ipython",
    "version": 3
   },
   "file_extension": ".py",
   "mimetype": "text/x-python",
   "name": "python",
   "nbconvert_exporter": "python",
   "pygments_lexer": "ipython3",
   "version": "3.10.11"
  },
  "orig_nbformat": 4
 },
 "nbformat": 4,
 "nbformat_minor": 2
}

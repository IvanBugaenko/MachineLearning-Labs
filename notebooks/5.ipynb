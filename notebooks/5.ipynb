{
 "cells": [
  {
   "attachments": {},
   "cell_type": "markdown",
   "metadata": {},
   "source": [
    "https://drive.google.com/drive/folders/1peThKQigJkn6CTFpIfI3jfkgH5s65EeE -- данные"
   ]
  },
  {
   "attachments": {},
   "cell_type": "markdown",
   "metadata": {},
   "source": [
    "Используйте реализацию многослойного персептрона из ЛР 4. Реализуйте сверточный слой (прямое и обратное распространение). Соберите сверточную сеть. Попробуйте обучить классификатор кошек и собак с использованием собственной реализации сверточной нейронной сети. Вам также потребуется реализовать слой для преобразования многомерных массивов данных в одномерные.\n",
    "\n",
    "Надо сделать:\n",
    "1. Переписать персептрон (полностью);\n",
    "2. Написать Адама;\n",
    "3. Написать сверточный слой (прямое и обратное распространение);\n",
    "4. Написать слой для стягивания тензора в вектор;\n",
    "5. Обучить классификатор кошек и собак на своей нейронке;\n",
    "6. *Написать пулинговый слой "
   ]
  },
  {
   "cell_type": "code",
   "execution_count": 1,
   "metadata": {},
   "outputs": [],
   "source": [
    "from pathlib import Path\n",
    "import os\n",
    "import sys\n",
    "\n",
    "sys.path.append(str(Path(os.getcwd()).parent))"
   ]
  },
  {
   "cell_type": "code",
   "execution_count": 82,
   "metadata": {},
   "outputs": [],
   "source": [
    "import pandas as pd\n",
    "import numpy as np\n",
    "import tensorflow as tf\n",
    "import matplotlib.pyplot as plt"
   ]
  },
  {
   "cell_type": "code",
   "execution_count": 107,
   "metadata": {},
   "outputs": [],
   "source": [
    "from sklearn.metrics import classification_report"
   ]
  },
  {
   "attachments": {},
   "cell_type": "markdown",
   "metadata": {},
   "source": [
    "# 1. Решение задачи классификации кошек и собак"
   ]
  },
  {
   "attachments": {},
   "cell_type": "markdown",
   "metadata": {},
   "source": [
    "## 1.1 Загрузка датасета и аугментация"
   ]
  },
  {
   "cell_type": "code",
   "execution_count": 83,
   "metadata": {},
   "outputs": [
    {
     "name": "stdout",
     "output_type": "stream",
     "text": [
      "Found 2000 files belonging to 2 classes.\n",
      "Using 1600 files for training.\n",
      "Using 400 files for validation.\n"
     ]
    }
   ],
   "source": [
    "train_ds, test_ds = tf.keras.utils.image_dataset_from_directory(\n",
    "    directory=\"../data/cats&dogs\", \n",
    "    validation_split=0.2, \n",
    "    subset=\"both\", \n",
    "    seed=13, \n",
    "    image_size=(200, 200), # СНАЧАЛА ВЫСОТА, ПОТОМ ШИРИНА\n",
    "    batch_size=32\n",
    ")"
   ]
  },
  {
   "cell_type": "code",
   "execution_count": 85,
   "metadata": {},
   "outputs": [],
   "source": [
    "data_augmentation_flip = tf.keras.Sequential([\n",
    "    tf.keras.layers.RandomFlip(\"horizontal\"),\n",
    "    tf.keras.layers.RandomRotation(0.1),\n",
    "])"
   ]
  },
  {
   "cell_type": "code",
   "execution_count": 86,
   "metadata": {},
   "outputs": [
    {
     "name": "stdout",
     "output_type": "stream",
     "text": [
      "WARNING:tensorflow:Using a while_loop for converting RngReadAndSkip cause there is no registered converter for this op.\n",
      "WARNING:tensorflow:Using a while_loop for converting Bitcast cause there is no registered converter for this op.\n",
      "WARNING:tensorflow:Using a while_loop for converting Bitcast cause there is no registered converter for this op.\n",
      "WARNING:tensorflow:Using a while_loop for converting StatelessRandomUniformV2 cause there is no registered converter for this op.\n",
      "WARNING:tensorflow:Using a while_loop for converting ImageProjectiveTransformV3 cause there is no registered converter for this op.\n",
      "WARNING:tensorflow:Using a while_loop for converting RngReadAndSkip cause there is no registered converter for this op.\n",
      "WARNING:tensorflow:Using a while_loop for converting Bitcast cause there is no registered converter for this op.\n",
      "WARNING:tensorflow:Using a while_loop for converting Bitcast cause there is no registered converter for this op.\n",
      "WARNING:tensorflow:Using a while_loop for converting StatelessRandomUniformV2 cause there is no registered converter for this op.\n",
      "WARNING:tensorflow:Using a while_loop for converting ImageProjectiveTransformV3 cause there is no registered converter for this op.\n"
     ]
    }
   ],
   "source": [
    "train_ds = train_ds.map(\n",
    "    lambda img, label: (data_augmentation_flip(img), label)\n",
    ")"
   ]
  },
  {
   "attachments": {},
   "cell_type": "markdown",
   "metadata": {},
   "source": [
    "![cat](..\\memes\\0_yV46bI9fS12FXrh-.png)"
   ]
  },
  {
   "attachments": {},
   "cell_type": "markdown",
   "metadata": {},
   "source": [
    "## 1.2 Построение модели"
   ]
  },
  {
   "cell_type": "code",
   "execution_count": 88,
   "metadata": {},
   "outputs": [],
   "source": [
    "inputs = tf.keras.Input(shape=(200, 200, 3))\n",
    "\n",
    "x = tf.keras.layers.Rescaling(1. / 255)(inputs)\n",
    "\n",
    "x = tf.keras.layers.Conv2D(64, 3, strides=2, padding=\"same\")(x)\n",
    "x = tf.keras.layers.MaxPooling2D(3, strides=2, padding=\"same\")(x)\n",
    "\n",
    "x = tf.keras.layers.Conv2D(128, 4, strides=2, padding=\"same\")(x)\n",
    "x = tf.keras.layers.MaxPooling2D(3, strides=2, padding=\"same\")(x)\n",
    "\n",
    "x = tf.keras.layers.Flatten()(x)\n",
    "\n",
    "x = tf.keras.layers.Dense(64, activation=\"relu\")(x)\n",
    "outputs = tf.keras.layers.Dense(2, activation=\"softmax\")(x)\n",
    "\n",
    "classification_model = tf.keras.Model(inputs, outputs)"
   ]
  },
  {
   "cell_type": "code",
   "execution_count": 89,
   "metadata": {},
   "outputs": [],
   "source": [
    "classification_model.compile(optimizer=tf.keras.optimizers.Adam(1e-3), loss=\"sparse_categorical_crossentropy\", metrics=[\"accuracy\"])"
   ]
  },
  {
   "cell_type": "code",
   "execution_count": 90,
   "metadata": {},
   "outputs": [
    {
     "name": "stdout",
     "output_type": "stream",
     "text": [
      "Epoch 1/5\n",
      "50/50 [==============================] - 19s 363ms/step - loss: 0.8913 - accuracy: 0.5081 - val_loss: 0.6776 - val_accuracy: 0.5350\n",
      "Epoch 2/5\n",
      "50/50 [==============================] - 18s 353ms/step - loss: 0.6752 - accuracy: 0.5756 - val_loss: 0.6666 - val_accuracy: 0.5575\n",
      "Epoch 3/5\n",
      "50/50 [==============================] - 18s 355ms/step - loss: 0.6413 - accuracy: 0.6525 - val_loss: 0.6463 - val_accuracy: 0.6025\n",
      "Epoch 4/5\n",
      "50/50 [==============================] - 18s 363ms/step - loss: 0.6388 - accuracy: 0.6356 - val_loss: 0.6330 - val_accuracy: 0.6300\n",
      "Epoch 5/5\n",
      "50/50 [==============================] - 18s 356ms/step - loss: 0.6304 - accuracy: 0.6494 - val_loss: 0.6710 - val_accuracy: 0.5925\n"
     ]
    },
    {
     "data": {
      "text/plain": [
       "<keras.callbacks.History at 0x1d4e1c48e20>"
      ]
     },
     "execution_count": 90,
     "metadata": {},
     "output_type": "execute_result"
    }
   ],
   "source": [
    "classification_model.fit(train_ds, epochs=5, validation_data=test_ds)"
   ]
  },
  {
   "cell_type": "code",
   "execution_count": 104,
   "metadata": {},
   "outputs": [
    {
     "name": "stdout",
     "output_type": "stream",
     "text": [
      "1/1 [==============================] - 0s 21ms/step\n",
      "Это кот\n"
     ]
    }
   ],
   "source": [
    "img = tf.keras.preprocessing.image.load_img(\n",
    "    \"../data/cats&dogs/cats/2.jpg\", target_size=(200, 200)\n",
    ")\n",
    "\n",
    "img_array = tf.keras.preprocessing.image.img_to_array(img)\n",
    "img_array = tf.expand_dims(img_array, 0)\n",
    "\n",
    "print(\"Это собака\" if np.argmax(classification_model.predict(img_array)) else \"Это кот\")"
   ]
  },
  {
   "cell_type": "code",
   "execution_count": 146,
   "metadata": {},
   "outputs": [
    {
     "name": "stdout",
     "output_type": "stream",
     "text": [
      "13/13 [==============================] - 5s 213ms/step\n",
      "              precision    recall  f1-score   support\n",
      "\n",
      "         0.0       0.50      0.89      0.64       191\n",
      "         1.0       0.67      0.20      0.31       209\n",
      "\n",
      "    accuracy                           0.53       400\n",
      "   macro avg       0.59      0.55      0.48       400\n",
      "weighted avg       0.59      0.53      0.47       400\n",
      "\n"
     ]
    }
   ],
   "source": [
    "pred = [np.argmax(pred) for pred in classification_model.predict(test_ds)]\n",
    "\n",
    "y_test = np.array([])\n",
    "\n",
    "images, labels = tuple(zip(*test_ds))\n",
    "for i in labels:\n",
    "    y_test = np.append(y_test, i)\n",
    "\n",
    "print(classification_report(y_test, pred))"
   ]
  },
  {
   "attachments": {},
   "cell_type": "markdown",
   "metadata": {},
   "source": [
    "# 2. Работа с уже обученными моделями"
   ]
  },
  {
   "attachments": {},
   "cell_type": "markdown",
   "metadata": {},
   "source": [
    "## 2.1 Загрузка моделей InceptionV3 и VGG19"
   ]
  },
  {
   "cell_type": "code",
   "execution_count": null,
   "metadata": {},
   "outputs": [],
   "source": [
    "vgg = tf.keras.applications.VGG19(weights='imagenet', include_top=True)\n",
    "# vgg.summary()"
   ]
  },
  {
   "cell_type": "code",
   "execution_count": 178,
   "metadata": {},
   "outputs": [],
   "source": [
    "iv3 = tf.keras.applications.InceptionV3(weights='imagenet', include_top=True)\n",
    "# iv3.summary()"
   ]
  },
  {
   "attachments": {},
   "cell_type": "markdown",
   "metadata": {},
   "source": [
    "## 2.2 Feature-extraction и Fine-tuning для VGG19"
   ]
  },
  {
   "cell_type": "code",
   "execution_count": null,
   "metadata": {},
   "outputs": [],
   "source": [
    "train_ds, test_ds = tf.keras.utils.image_dataset_from_directory(\n",
    "    directory=\"../data/objects\", \n",
    "    validation_split=0.2, \n",
    "    subset=\"both\", \n",
    "    seed=9, \n",
    "    image_size=(224, 224),\n",
    "    batch_size=32\n",
    ")"
   ]
  },
  {
   "cell_type": "code",
   "execution_count": 154,
   "metadata": {},
   "outputs": [],
   "source": [
    "input = vgg.input\n",
    "my_layer = tf.keras.layers.Dense(3, activation='softmax')\n",
    "output = my_layer(vgg.layers[-2].output)\n",
    "\n",
    "my_vgg = tf.keras.Model(input, output)"
   ]
  },
  {
   "cell_type": "code",
   "execution_count": 160,
   "metadata": {},
   "outputs": [
    {
     "name": "stdout",
     "output_type": "stream",
     "text": [
      "2/2 [==============================] - 4s 1s/step\n",
      "              precision    recall  f1-score   support\n",
      "\n",
      "         0.0       0.00      0.00      0.00        15\n",
      "         1.0       1.00      0.07      0.13        14\n",
      "         2.0       0.35      1.00      0.52        14\n",
      "\n",
      "    accuracy                           0.35        43\n",
      "   macro avg       0.45      0.36      0.22        43\n",
      "weighted avg       0.44      0.35      0.21        43\n",
      "\n"
     ]
    }
   ],
   "source": [
    "pred = [np.argmax(pred) for pred in my_vgg.predict(test_ds)]\n",
    "\n",
    "y_test = np.array([])\n",
    "\n",
    "images, labels = tuple(zip(*test_ds))\n",
    "for i in labels:\n",
    "    y_test = np.append(y_test, i)\n",
    "\n",
    "print(classification_report(y_test, pred))"
   ]
  },
  {
   "cell_type": "code",
   "execution_count": null,
   "metadata": {},
   "outputs": [],
   "source": [
    "my_vgg.compile(loss='sparse_categorical_crossentropy', optimizer='adam', metrics=['accuracy'])"
   ]
  },
  {
   "cell_type": "code",
   "execution_count": 163,
   "metadata": {},
   "outputs": [],
   "source": [
    "for layer in my_vgg.layers:\n",
    "    layer.trainable = False\n",
    "my_vgg.layers[-1].trainable = True"
   ]
  },
  {
   "cell_type": "code",
   "execution_count": null,
   "metadata": {},
   "outputs": [],
   "source": [
    "my_vgg.fit(train_ds, epochs=5, validation_data=test_ds)"
   ]
  },
  {
   "cell_type": "code",
   "execution_count": 166,
   "metadata": {},
   "outputs": [
    {
     "name": "stdout",
     "output_type": "stream",
     "text": [
      "2/2 [==============================] - 4s 1s/step\n",
      "              precision    recall  f1-score   support\n",
      "\n",
      "         0.0       1.00      1.00      1.00        15\n",
      "         1.0       1.00      1.00      1.00        14\n",
      "         2.0       1.00      1.00      1.00        14\n",
      "\n",
      "    accuracy                           1.00        43\n",
      "   macro avg       1.00      1.00      1.00        43\n",
      "weighted avg       1.00      1.00      1.00        43\n",
      "\n"
     ]
    }
   ],
   "source": [
    "pred = [np.argmax(pred) for pred in my_vgg.predict(test_ds)]\n",
    "\n",
    "y_test = np.array([])\n",
    "\n",
    "images, labels = tuple(zip(*test_ds))\n",
    "for i in labels:\n",
    "    y_test = np.append(y_test, i)\n",
    "\n",
    "print(classification_report(y_test, pred))"
   ]
  },
  {
   "cell_type": "code",
   "execution_count": 167,
   "metadata": {},
   "outputs": [],
   "source": [
    "my_vgg.layers[-2].trainable = True"
   ]
  },
  {
   "cell_type": "code",
   "execution_count": 168,
   "metadata": {},
   "outputs": [
    {
     "name": "stdout",
     "output_type": "stream",
     "text": [
      "Epoch 1/5\n",
      "6/6 [==============================] - 20s 3s/step - loss: 2.8583e-04 - accuracy: 1.0000 - val_loss: 0.0017 - val_accuracy: 1.0000\n",
      "Epoch 2/5\n",
      "6/6 [==============================] - 19s 3s/step - loss: 1.8003e-04 - accuracy: 1.0000 - val_loss: 0.0016 - val_accuracy: 1.0000\n",
      "Epoch 3/5\n",
      "6/6 [==============================] - 20s 3s/step - loss: 1.2785e-04 - accuracy: 1.0000 - val_loss: 0.0015 - val_accuracy: 1.0000\n",
      "Epoch 4/5\n",
      "6/6 [==============================] - 21s 4s/step - loss: 1.0499e-04 - accuracy: 1.0000 - val_loss: 0.0015 - val_accuracy: 1.0000\n",
      "Epoch 5/5\n",
      "6/6 [==============================] - 20s 3s/step - loss: 8.9217e-05 - accuracy: 1.0000 - val_loss: 0.0014 - val_accuracy: 1.0000\n"
     ]
    },
    {
     "data": {
      "text/plain": [
       "<keras.callbacks.History at 0x1d4f42c0cd0>"
      ]
     },
     "execution_count": 168,
     "metadata": {},
     "output_type": "execute_result"
    }
   ],
   "source": [
    "my_vgg.fit(train_ds, epochs=5, validation_data=test_ds)"
   ]
  },
  {
   "cell_type": "code",
   "execution_count": 169,
   "metadata": {},
   "outputs": [
    {
     "name": "stdout",
     "output_type": "stream",
     "text": [
      "2/2 [==============================] - 4s 1s/step\n",
      "              precision    recall  f1-score   support\n",
      "\n",
      "         0.0       1.00      1.00      1.00        15\n",
      "         1.0       1.00      1.00      1.00        14\n",
      "         2.0       1.00      1.00      1.00        14\n",
      "\n",
      "    accuracy                           1.00        43\n",
      "   macro avg       1.00      1.00      1.00        43\n",
      "weighted avg       1.00      1.00      1.00        43\n",
      "\n"
     ]
    }
   ],
   "source": [
    "pred = [np.argmax(pred) for pred in my_vgg.predict(test_ds)]\n",
    "\n",
    "y_test = np.array([])\n",
    "\n",
    "images, labels = tuple(zip(*test_ds))\n",
    "for i in labels:\n",
    "    y_test = np.append(y_test, i)\n",
    "\n",
    "print(classification_report(y_test, pred))"
   ]
  },
  {
   "attachments": {},
   "cell_type": "markdown",
   "metadata": {},
   "source": [
    "## 2.3 Feature-extraction и Fine-tuning для InceptionV3"
   ]
  },
  {
   "cell_type": "code",
   "execution_count": 179,
   "metadata": {},
   "outputs": [
    {
     "name": "stdout",
     "output_type": "stream",
     "text": [
      "Found 216 files belonging to 3 classes.\n",
      "Using 173 files for training.\n",
      "Using 43 files for validation.\n"
     ]
    }
   ],
   "source": [
    "train_ds, test_ds = tf.keras.utils.image_dataset_from_directory(\n",
    "    directory=\"../data/objects\", \n",
    "    validation_split=0.2, \n",
    "    subset=\"both\", \n",
    "    seed=9, \n",
    "    image_size=(299, 299),\n",
    "    batch_size=32\n",
    ")"
   ]
  },
  {
   "cell_type": "code",
   "execution_count": 180,
   "metadata": {},
   "outputs": [],
   "source": [
    "input = iv3.input\n",
    "my_layer = tf.keras.layers.Dense(3, activation='softmax')\n",
    "output = my_layer(iv3.layers[-2].output)\n",
    "\n",
    "my_iv3 = tf.keras.Model(input, output)"
   ]
  },
  {
   "cell_type": "code",
   "execution_count": 181,
   "metadata": {},
   "outputs": [
    {
     "name": "stdout",
     "output_type": "stream",
     "text": [
      "2/2 [==============================] - 3s 452ms/step\n",
      "              precision    recall  f1-score   support\n",
      "\n",
      "         0.0       0.00      0.00      0.00        15\n",
      "         1.0       0.00      0.00      0.00        14\n",
      "         2.0       0.33      1.00      0.49        14\n",
      "\n",
      "    accuracy                           0.33        43\n",
      "   macro avg       0.11      0.33      0.16        43\n",
      "weighted avg       0.11      0.33      0.16        43\n",
      "\n"
     ]
    },
    {
     "name": "stderr",
     "output_type": "stream",
     "text": [
      "c:\\Users\\bugae\\MachineLearning-Labs\\venv\\lib\\site-packages\\sklearn\\metrics\\_classification.py:1344: UndefinedMetricWarning: Precision and F-score are ill-defined and being set to 0.0 in labels with no predicted samples. Use `zero_division` parameter to control this behavior.\n",
      "  _warn_prf(average, modifier, msg_start, len(result))\n",
      "c:\\Users\\bugae\\MachineLearning-Labs\\venv\\lib\\site-packages\\sklearn\\metrics\\_classification.py:1344: UndefinedMetricWarning: Precision and F-score are ill-defined and being set to 0.0 in labels with no predicted samples. Use `zero_division` parameter to control this behavior.\n",
      "  _warn_prf(average, modifier, msg_start, len(result))\n",
      "c:\\Users\\bugae\\MachineLearning-Labs\\venv\\lib\\site-packages\\sklearn\\metrics\\_classification.py:1344: UndefinedMetricWarning: Precision and F-score are ill-defined and being set to 0.0 in labels with no predicted samples. Use `zero_division` parameter to control this behavior.\n",
      "  _warn_prf(average, modifier, msg_start, len(result))\n"
     ]
    }
   ],
   "source": [
    "pred = [np.argmax(pred) for pred in my_iv3.predict(test_ds)]\n",
    "\n",
    "y_test = np.array([])\n",
    "\n",
    "images, labels = tuple(zip(*test_ds))\n",
    "for i in labels:\n",
    "    y_test = np.append(y_test, i)\n",
    "\n",
    "print(classification_report(y_test, pred))"
   ]
  },
  {
   "cell_type": "code",
   "execution_count": 182,
   "metadata": {},
   "outputs": [],
   "source": [
    "my_iv3.compile(loss='sparse_categorical_crossentropy', optimizer='adam', metrics=['accuracy'])"
   ]
  },
  {
   "cell_type": "code",
   "execution_count": 185,
   "metadata": {},
   "outputs": [],
   "source": [
    "for layer in my_iv3.layers:\n",
    "    layer.trainable = False\n",
    "my_iv3.layers[-1].trainable = True"
   ]
  },
  {
   "cell_type": "code",
   "execution_count": 186,
   "metadata": {},
   "outputs": [
    {
     "name": "stdout",
     "output_type": "stream",
     "text": [
      "Epoch 1/5\n",
      "6/6 [==============================] - 60s 8s/step - loss: 0.2686 - accuracy: 0.8382 - val_loss: 5.5892 - val_accuracy: 0.4651\n",
      "Epoch 2/5\n",
      "6/6 [==============================] - 47s 8s/step - loss: 0.0653 - accuracy: 0.9884 - val_loss: 24.0082 - val_accuracy: 0.3953\n",
      "Epoch 3/5\n",
      "6/6 [==============================] - 45s 7s/step - loss: 0.1054 - accuracy: 0.9711 - val_loss: 804.2016 - val_accuracy: 0.3256\n",
      "Epoch 4/5\n",
      "6/6 [==============================] - 43s 7s/step - loss: 0.2037 - accuracy: 0.9480 - val_loss: 2943.6809 - val_accuracy: 0.2791\n",
      "Epoch 5/5\n",
      "6/6 [==============================] - 44s 7s/step - loss: 0.0747 - accuracy: 0.9884 - val_loss: 866.7255 - val_accuracy: 0.3488\n"
     ]
    },
    {
     "data": {
      "text/plain": [
       "<keras.callbacks.History at 0x1d4e8395630>"
      ]
     },
     "execution_count": 186,
     "metadata": {},
     "output_type": "execute_result"
    }
   ],
   "source": [
    "my_iv3.fit(train_ds, epochs=5, validation_data=test_ds)"
   ]
  },
  {
   "cell_type": "code",
   "execution_count": 188,
   "metadata": {},
   "outputs": [
    {
     "name": "stdout",
     "output_type": "stream",
     "text": [
      "2/2 [==============================] - 2s 431ms/step\n",
      "              precision    recall  f1-score   support\n",
      "\n",
      "         0.0       0.35      1.00      0.52        15\n",
      "         1.0       0.00      0.00      0.00        14\n",
      "         2.0       0.00      0.00      0.00        14\n",
      "\n",
      "    accuracy                           0.35        43\n",
      "   macro avg       0.12      0.33      0.17        43\n",
      "weighted avg       0.12      0.35      0.18        43\n",
      "\n"
     ]
    },
    {
     "name": "stderr",
     "output_type": "stream",
     "text": [
      "c:\\Users\\bugae\\MachineLearning-Labs\\venv\\lib\\site-packages\\sklearn\\metrics\\_classification.py:1344: UndefinedMetricWarning: Precision and F-score are ill-defined and being set to 0.0 in labels with no predicted samples. Use `zero_division` parameter to control this behavior.\n",
      "  _warn_prf(average, modifier, msg_start, len(result))\n",
      "c:\\Users\\bugae\\MachineLearning-Labs\\venv\\lib\\site-packages\\sklearn\\metrics\\_classification.py:1344: UndefinedMetricWarning: Precision and F-score are ill-defined and being set to 0.0 in labels with no predicted samples. Use `zero_division` parameter to control this behavior.\n",
      "  _warn_prf(average, modifier, msg_start, len(result))\n",
      "c:\\Users\\bugae\\MachineLearning-Labs\\venv\\lib\\site-packages\\sklearn\\metrics\\_classification.py:1344: UndefinedMetricWarning: Precision and F-score are ill-defined and being set to 0.0 in labels with no predicted samples. Use `zero_division` parameter to control this behavior.\n",
      "  _warn_prf(average, modifier, msg_start, len(result))\n"
     ]
    }
   ],
   "source": [
    "pred = [np.argmax(pred) for pred in my_iv3.predict(test_ds)]\n",
    "\n",
    "y_test = np.array([])\n",
    "\n",
    "images, labels = tuple(zip(*test_ds))\n",
    "for i in labels:\n",
    "    y_test = np.append(y_test, i)\n",
    "\n",
    "print(classification_report(y_test, pred))"
   ]
  }
 ],
 "metadata": {
  "kernelspec": {
   "display_name": "venv",
   "language": "python",
   "name": "python3"
  },
  "language_info": {
   "codemirror_mode": {
    "name": "ipython",
    "version": 3
   },
   "file_extension": ".py",
   "mimetype": "text/x-python",
   "name": "python",
   "nbconvert_exporter": "python",
   "pygments_lexer": "ipython3",
   "version": "3.10.11"
  },
  "orig_nbformat": 4
 },
 "nbformat": 4,
 "nbformat_minor": 2
}

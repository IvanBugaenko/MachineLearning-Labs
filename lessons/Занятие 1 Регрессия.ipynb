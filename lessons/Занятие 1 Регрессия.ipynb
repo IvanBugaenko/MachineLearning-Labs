{
 "cells": [
  {
   "cell_type": "markdown",
   "id": "bc6bf6be",
   "metadata": {},
   "source": [
    "# Лабораторная работа 1. Введение в машинное обучение. Обучение с учителем. Задача регрессии"
   ]
  },
  {
   "cell_type": "markdown",
   "id": "63e86608",
   "metadata": {},
   "source": [
    "## Добро пожаловать на курс по машинному обучению на кафедре ПМиФИ."
   ]
  },
  {
   "cell_type": "markdown",
   "id": "45eb9be0",
   "metadata": {},
   "source": [
    "![](https://www.calltouch.ru/upload/medialibrary/498/49825604948da1b5a83f1f89c45c26e9.jpg)"
   ]
  },
  {
   "cell_type": "markdown",
   "id": "f14735dc",
   "metadata": {},
   "source": [
    "## Классификация задач машинного обучения"
   ]
  },
  {
   "cell_type": "markdown",
   "id": "e081ce59",
   "metadata": {},
   "source": [
    "Прежде всего напоминаю, что <b>машинным обучением называется</b> раздел искусственного интеллекта изучающий методы построения алгоритмов, способных обучаться. В основе всего здесь лежит математическая статистика, поскольку обучение (даже в бытовом смысле) - это поиск закономерностей."
   ]
  },
  {
   "cell_type": "markdown",
   "id": "deb982f6",
   "metadata": {},
   "source": [
    "Мы будем рассматривать <b>классическое обучение</b>, которое включает в себя <b>два основных класса задач</b>."
   ]
  },
  {
   "cell_type": "markdown",
   "id": "0a8daa4f",
   "metadata": {},
   "source": [
    "![](https://static.tildacdn.com/tild3533-6161-4335-a633-643631363962/8.jpeg)"
   ]
  },
  {
   "cell_type": "markdown",
   "id": "f83afefc",
   "metadata": {},
   "source": [
    "## Модель в машинном обучении. Общая схема решения задачи обучения с учителем"
   ]
  },
  {
   "cell_type": "markdown",
   "id": "815c3ca7",
   "metadata": {},
   "source": [
    "В рамках изучаемой дисциплины мы будем часто употреблять термин <b>\"модель\"</b>. Следует сразу же понять, что оно означает. Предлагается понимать модель как некоторый объект (сущность, алгоритм), который может:\n",
    "- принимать данные и возвращать предсказания (predict);\n",
    "- принимать данные и обновлять внутреннее состояние, то есть обучаться (fit)."
   ]
  },
  {
   "cell_type": "markdown",
   "id": "8926e9e7",
   "metadata": {},
   "source": [
    "<b>Обучение с учителем</b> - это класс задач машинного обучения, в котором нашей целью является получение предсказаний какого либо признака в данных (называемого целевым). При этом подразумевается, что у нас есть некоторое <b>множество данных с известными правильными ответами </b> (то есть данные заранее размечены - поэтому и называется обучение с учителем). Модель при обучении будет использовать информацию о правильных ответах."
   ]
  },
  {
   "cell_type": "markdown",
   "id": "109d7437",
   "metadata": {},
   "source": [
    "Задачи регрессии и классификации по своему смыслу похожи. Основное отличие заключается в том, что <b>в задаче регрессии мы предсказываем непрерывное значение (действительое число), а в задаче классификации - дискретное (целое число). </b>"
   ]
  },
  {
   "cell_type": "markdown",
   "id": "487fa628",
   "metadata": {},
   "source": [
    "<b>Общая схема решения задачи обучения с учителем выглядит следующим образом:</b>\n",
    "1) загрузка и анализ данных; выявление целевого признака (то, что мы хотим предсказывать)\n",
    "2) предварительная обработка данных (в частности, заполнение пропущенных значений, преобразование категориальных признаков);\n",
    "3) построение моделей с использованием различных множеств значений гиперпараметров;\n",
    "4) оценивание качества построенных моделей с использованием метрик; выбор лучшей модели;\n",
    "5) применение модели для получения предсказаний."
   ]
  },
  {
   "cell_type": "markdown",
   "id": "6604f4d3",
   "metadata": {},
   "source": [
    "## Задача регрессии"
   ]
  },
  {
   "cell_type": "markdown",
   "id": "9e963b03",
   "metadata": {},
   "source": [
    "В первой лабораторной работе мы научимся решать задачу регрессии."
   ]
  },
  {
   "cell_type": "markdown",
   "id": "caecb36d",
   "metadata": {},
   "source": [
    "### Загрузка данных"
   ]
  },
  {
   "cell_type": "markdown",
   "id": "bfe46f5d",
   "metadata": {},
   "source": [
    "Для демонстрации подходов к решению задачи регрессии мы будем использовать данные о стоимости домов в некотором городе. Как сказано выше, решая задачу регрессии строим модель, которая будет предсказывать числа. Мы хотим научиться предсказывать стоимость дома по совокупности признаков."
   ]
  },
  {
   "cell_type": "code",
   "execution_count": 171,
   "id": "c5b57272",
   "metadata": {},
   "outputs": [],
   "source": [
    "import pandas as pd"
   ]
  },
  {
   "cell_type": "code",
   "execution_count": 172,
   "id": "a0557076",
   "metadata": {
    "scrolled": true
   },
   "outputs": [
    {
     "data": {
      "text/html": [
       "<div>\n",
       "<style scoped>\n",
       "    .dataframe tbody tr th:only-of-type {\n",
       "        vertical-align: middle;\n",
       "    }\n",
       "\n",
       "    .dataframe tbody tr th {\n",
       "        vertical-align: top;\n",
       "    }\n",
       "\n",
       "    .dataframe thead th {\n",
       "        text-align: right;\n",
       "    }\n",
       "</style>\n",
       "<table border=\"1\" class=\"dataframe\">\n",
       "  <thead>\n",
       "    <tr style=\"text-align: right;\">\n",
       "      <th></th>\n",
       "      <th>SalePrice</th>\n",
       "      <th>YearBuilt</th>\n",
       "      <th>YrSold</th>\n",
       "      <th>MonthSold</th>\n",
       "      <th>Size(sqf)</th>\n",
       "      <th>Floor</th>\n",
       "      <th>N_Parkinglot(Ground)</th>\n",
       "      <th>N_Parkinglot(Basement)</th>\n",
       "      <th>TimeToBusStop</th>\n",
       "      <th>TimeToSubway</th>\n",
       "      <th>...</th>\n",
       "      <th>c_management_in_trust</th>\n",
       "      <th>c_self_management</th>\n",
       "      <th>c_Bangoge</th>\n",
       "      <th>c_Banwoldang</th>\n",
       "      <th>c_Chil-sung-market</th>\n",
       "      <th>c_Daegu</th>\n",
       "      <th>c_Kyungbuk_uni_hospital</th>\n",
       "      <th>c_Myung-duk</th>\n",
       "      <th>c_Sin-nam</th>\n",
       "      <th>c_no_subway_nearby</th>\n",
       "    </tr>\n",
       "  </thead>\n",
       "  <tbody>\n",
       "    <tr>\n",
       "      <th>0</th>\n",
       "      <td>141592</td>\n",
       "      <td>2006</td>\n",
       "      <td>2007</td>\n",
       "      <td>8</td>\n",
       "      <td>814</td>\n",
       "      <td>3</td>\n",
       "      <td>111.0</td>\n",
       "      <td>184.0</td>\n",
       "      <td>1</td>\n",
       "      <td>2</td>\n",
       "      <td>...</td>\n",
       "      <td>1</td>\n",
       "      <td>0</td>\n",
       "      <td>0</td>\n",
       "      <td>0</td>\n",
       "      <td>0</td>\n",
       "      <td>0</td>\n",
       "      <td>1</td>\n",
       "      <td>0</td>\n",
       "      <td>0</td>\n",
       "      <td>0</td>\n",
       "    </tr>\n",
       "    <tr>\n",
       "      <th>1</th>\n",
       "      <td>51327</td>\n",
       "      <td>1985</td>\n",
       "      <td>2007</td>\n",
       "      <td>8</td>\n",
       "      <td>587</td>\n",
       "      <td>8</td>\n",
       "      <td>80.0</td>\n",
       "      <td>76.0</td>\n",
       "      <td>2</td>\n",
       "      <td>3</td>\n",
       "      <td>...</td>\n",
       "      <td>0</td>\n",
       "      <td>1</td>\n",
       "      <td>0</td>\n",
       "      <td>0</td>\n",
       "      <td>0</td>\n",
       "      <td>1</td>\n",
       "      <td>0</td>\n",
       "      <td>0</td>\n",
       "      <td>0</td>\n",
       "      <td>0</td>\n",
       "    </tr>\n",
       "    <tr>\n",
       "      <th>2</th>\n",
       "      <td>48672</td>\n",
       "      <td>1985</td>\n",
       "      <td>2007</td>\n",
       "      <td>8</td>\n",
       "      <td>587</td>\n",
       "      <td>6</td>\n",
       "      <td>80.0</td>\n",
       "      <td>76.0</td>\n",
       "      <td>2</td>\n",
       "      <td>3</td>\n",
       "      <td>...</td>\n",
       "      <td>0</td>\n",
       "      <td>1</td>\n",
       "      <td>0</td>\n",
       "      <td>0</td>\n",
       "      <td>0</td>\n",
       "      <td>1</td>\n",
       "      <td>0</td>\n",
       "      <td>0</td>\n",
       "      <td>0</td>\n",
       "      <td>0</td>\n",
       "    </tr>\n",
       "    <tr>\n",
       "      <th>3</th>\n",
       "      <td>380530</td>\n",
       "      <td>2006</td>\n",
       "      <td>2007</td>\n",
       "      <td>8</td>\n",
       "      <td>2056</td>\n",
       "      <td>8</td>\n",
       "      <td>249.0</td>\n",
       "      <td>536.0</td>\n",
       "      <td>2</td>\n",
       "      <td>4</td>\n",
       "      <td>...</td>\n",
       "      <td>1</td>\n",
       "      <td>0</td>\n",
       "      <td>0</td>\n",
       "      <td>0</td>\n",
       "      <td>0</td>\n",
       "      <td>0</td>\n",
       "      <td>0</td>\n",
       "      <td>0</td>\n",
       "      <td>1</td>\n",
       "      <td>0</td>\n",
       "    </tr>\n",
       "    <tr>\n",
       "      <th>4</th>\n",
       "      <td>221238</td>\n",
       "      <td>1993</td>\n",
       "      <td>2007</td>\n",
       "      <td>8</td>\n",
       "      <td>1761</td>\n",
       "      <td>3</td>\n",
       "      <td>523.0</td>\n",
       "      <td>536.0</td>\n",
       "      <td>2</td>\n",
       "      <td>1</td>\n",
       "      <td>...</td>\n",
       "      <td>1</td>\n",
       "      <td>0</td>\n",
       "      <td>0</td>\n",
       "      <td>0</td>\n",
       "      <td>0</td>\n",
       "      <td>0</td>\n",
       "      <td>0</td>\n",
       "      <td>1</td>\n",
       "      <td>0</td>\n",
       "      <td>0</td>\n",
       "    </tr>\n",
       "    <tr>\n",
       "      <th>...</th>\n",
       "      <td>...</td>\n",
       "      <td>...</td>\n",
       "      <td>...</td>\n",
       "      <td>...</td>\n",
       "      <td>...</td>\n",
       "      <td>...</td>\n",
       "      <td>...</td>\n",
       "      <td>...</td>\n",
       "      <td>...</td>\n",
       "      <td>...</td>\n",
       "      <td>...</td>\n",
       "      <td>...</td>\n",
       "      <td>...</td>\n",
       "      <td>...</td>\n",
       "      <td>...</td>\n",
       "      <td>...</td>\n",
       "      <td>...</td>\n",
       "      <td>...</td>\n",
       "      <td>...</td>\n",
       "      <td>...</td>\n",
       "      <td>...</td>\n",
       "    </tr>\n",
       "    <tr>\n",
       "      <th>5886</th>\n",
       "      <td>511504</td>\n",
       "      <td>2007</td>\n",
       "      <td>2017</td>\n",
       "      <td>8</td>\n",
       "      <td>1643</td>\n",
       "      <td>19</td>\n",
       "      <td>0.0</td>\n",
       "      <td>1270.0</td>\n",
       "      <td>2</td>\n",
       "      <td>4</td>\n",
       "      <td>...</td>\n",
       "      <td>1</td>\n",
       "      <td>0</td>\n",
       "      <td>0</td>\n",
       "      <td>0</td>\n",
       "      <td>0</td>\n",
       "      <td>0</td>\n",
       "      <td>1</td>\n",
       "      <td>0</td>\n",
       "      <td>0</td>\n",
       "      <td>0</td>\n",
       "    </tr>\n",
       "    <tr>\n",
       "      <th>5887</th>\n",
       "      <td>298230</td>\n",
       "      <td>2006</td>\n",
       "      <td>2017</td>\n",
       "      <td>8</td>\n",
       "      <td>903</td>\n",
       "      <td>13</td>\n",
       "      <td>123.0</td>\n",
       "      <td>181.0</td>\n",
       "      <td>1</td>\n",
       "      <td>4</td>\n",
       "      <td>...</td>\n",
       "      <td>1</td>\n",
       "      <td>0</td>\n",
       "      <td>0</td>\n",
       "      <td>0</td>\n",
       "      <td>0</td>\n",
       "      <td>0</td>\n",
       "      <td>0</td>\n",
       "      <td>1</td>\n",
       "      <td>0</td>\n",
       "      <td>0</td>\n",
       "    </tr>\n",
       "    <tr>\n",
       "      <th>5888</th>\n",
       "      <td>357522</td>\n",
       "      <td>2007</td>\n",
       "      <td>2017</td>\n",
       "      <td>8</td>\n",
       "      <td>868</td>\n",
       "      <td>20</td>\n",
       "      <td>0.0</td>\n",
       "      <td>1270.0</td>\n",
       "      <td>2</td>\n",
       "      <td>4</td>\n",
       "      <td>...</td>\n",
       "      <td>1</td>\n",
       "      <td>0</td>\n",
       "      <td>0</td>\n",
       "      <td>0</td>\n",
       "      <td>0</td>\n",
       "      <td>0</td>\n",
       "      <td>1</td>\n",
       "      <td>0</td>\n",
       "      <td>0</td>\n",
       "      <td>0</td>\n",
       "    </tr>\n",
       "    <tr>\n",
       "      <th>5889</th>\n",
       "      <td>312389</td>\n",
       "      <td>1978</td>\n",
       "      <td>2017</td>\n",
       "      <td>8</td>\n",
       "      <td>1327</td>\n",
       "      <td>1</td>\n",
       "      <td>87.0</td>\n",
       "      <td>0.0</td>\n",
       "      <td>2</td>\n",
       "      <td>4</td>\n",
       "      <td>...</td>\n",
       "      <td>0</td>\n",
       "      <td>1</td>\n",
       "      <td>0</td>\n",
       "      <td>0</td>\n",
       "      <td>0</td>\n",
       "      <td>0</td>\n",
       "      <td>1</td>\n",
       "      <td>0</td>\n",
       "      <td>0</td>\n",
       "      <td>0</td>\n",
       "    </tr>\n",
       "    <tr>\n",
       "      <th>5890</th>\n",
       "      <td>393805</td>\n",
       "      <td>2007</td>\n",
       "      <td>2017</td>\n",
       "      <td>8</td>\n",
       "      <td>868</td>\n",
       "      <td>13</td>\n",
       "      <td>0.0</td>\n",
       "      <td>1270.0</td>\n",
       "      <td>2</td>\n",
       "      <td>4</td>\n",
       "      <td>...</td>\n",
       "      <td>1</td>\n",
       "      <td>0</td>\n",
       "      <td>0</td>\n",
       "      <td>0</td>\n",
       "      <td>0</td>\n",
       "      <td>0</td>\n",
       "      <td>1</td>\n",
       "      <td>0</td>\n",
       "      <td>0</td>\n",
       "      <td>0</td>\n",
       "    </tr>\n",
       "  </tbody>\n",
       "</table>\n",
       "<p>5891 rows × 41 columns</p>\n",
       "</div>"
      ],
      "text/plain": [
       "      SalePrice  YearBuilt  YrSold  MonthSold  Size(sqf)  Floor  \\\n",
       "0        141592       2006    2007          8        814      3   \n",
       "1         51327       1985    2007          8        587      8   \n",
       "2         48672       1985    2007          8        587      6   \n",
       "3        380530       2006    2007          8       2056      8   \n",
       "4        221238       1993    2007          8       1761      3   \n",
       "...         ...        ...     ...        ...        ...    ...   \n",
       "5886     511504       2007    2017          8       1643     19   \n",
       "5887     298230       2006    2017          8        903     13   \n",
       "5888     357522       2007    2017          8        868     20   \n",
       "5889     312389       1978    2017          8       1327      1   \n",
       "5890     393805       2007    2017          8        868     13   \n",
       "\n",
       "      N_Parkinglot(Ground)  N_Parkinglot(Basement)  TimeToBusStop  \\\n",
       "0                    111.0                   184.0              1   \n",
       "1                     80.0                    76.0              2   \n",
       "2                     80.0                    76.0              2   \n",
       "3                    249.0                   536.0              2   \n",
       "4                    523.0                   536.0              2   \n",
       "...                    ...                     ...            ...   \n",
       "5886                   0.0                  1270.0              2   \n",
       "5887                 123.0                   181.0              1   \n",
       "5888                   0.0                  1270.0              2   \n",
       "5889                  87.0                     0.0              2   \n",
       "5890                   0.0                  1270.0              2   \n",
       "\n",
       "      TimeToSubway  ...  c_management_in_trust  c_self_management  c_Bangoge  \\\n",
       "0                2  ...                      1                  0          0   \n",
       "1                3  ...                      0                  1          0   \n",
       "2                3  ...                      0                  1          0   \n",
       "3                4  ...                      1                  0          0   \n",
       "4                1  ...                      1                  0          0   \n",
       "...            ...  ...                    ...                ...        ...   \n",
       "5886             4  ...                      1                  0          0   \n",
       "5887             4  ...                      1                  0          0   \n",
       "5888             4  ...                      1                  0          0   \n",
       "5889             4  ...                      0                  1          0   \n",
       "5890             4  ...                      1                  0          0   \n",
       "\n",
       "      c_Banwoldang  c_Chil-sung-market  c_Daegu  c_Kyungbuk_uni_hospital  \\\n",
       "0                0                   0        0                        1   \n",
       "1                0                   0        1                        0   \n",
       "2                0                   0        1                        0   \n",
       "3                0                   0        0                        0   \n",
       "4                0                   0        0                        0   \n",
       "...            ...                 ...      ...                      ...   \n",
       "5886             0                   0        0                        1   \n",
       "5887             0                   0        0                        0   \n",
       "5888             0                   0        0                        1   \n",
       "5889             0                   0        0                        1   \n",
       "5890             0                   0        0                        1   \n",
       "\n",
       "      c_Myung-duk  c_Sin-nam  c_no_subway_nearby  \n",
       "0               0          0                   0  \n",
       "1               0          0                   0  \n",
       "2               0          0                   0  \n",
       "3               0          1                   0  \n",
       "4               1          0                   0  \n",
       "...           ...        ...                 ...  \n",
       "5886            0          0                   0  \n",
       "5887            1          0                   0  \n",
       "5888            0          0                   0  \n",
       "5889            0          0                   0  \n",
       "5890            0          0                   0  \n",
       "\n",
       "[5891 rows x 41 columns]"
      ]
     },
     "execution_count": 172,
     "metadata": {},
     "output_type": "execute_result"
    }
   ],
   "source": [
    "data = pd.read_csv('../data/regression/apartment_data_preprocessed.csv')\n",
    "data.drop(['Unnamed: 0'], axis=1, inplace=True)\n",
    "data"
   ]
  },
  {
   "cell_type": "markdown",
   "id": "e9de72e8",
   "metadata": {},
   "source": [
    "<b>Обратите внимание: </b> перед решением любой задачи машинного обучения данные должны быть предобработаны! Не должно быть пропущенных значений. Все признаки должны быть числовыми. Вы учились предобрабатывать данные в рамках дисциплины \"Практикум по программированию\"."
   ]
  },
  {
   "cell_type": "markdown",
   "id": "af9f025f",
   "metadata": {},
   "source": [
    "В данном случае, предобработка данных выполнена. Поэтому сосредоточимся на моделировании."
   ]
  },
  {
   "cell_type": "markdown",
   "id": "89ce423f",
   "metadata": {},
   "source": [
    "### Первый шаг: выделение целевого признака и предикторов"
   ]
  },
  {
   "cell_type": "markdown",
   "id": "a477184d",
   "metadata": {},
   "source": [
    "И так, у нас есть данные о стоимости 5891 домов. Помимо непосредственно стоимости у нас есть еще 40 признаков (предикторов), хараактеризующих дом (начиная от года постройки и заканчивая типом отопления). Мы хотим научиться предсказывать стоимость дома на основезначений всех предикторов (предикторов, от слова predict - признаков, по которым мы предсказываем целевой). То есть, в данном случае, мы хотим научиться предсказывать значение признака \"SalePrice\"."
   ]
  },
  {
   "cell_type": "markdown",
   "id": "d0becdf0",
   "metadata": {},
   "source": [
    "Решение задачи начинается с выделения целевого признака и предикторов. Делается это с помощью pandas."
   ]
  },
  {
   "cell_type": "code",
   "execution_count": 173,
   "id": "8ab0072a",
   "metadata": {},
   "outputs": [],
   "source": [
    "y = data[\"SalePrice\"]\n",
    "X = data.drop([\"SalePrice\"], axis=1)"
   ]
  },
  {
   "cell_type": "code",
   "execution_count": 174,
   "id": "fa3b7e94",
   "metadata": {},
   "outputs": [
    {
     "data": {
      "text/plain": [
       "0       141592\n",
       "1        51327\n",
       "2        48672\n",
       "3       380530\n",
       "4       221238\n",
       "         ...  \n",
       "5886    511504\n",
       "5887    298230\n",
       "5888    357522\n",
       "5889    312389\n",
       "5890    393805\n",
       "Name: SalePrice, Length: 5891, dtype: int64"
      ]
     },
     "execution_count": 174,
     "metadata": {},
     "output_type": "execute_result"
    }
   ],
   "source": [
    "y"
   ]
  },
  {
   "cell_type": "code",
   "execution_count": 175,
   "id": "594a4392",
   "metadata": {},
   "outputs": [
    {
     "data": {
      "text/html": [
       "<div>\n",
       "<style scoped>\n",
       "    .dataframe tbody tr th:only-of-type {\n",
       "        vertical-align: middle;\n",
       "    }\n",
       "\n",
       "    .dataframe tbody tr th {\n",
       "        vertical-align: top;\n",
       "    }\n",
       "\n",
       "    .dataframe thead th {\n",
       "        text-align: right;\n",
       "    }\n",
       "</style>\n",
       "<table border=\"1\" class=\"dataframe\">\n",
       "  <thead>\n",
       "    <tr style=\"text-align: right;\">\n",
       "      <th></th>\n",
       "      <th>YearBuilt</th>\n",
       "      <th>YrSold</th>\n",
       "      <th>MonthSold</th>\n",
       "      <th>Size(sqf)</th>\n",
       "      <th>Floor</th>\n",
       "      <th>N_Parkinglot(Ground)</th>\n",
       "      <th>N_Parkinglot(Basement)</th>\n",
       "      <th>TimeToBusStop</th>\n",
       "      <th>TimeToSubway</th>\n",
       "      <th>N_APT</th>\n",
       "      <th>...</th>\n",
       "      <th>c_management_in_trust</th>\n",
       "      <th>c_self_management</th>\n",
       "      <th>c_Bangoge</th>\n",
       "      <th>c_Banwoldang</th>\n",
       "      <th>c_Chil-sung-market</th>\n",
       "      <th>c_Daegu</th>\n",
       "      <th>c_Kyungbuk_uni_hospital</th>\n",
       "      <th>c_Myung-duk</th>\n",
       "      <th>c_Sin-nam</th>\n",
       "      <th>c_no_subway_nearby</th>\n",
       "    </tr>\n",
       "  </thead>\n",
       "  <tbody>\n",
       "    <tr>\n",
       "      <th>0</th>\n",
       "      <td>2006</td>\n",
       "      <td>2007</td>\n",
       "      <td>8</td>\n",
       "      <td>814</td>\n",
       "      <td>3</td>\n",
       "      <td>111.0</td>\n",
       "      <td>184.0</td>\n",
       "      <td>1</td>\n",
       "      <td>2</td>\n",
       "      <td>3.0</td>\n",
       "      <td>...</td>\n",
       "      <td>1</td>\n",
       "      <td>0</td>\n",
       "      <td>0</td>\n",
       "      <td>0</td>\n",
       "      <td>0</td>\n",
       "      <td>0</td>\n",
       "      <td>1</td>\n",
       "      <td>0</td>\n",
       "      <td>0</td>\n",
       "      <td>0</td>\n",
       "    </tr>\n",
       "    <tr>\n",
       "      <th>1</th>\n",
       "      <td>1985</td>\n",
       "      <td>2007</td>\n",
       "      <td>8</td>\n",
       "      <td>587</td>\n",
       "      <td>8</td>\n",
       "      <td>80.0</td>\n",
       "      <td>76.0</td>\n",
       "      <td>2</td>\n",
       "      <td>3</td>\n",
       "      <td>1.0</td>\n",
       "      <td>...</td>\n",
       "      <td>0</td>\n",
       "      <td>1</td>\n",
       "      <td>0</td>\n",
       "      <td>0</td>\n",
       "      <td>0</td>\n",
       "      <td>1</td>\n",
       "      <td>0</td>\n",
       "      <td>0</td>\n",
       "      <td>0</td>\n",
       "      <td>0</td>\n",
       "    </tr>\n",
       "    <tr>\n",
       "      <th>2</th>\n",
       "      <td>1985</td>\n",
       "      <td>2007</td>\n",
       "      <td>8</td>\n",
       "      <td>587</td>\n",
       "      <td>6</td>\n",
       "      <td>80.0</td>\n",
       "      <td>76.0</td>\n",
       "      <td>2</td>\n",
       "      <td>3</td>\n",
       "      <td>1.0</td>\n",
       "      <td>...</td>\n",
       "      <td>0</td>\n",
       "      <td>1</td>\n",
       "      <td>0</td>\n",
       "      <td>0</td>\n",
       "      <td>0</td>\n",
       "      <td>1</td>\n",
       "      <td>0</td>\n",
       "      <td>0</td>\n",
       "      <td>0</td>\n",
       "      <td>0</td>\n",
       "    </tr>\n",
       "    <tr>\n",
       "      <th>3</th>\n",
       "      <td>2006</td>\n",
       "      <td>2007</td>\n",
       "      <td>8</td>\n",
       "      <td>2056</td>\n",
       "      <td>8</td>\n",
       "      <td>249.0</td>\n",
       "      <td>536.0</td>\n",
       "      <td>2</td>\n",
       "      <td>4</td>\n",
       "      <td>6.0</td>\n",
       "      <td>...</td>\n",
       "      <td>1</td>\n",
       "      <td>0</td>\n",
       "      <td>0</td>\n",
       "      <td>0</td>\n",
       "      <td>0</td>\n",
       "      <td>0</td>\n",
       "      <td>0</td>\n",
       "      <td>0</td>\n",
       "      <td>1</td>\n",
       "      <td>0</td>\n",
       "    </tr>\n",
       "    <tr>\n",
       "      <th>4</th>\n",
       "      <td>1993</td>\n",
       "      <td>2007</td>\n",
       "      <td>8</td>\n",
       "      <td>1761</td>\n",
       "      <td>3</td>\n",
       "      <td>523.0</td>\n",
       "      <td>536.0</td>\n",
       "      <td>2</td>\n",
       "      <td>1</td>\n",
       "      <td>8.0</td>\n",
       "      <td>...</td>\n",
       "      <td>1</td>\n",
       "      <td>0</td>\n",
       "      <td>0</td>\n",
       "      <td>0</td>\n",
       "      <td>0</td>\n",
       "      <td>0</td>\n",
       "      <td>0</td>\n",
       "      <td>1</td>\n",
       "      <td>0</td>\n",
       "      <td>0</td>\n",
       "    </tr>\n",
       "    <tr>\n",
       "      <th>...</th>\n",
       "      <td>...</td>\n",
       "      <td>...</td>\n",
       "      <td>...</td>\n",
       "      <td>...</td>\n",
       "      <td>...</td>\n",
       "      <td>...</td>\n",
       "      <td>...</td>\n",
       "      <td>...</td>\n",
       "      <td>...</td>\n",
       "      <td>...</td>\n",
       "      <td>...</td>\n",
       "      <td>...</td>\n",
       "      <td>...</td>\n",
       "      <td>...</td>\n",
       "      <td>...</td>\n",
       "      <td>...</td>\n",
       "      <td>...</td>\n",
       "      <td>...</td>\n",
       "      <td>...</td>\n",
       "      <td>...</td>\n",
       "      <td>...</td>\n",
       "    </tr>\n",
       "    <tr>\n",
       "      <th>5886</th>\n",
       "      <td>2007</td>\n",
       "      <td>2017</td>\n",
       "      <td>8</td>\n",
       "      <td>1643</td>\n",
       "      <td>19</td>\n",
       "      <td>0.0</td>\n",
       "      <td>1270.0</td>\n",
       "      <td>2</td>\n",
       "      <td>4</td>\n",
       "      <td>7.0</td>\n",
       "      <td>...</td>\n",
       "      <td>1</td>\n",
       "      <td>0</td>\n",
       "      <td>0</td>\n",
       "      <td>0</td>\n",
       "      <td>0</td>\n",
       "      <td>0</td>\n",
       "      <td>1</td>\n",
       "      <td>0</td>\n",
       "      <td>0</td>\n",
       "      <td>0</td>\n",
       "    </tr>\n",
       "    <tr>\n",
       "      <th>5887</th>\n",
       "      <td>2006</td>\n",
       "      <td>2017</td>\n",
       "      <td>8</td>\n",
       "      <td>903</td>\n",
       "      <td>13</td>\n",
       "      <td>123.0</td>\n",
       "      <td>181.0</td>\n",
       "      <td>1</td>\n",
       "      <td>4</td>\n",
       "      <td>3.0</td>\n",
       "      <td>...</td>\n",
       "      <td>1</td>\n",
       "      <td>0</td>\n",
       "      <td>0</td>\n",
       "      <td>0</td>\n",
       "      <td>0</td>\n",
       "      <td>0</td>\n",
       "      <td>0</td>\n",
       "      <td>1</td>\n",
       "      <td>0</td>\n",
       "      <td>0</td>\n",
       "    </tr>\n",
       "    <tr>\n",
       "      <th>5888</th>\n",
       "      <td>2007</td>\n",
       "      <td>2017</td>\n",
       "      <td>8</td>\n",
       "      <td>868</td>\n",
       "      <td>20</td>\n",
       "      <td>0.0</td>\n",
       "      <td>1270.0</td>\n",
       "      <td>2</td>\n",
       "      <td>4</td>\n",
       "      <td>7.0</td>\n",
       "      <td>...</td>\n",
       "      <td>1</td>\n",
       "      <td>0</td>\n",
       "      <td>0</td>\n",
       "      <td>0</td>\n",
       "      <td>0</td>\n",
       "      <td>0</td>\n",
       "      <td>1</td>\n",
       "      <td>0</td>\n",
       "      <td>0</td>\n",
       "      <td>0</td>\n",
       "    </tr>\n",
       "    <tr>\n",
       "      <th>5889</th>\n",
       "      <td>1978</td>\n",
       "      <td>2017</td>\n",
       "      <td>8</td>\n",
       "      <td>1327</td>\n",
       "      <td>1</td>\n",
       "      <td>87.0</td>\n",
       "      <td>0.0</td>\n",
       "      <td>2</td>\n",
       "      <td>4</td>\n",
       "      <td>2.0</td>\n",
       "      <td>...</td>\n",
       "      <td>0</td>\n",
       "      <td>1</td>\n",
       "      <td>0</td>\n",
       "      <td>0</td>\n",
       "      <td>0</td>\n",
       "      <td>0</td>\n",
       "      <td>1</td>\n",
       "      <td>0</td>\n",
       "      <td>0</td>\n",
       "      <td>0</td>\n",
       "    </tr>\n",
       "    <tr>\n",
       "      <th>5890</th>\n",
       "      <td>2007</td>\n",
       "      <td>2017</td>\n",
       "      <td>8</td>\n",
       "      <td>868</td>\n",
       "      <td>13</td>\n",
       "      <td>0.0</td>\n",
       "      <td>1270.0</td>\n",
       "      <td>2</td>\n",
       "      <td>4</td>\n",
       "      <td>7.0</td>\n",
       "      <td>...</td>\n",
       "      <td>1</td>\n",
       "      <td>0</td>\n",
       "      <td>0</td>\n",
       "      <td>0</td>\n",
       "      <td>0</td>\n",
       "      <td>0</td>\n",
       "      <td>1</td>\n",
       "      <td>0</td>\n",
       "      <td>0</td>\n",
       "      <td>0</td>\n",
       "    </tr>\n",
       "  </tbody>\n",
       "</table>\n",
       "<p>5891 rows × 40 columns</p>\n",
       "</div>"
      ],
      "text/plain": [
       "      YearBuilt  YrSold  MonthSold  Size(sqf)  Floor  N_Parkinglot(Ground)  \\\n",
       "0          2006    2007          8        814      3                 111.0   \n",
       "1          1985    2007          8        587      8                  80.0   \n",
       "2          1985    2007          8        587      6                  80.0   \n",
       "3          2006    2007          8       2056      8                 249.0   \n",
       "4          1993    2007          8       1761      3                 523.0   \n",
       "...         ...     ...        ...        ...    ...                   ...   \n",
       "5886       2007    2017          8       1643     19                   0.0   \n",
       "5887       2006    2017          8        903     13                 123.0   \n",
       "5888       2007    2017          8        868     20                   0.0   \n",
       "5889       1978    2017          8       1327      1                  87.0   \n",
       "5890       2007    2017          8        868     13                   0.0   \n",
       "\n",
       "      N_Parkinglot(Basement)  TimeToBusStop  TimeToSubway  N_APT  ...  \\\n",
       "0                      184.0              1             2    3.0  ...   \n",
       "1                       76.0              2             3    1.0  ...   \n",
       "2                       76.0              2             3    1.0  ...   \n",
       "3                      536.0              2             4    6.0  ...   \n",
       "4                      536.0              2             1    8.0  ...   \n",
       "...                      ...            ...           ...    ...  ...   \n",
       "5886                  1270.0              2             4    7.0  ...   \n",
       "5887                   181.0              1             4    3.0  ...   \n",
       "5888                  1270.0              2             4    7.0  ...   \n",
       "5889                     0.0              2             4    2.0  ...   \n",
       "5890                  1270.0              2             4    7.0  ...   \n",
       "\n",
       "      c_management_in_trust  c_self_management  c_Bangoge  c_Banwoldang  \\\n",
       "0                         1                  0          0             0   \n",
       "1                         0                  1          0             0   \n",
       "2                         0                  1          0             0   \n",
       "3                         1                  0          0             0   \n",
       "4                         1                  0          0             0   \n",
       "...                     ...                ...        ...           ...   \n",
       "5886                      1                  0          0             0   \n",
       "5887                      1                  0          0             0   \n",
       "5888                      1                  0          0             0   \n",
       "5889                      0                  1          0             0   \n",
       "5890                      1                  0          0             0   \n",
       "\n",
       "      c_Chil-sung-market  c_Daegu  c_Kyungbuk_uni_hospital  c_Myung-duk  \\\n",
       "0                      0        0                        1            0   \n",
       "1                      0        1                        0            0   \n",
       "2                      0        1                        0            0   \n",
       "3                      0        0                        0            0   \n",
       "4                      0        0                        0            1   \n",
       "...                  ...      ...                      ...          ...   \n",
       "5886                   0        0                        1            0   \n",
       "5887                   0        0                        0            1   \n",
       "5888                   0        0                        1            0   \n",
       "5889                   0        0                        1            0   \n",
       "5890                   0        0                        1            0   \n",
       "\n",
       "      c_Sin-nam  c_no_subway_nearby  \n",
       "0             0                   0  \n",
       "1             0                   0  \n",
       "2             0                   0  \n",
       "3             1                   0  \n",
       "4             0                   0  \n",
       "...         ...                 ...  \n",
       "5886          0                   0  \n",
       "5887          0                   0  \n",
       "5888          0                   0  \n",
       "5889          0                   0  \n",
       "5890          0                   0  \n",
       "\n",
       "[5891 rows x 40 columns]"
      ]
     },
     "execution_count": 175,
     "metadata": {},
     "output_type": "execute_result"
    }
   ],
   "source": [
    "X"
   ]
  },
  {
   "cell_type": "markdown",
   "id": "4d6298d5",
   "metadata": {},
   "source": [
    "### Второй шаг: разделение данных на обучающую и тестовую выборки"
   ]
  },
  {
   "cell_type": "markdown",
   "id": "c9ad1e3d",
   "metadata": {},
   "source": [
    "При решении задач классического обучения наборы данных X и y как правило делятся еще 2 части - на X_train, X_test и y_train, y_test соответственно. Для чего? Все просто."
   ]
  },
  {
   "cell_type": "markdown",
   "id": "a4b70411",
   "metadata": {},
   "source": [
    "<b>Обучать</b> модели мы будем на наборах X_train и y_train. А <b>оценивать их качество</b> на наборах X_test и y_test. То есть в процессе обучения модель не будет знать информацию о домах из наборов X_test и y_test. Значит, мы сможем получать реалистичные предсказания и смотреть, как часто модель ошибается."
   ]
  },
  {
   "cell_type": "markdown",
   "id": "414c2607",
   "metadata": {},
   "source": [
    "Здесь мы впервые воспользуемся новой библиотекой - sklearn. Эту библиотеку мы будем использовать повсеместно, поскольку в ней реализовано большое количество различных алгоритмов машинного обучения. Но, помимо этого, в ней реализовано множество полезных утилитарных функций и метрик. В частности, есть функция, которая позволяет разбить данные на обучающую и тестовую выборки."
   ]
  },
  {
   "cell_type": "code",
   "execution_count": 176,
   "id": "aa2d9c1b",
   "metadata": {},
   "outputs": [],
   "source": [
    "from sklearn.model_selection import train_test_split\n",
    "X_train, X_test, y_train, y_test = train_test_split(X, y, test_size=0.2)\n",
    "# указав параметр test_size = 0.2 получим, что 20% данных уйдут в тестовую выборку\n",
    "# также в функцию можно передать параметр shuffle: по умолчанию функция рандомно\n",
    "# перемешивает данные; поэтому и модели будут получаться разные;\n",
    "# задайте параметр shuffle = False, если не хотите перемешивать"
   ]
  },
  {
   "cell_type": "code",
   "execution_count": 177,
   "id": "58488cc9",
   "metadata": {},
   "outputs": [
    {
     "data": {
      "text/plain": [
       "((4712, 40), (4712,), (1179, 40), (1179,))"
      ]
     },
     "execution_count": 177,
     "metadata": {},
     "output_type": "execute_result"
    }
   ],
   "source": [
    "X_train.shape, y_train.shape, X_test.shape, y_test.shape"
   ]
  },
  {
   "cell_type": "markdown",
   "id": "d6c7f5ad",
   "metadata": {},
   "source": [
    "Итак, данные предобработаны, целевой признак выделен, имеются обучающая и тестовая выборка. Мы готовы приступить к обучению."
   ]
  },
  {
   "cell_type": "markdown",
   "id": "30863cfe",
   "metadata": {},
   "source": [
    "### Линейная регрессия (Linear Regression). Постановка задачи"
   ]
  },
  {
   "cell_type": "markdown",
   "id": "923e75e8",
   "metadata": {},
   "source": [
    "Добавим немного несложной математики для понимания картины."
   ]
  },
  {
   "cell_type": "markdown",
   "id": "e6f4dea7",
   "metadata": {},
   "source": [
    "Важно понимать, что <b>все методы машинного обучения основаны на подборе некоторых весов, или коэффициентов</b>, которые позволяют из строки из X получить число из y. Но фишка в том, что как получить y на основе X модель не знает и никогда, в общем случае, не узнает. Но при этом, она может научиться предсказывать некоторые числа $\\hat{y}$ которые будут очень близки к истинным значениям $y$."
   ]
  },
  {
   "cell_type": "markdown",
   "id": "d58df811",
   "metadata": {},
   "source": [
    "Пусть матрица $X$ - Это матрицы предикторов. Строки - объекты (в данном случае дома). Их $m$ штук. Столбцы - это предикторы. Их $n$ штук. Символом $i$ мы будем обозначать $i$-й объект. Символом $j$ - $j$-й предиктор. $X_{ij}$ - значение $j$ предиктора у $i$ объекта. $\\hat{y_i}$ - предсказываемое моделью значение целевого признака для $i$-го объекта. $y_i$ - истинное значение целевого признака для $i$-го объекта."
   ]
  },
  {
   "cell_type": "markdown",
   "id": "efd22389",
   "metadata": {},
   "source": [
    "Линейная регрессия - это вычисление $\\hat{y}$ по формуле: $\\hat{y}_i=\\sum_{j=1}^{n}{{w_{j}}{X_{ij}}}$. Все очень просто. Берем строку матрицы и умножаем каждый элемент на некоторый вес (вес данного предиктора - как бы его вклад в значение целевого признака). И в конце добавляем еще одну константу. В чем прикол? Прикол в том, что параметры $w$ <b>подбираются в процессе обучения модели</b>. Параметры $w$ называются весами."
   ]
  },
  {
   "cell_type": "markdown",
   "id": "f859600f",
   "metadata": {},
   "source": [
    "То есть изначально они задаются случайным образом, поэтому модель выдает всякий бред, далекий от истинных значений целевого признака. Но в процессе обучения <b>подбираются (модель самостоятельно это делает) такие значения параметров $w$, которые позволят получать очень близкие к истинным значения.</b> Но как подбираются эти веса (коэффициенты)?"
   ]
  },
  {
   "cell_type": "markdown",
   "id": "b6727464",
   "metadata": {},
   "source": [
    "В основе любого обучения лежит оптимизация (минимизация) некоторой функции, называемой <b>функцией ошибок</b> (loss function) или функцией потерь (cost function). Эта функция, очевидно, должна относительно значений $\\hat{y}$ и $y$ определять величину ошибки. То есть давать понимание, насколько модель ошибается в своих предсказаниях. То есть $L=f(\\hat{y}, y)$, так? А теперь прикол - у нас $\\hat{y}_i=\\sum_{j=1}^{n}{{\\omega_{j}}{X_{ij}}}$, а это значит, что все обучение - это минимизация функции L относительно с переменными $w$!"
   ]
  },
  {
   "cell_type": "markdown",
   "id": "06f40753",
   "metadata": {},
   "source": [
    "И те, кто в свое время не пропускал занятий по Оптимизации уже догадался - самым очевидным вариантом является использование метода скорейшего спуска."
   ]
  },
  {
   "cell_type": "markdown",
   "id": "57b4a6d8",
   "metadata": {},
   "source": [
    "Запишем функцию потерь для линейной регрессии: $L=\\frac{1}{m}[y-(\\sum_{j=1}^{n}{{w_{j}}{X_{ij}}})]^2$. То есть нам нужно <b>минимизировать среднее значение суммы квадратов отклонений предсказанных значений от истинных</b>. Сделать это методои скорейшего спуска - дело техники. Чтобы вычислить градиент нужно посчитать частные производные по переменным $w$. А дальше останется сделать шаг вдоль антиградиента."
   ]
  },
  {
   "cell_type": "markdown",
   "id": "82deffa8",
   "metadata": {},
   "source": [
    "### Регуляризация в линейной регрессии (L1 / Ridge и L2 / Lasso)"
   ]
  },
  {
   "cell_type": "markdown",
   "id": "bd4b07c9",
   "metadata": {},
   "source": [
    "Регуляризация - это наложение дополнительных ограничений на значения переменных (весов). Но, в отличие от знакомых вам задач оптимизации, в задачах классического обучения используется безусловная оптимизация. Поэтому никаких ограничений в собственном смысле не накладывается. Вместо этого, неявное ограничение добавляется непосредственно в целевую функцию. Цель регуляризации - предотвращение так называемого переобучения."
   ]
  },
  {
   "cell_type": "markdown",
   "id": "e5383b39",
   "metadata": {},
   "source": [
    "Переобучение является одной из фундаментальных проблем в машинном обучении. Она заключается в том, что <b>долгое и точное обучение модели на одних данных может привести к получению крайне плохих предсказаний на отличающихся данных.</b> Потому что модель как бы затачивается под одни данные. И умеет предсказывать только их. Одной из техник преодоления переобучения при использовании линейной регрессии является использование регуляризации. Существует два вида регуляризации: L1 (Ridge) и L2 (Lasso)."
   ]
  },
  {
   "cell_type": "markdown",
   "id": "46e05f42",
   "metadata": {},
   "source": [
    "Отличаются они только используемой функцией потерь."
   ]
  },
  {
   "cell_type": "markdown",
   "id": "7b3d0201",
   "metadata": {},
   "source": [
    "В случае L1: $L=\\frac{1}{m}[y-(\\sum_{j=1}^{n}{{w_{j}}{X_{ij}}})]^2+\\frac{1}{m}\\alpha{\\sum_{j=1}^n{|w_j|}}$."
   ]
  },
  {
   "cell_type": "markdown",
   "id": "bdca0c4a",
   "metadata": {},
   "source": [
    "В случае L2: $L=\\frac{1}{m}[y-(\\sum_{j=1}^{n}{{w_{j}}{X_{ij}}})]^2+\\frac{1}{m}\\alpha{\\sum_{j=1}^n{w_j^2}}$."
   ]
  },
  {
   "cell_type": "markdown",
   "id": "30676b66",
   "metadata": {},
   "source": [
    "Поскольку функция потерь минимизируется, то очевидно, что посредством регуляризации мы стремимся не допускать, чтобы значениями переменных были большие числа (более того, некоторые веса станут равны 0, что в будущем позволит говорить о низкой значимости соответствующего предиктора). Параметр $\\alpha$ определяет интенсивность регуляризации. Он принимает значения от 0 до 1 включительно. При $\\alpha$=0 получается линейная регрессия без регуляризации."
   ]
  },
  {
   "cell_type": "markdown",
   "id": "82f22e4d",
   "metadata": {},
   "source": [
    "### Использование полиномов в линейной регрессии"
   ]
  },
  {
   "cell_type": "markdown",
   "id": "d3de0234",
   "metadata": {},
   "source": [
    "Если в модели линейной регрессии значения всех предикторов входят со степенью 1, то в случае полиномиальной регрессии модель подбирает коэффициенты в большом полиноме, в котором значения предикторов входят с более высокими степенями. Проще всего это будет объяснить на практическом примере одномерной регрессии, который будет ниже."
   ]
  },
  {
   "cell_type": "markdown",
   "id": "1f1312b7",
   "metadata": {},
   "source": [
    "Полиномиальная регрессия является частным случае линейной регрессии."
   ]
  },
  {
   "cell_type": "markdown",
   "id": "51baca49",
   "metadata": {},
   "source": [
    "### Метрики качества"
   ]
  },
  {
   "cell_type": "markdown",
   "id": "d7df4e11",
   "metadata": {},
   "source": [
    "Мы поняли, как обучать модели. Теперь осталось понять, как их оценивать. Для оценки качетсва моделей регрессии применяются следующие метрики:\n",
    "- средняя абсолютная ошибка (Mean Absolute Error, MAE);\n",
    "- средняя квадратичная ошибка (Mean Squared Error, MSE);\n",
    "- квадратный корень из средней квадратичной ошибки (Root Mean Squared Error);\n",
    "- средняя абсолютная ошибка в процентах (Mean Absolute Percentage Error, MAPE);\n",
    "- коэффициент детерминации ($R^2$)."
   ]
  },
  {
   "cell_type": "markdown",
   "id": "7226c11f",
   "metadata": {},
   "source": [
    "Метрики также являются функциями от $\\hat{y}$ и $y$. Но в отличие от функции потерь, здесь не происходит никакой оптимизации. Мы просто вычисляем значения метрик, которые характеризуют качество моделей. Ясное дело, что все метрики, в которых есть слово \"ошибка\", мы хотим уменьшить. А коэффициент детерминации - наоборот увеличить (он кстати принимает значения от 0 до 1 включительно)."
   ]
  },
  {
   "cell_type": "markdown",
   "id": "10ea05ab",
   "metadata": {},
   "source": [
    "$ MAE=\\frac{1}{m}{\\sum_{i=1}^{m}|y_i-\\hat{y}_i|} $"
   ]
  },
  {
   "cell_type": "markdown",
   "id": "4f4f5712",
   "metadata": {},
   "source": [
    "$ MSE=\\frac{1}{m}{\\sum_{i=1}^{m}(y_i-\\hat{y}_i)^2} $"
   ]
  },
  {
   "cell_type": "markdown",
   "id": "5c13625c",
   "metadata": {},
   "source": [
    "$ RMSE=\\sqrt{\\frac{1}{m}{\\sum_{i=1}^{m}(y_i-\\hat{y}_i)^2}} $"
   ]
  },
  {
   "cell_type": "markdown",
   "id": "19235500",
   "metadata": {},
   "source": [
    "$ MAPE=\\frac{1}{m}\\sum_{i=1}^{m}{|\\frac{y_i-\\hat{y}_i}{y_i}|} $"
   ]
  },
  {
   "cell_type": "markdown",
   "id": "b2cddafc",
   "metadata": {},
   "source": [
    "Обратите внимание на формулу MAPE. Если истинные значения целевого признака близки к нулю, то значение этой метрики может сильно увеличиться. В этом случае для оценки модели следует применять другие метрики."
   ]
  },
  {
   "cell_type": "markdown",
   "id": "e618230c",
   "metadata": {},
   "source": [
    "$ R^2=1-\\frac{MSE}{\\frac{1}{m}{\\sum_{i=1}^{m}(y_i-\\bar{y})^2}} $. $\\bar{y}$ - среднее значение целевого признака."
   ]
  },
  {
   "cell_type": "markdown",
   "id": "b10e9b9a",
   "metadata": {},
   "source": [
    "### Линейная регрессия в sklearn (+ регуляризации и использование полиномов)"
   ]
  },
  {
   "cell_type": "markdown",
   "id": "0dc5581f",
   "metadata": {},
   "source": [
    "Давайте посмотрим, как можно строить изученные регрессионные модели в sklearn. Это очень просто!"
   ]
  },
  {
   "cell_type": "code",
   "execution_count": 178,
   "id": "9829093f",
   "metadata": {},
   "outputs": [],
   "source": [
    "# ну, названия импортируемых моделей, вам теперь знакомы\n",
    "from sklearn.linear_model import LinearRegression, Lasso, Ridge"
   ]
  },
  {
   "cell_type": "code",
   "execution_count": 179,
   "id": "ab2de162",
   "metadata": {},
   "outputs": [],
   "source": [
    "# это обучение модели (на обучающей выборке)\n",
    "lr = LinearRegression().fit(X_train, y_train)"
   ]
  },
  {
   "cell_type": "code",
   "execution_count": 180,
   "id": "17aded42",
   "metadata": {},
   "outputs": [
    {
     "data": {
      "text/plain": [
       "array([380490.03147315,  99255.36710535, 202639.22612366, ...,\n",
       "       388802.07479824, 294706.14883195, 229263.30804729])"
      ]
     },
     "execution_count": 180,
     "metadata": {},
     "output_type": "execute_result"
    }
   ],
   "source": [
    "# а это получение предсказания (предскажем для всех тестовой выборки)\n",
    "lr.predict(X_test)"
   ]
  },
  {
   "cell_type": "markdown",
   "id": "7dd88692",
   "metadata": {},
   "source": [
    "Вы не поверите, но это все! Модель обучена и теперь мы можем получать предсказания. На этом все!"
   ]
  },
  {
   "cell_type": "markdown",
   "id": "913ab004",
   "metadata": {},
   "source": [
    " "
   ]
  },
  {
   "cell_type": "markdown",
   "id": "283a6e6c",
   "metadata": {},
   "source": [
    " "
   ]
  },
  {
   "cell_type": "markdown",
   "id": "9d534dfd",
   "metadata": {},
   "source": [
    " "
   ]
  },
  {
   "cell_type": "markdown",
   "id": "8bc9d42a",
   "metadata": {},
   "source": [
    " "
   ]
  },
  {
   "cell_type": "markdown",
   "id": "d51785e2",
   "metadata": {},
   "source": [
    " "
   ]
  },
  {
   "cell_type": "markdown",
   "id": "b18c63f8",
   "metadata": {},
   "source": [
    " "
   ]
  },
  {
   "cell_type": "markdown",
   "id": "788f9f56",
   "metadata": {},
   "source": [
    " "
   ]
  },
  {
   "cell_type": "markdown",
   "id": "aabad2b5",
   "metadata": {},
   "source": [
    " "
   ]
  },
  {
   "cell_type": "markdown",
   "id": "5a3f3bd2",
   "metadata": {},
   "source": [
    " "
   ]
  },
  {
   "cell_type": "markdown",
   "id": "85febfeb",
   "metadata": {},
   "source": [
    " "
   ]
  },
  {
   "cell_type": "markdown",
   "id": "4b12dbcd",
   "metadata": {},
   "source": [
    " "
   ]
  },
  {
   "cell_type": "markdown",
   "id": "1197181b",
   "metadata": {},
   "source": [
    " "
   ]
  },
  {
   "cell_type": "markdown",
   "id": "6bcee0bf",
   "metadata": {},
   "source": [
    " "
   ]
  },
  {
   "cell_type": "markdown",
   "id": "e62ff153",
   "metadata": {},
   "source": [
    " "
   ]
  },
  {
   "cell_type": "markdown",
   "id": "023169c5",
   "metadata": {},
   "source": [
    " "
   ]
  },
  {
   "cell_type": "markdown",
   "id": "a4911b1f",
   "metadata": {},
   "source": [
    " "
   ]
  },
  {
   "cell_type": "markdown",
   "id": "d2bad230",
   "metadata": {},
   "source": [
    " "
   ]
  },
  {
   "cell_type": "markdown",
   "id": "4a2adc17",
   "metadata": {},
   "source": [
    " "
   ]
  },
  {
   "cell_type": "markdown",
   "id": "d8f8bb99",
   "metadata": {},
   "source": [
    " "
   ]
  },
  {
   "cell_type": "markdown",
   "id": "5d294cc7",
   "metadata": {},
   "source": [
    " "
   ]
  },
  {
   "cell_type": "markdown",
   "id": "c9c4daf8",
   "metadata": {},
   "source": [
    " "
   ]
  },
  {
   "cell_type": "markdown",
   "id": "a9e153d0",
   "metadata": {},
   "source": [
    " "
   ]
  },
  {
   "cell_type": "markdown",
   "id": "14d19255",
   "metadata": {},
   "source": [
    " "
   ]
  },
  {
   "cell_type": "markdown",
   "id": "c0298867",
   "metadata": {},
   "source": [
    " "
   ]
  },
  {
   "cell_type": "markdown",
   "id": "b20b95f5",
   "metadata": {},
   "source": [
    " "
   ]
  },
  {
   "cell_type": "markdown",
   "id": "995c0ed3",
   "metadata": {},
   "source": [
    " "
   ]
  },
  {
   "cell_type": "markdown",
   "id": "741b78b5",
   "metadata": {},
   "source": [
    " "
   ]
  },
  {
   "cell_type": "markdown",
   "id": "62343e54",
   "metadata": {},
   "source": [
    " "
   ]
  },
  {
   "cell_type": "markdown",
   "id": "26b06a12",
   "metadata": {},
   "source": [
    " "
   ]
  },
  {
   "cell_type": "markdown",
   "id": "376bee0d",
   "metadata": {},
   "source": [
    " "
   ]
  },
  {
   "cell_type": "markdown",
   "id": "415211b7",
   "metadata": {},
   "source": [
    " "
   ]
  },
  {
   "cell_type": "markdown",
   "id": "052ff2f8",
   "metadata": {},
   "source": [
    " "
   ]
  },
  {
   "cell_type": "markdown",
   "id": "e60a8ba6",
   "metadata": {},
   "source": [
    " "
   ]
  },
  {
   "cell_type": "markdown",
   "id": "c38b6b29",
   "metadata": {},
   "source": [
    " "
   ]
  },
  {
   "cell_type": "markdown",
   "id": "c797b729",
   "metadata": {},
   "source": [
    " "
   ]
  },
  {
   "cell_type": "markdown",
   "id": "3f0a816b",
   "metadata": {},
   "source": [
    " "
   ]
  },
  {
   "cell_type": "markdown",
   "id": "d4226feb",
   "metadata": {},
   "source": [
    " "
   ]
  },
  {
   "cell_type": "markdown",
   "id": "99c12c9a",
   "metadata": {},
   "source": [
    " "
   ]
  },
  {
   "cell_type": "markdown",
   "id": "7c108fd7",
   "metadata": {},
   "source": [
    " "
   ]
  },
  {
   "cell_type": "markdown",
   "id": "6301d2f9",
   "metadata": {},
   "source": [
    " "
   ]
  },
  {
   "cell_type": "markdown",
   "id": "142365e2",
   "metadata": {},
   "source": [
    " "
   ]
  },
  {
   "cell_type": "markdown",
   "id": "8c2972bc",
   "metadata": {},
   "source": [
    " "
   ]
  },
  {
   "cell_type": "markdown",
   "id": "861ce9f4",
   "metadata": {},
   "source": [
    " "
   ]
  },
  {
   "cell_type": "markdown",
   "id": "2bceb264",
   "metadata": {},
   "source": [
    " "
   ]
  },
  {
   "cell_type": "markdown",
   "id": "acddaae8",
   "metadata": {},
   "source": [
    " "
   ]
  },
  {
   "cell_type": "markdown",
   "id": "ebfd18f0",
   "metadata": {},
   "source": [
    " "
   ]
  },
  {
   "cell_type": "markdown",
   "id": "2de9c67f",
   "metadata": {},
   "source": [
    " "
   ]
  },
  {
   "cell_type": "markdown",
   "id": "83f3f13a",
   "metadata": {},
   "source": [
    " "
   ]
  },
  {
   "cell_type": "markdown",
   "id": "bb62a440",
   "metadata": {},
   "source": [
    " "
   ]
  },
  {
   "cell_type": "markdown",
   "id": "6e8c1dca",
   "metadata": {},
   "source": [
    " "
   ]
  },
  {
   "cell_type": "markdown",
   "id": "f13393bf",
   "metadata": {},
   "source": [
    " "
   ]
  },
  {
   "cell_type": "markdown",
   "id": "7cecf869",
   "metadata": {},
   "source": [
    " "
   ]
  },
  {
   "cell_type": "markdown",
   "id": "4f6fda41",
   "metadata": {},
   "source": [
    " "
   ]
  },
  {
   "cell_type": "markdown",
   "id": "7865ebc6",
   "metadata": {},
   "source": [
    " "
   ]
  },
  {
   "cell_type": "markdown",
   "id": "76236be8",
   "metadata": {},
   "source": [
    " "
   ]
  },
  {
   "cell_type": "markdown",
   "id": "600812d8",
   "metadata": {},
   "source": [
    " "
   ]
  },
  {
   "cell_type": "markdown",
   "id": "777c7073",
   "metadata": {},
   "source": [
    " "
   ]
  },
  {
   "cell_type": "markdown",
   "id": "009b02a7",
   "metadata": {},
   "source": [
    " "
   ]
  },
  {
   "cell_type": "markdown",
   "id": "838562af",
   "metadata": {},
   "source": [
    " "
   ]
  },
  {
   "cell_type": "markdown",
   "id": "ec811570",
   "metadata": {},
   "source": [
    " "
   ]
  },
  {
   "cell_type": "markdown",
   "id": "eab817ce",
   "metadata": {},
   "source": [
    " "
   ]
  },
  {
   "cell_type": "markdown",
   "id": "40df39b2",
   "metadata": {},
   "source": [
    " "
   ]
  },
  {
   "cell_type": "markdown",
   "id": "e8e4a8b9",
   "metadata": {},
   "source": [
    " "
   ]
  },
  {
   "cell_type": "markdown",
   "id": "212340b3",
   "metadata": {},
   "source": [
    " "
   ]
  },
  {
   "cell_type": "markdown",
   "id": "48337cd7",
   "metadata": {},
   "source": [
    " "
   ]
  },
  {
   "cell_type": "markdown",
   "id": "bb53ed7f",
   "metadata": {},
   "source": [
    " Да не, пошутил :) Модель линейной регрессии действительно обучилась и мы можем получить предсказания. Но как нам оценить качество? Вы уже знаете, какие есть метрики. Давайте их использовать."
   ]
  },
  {
   "cell_type": "code",
   "execution_count": 181,
   "id": "6ba09102",
   "metadata": {},
   "outputs": [],
   "source": [
    "from sklearn.metrics import mean_squared_error, mean_absolute_error, mean_absolute_percentage_error\n",
    "from math import sqrt"
   ]
  },
  {
   "cell_type": "code",
   "execution_count": 182,
   "id": "4b52b14e",
   "metadata": {},
   "outputs": [],
   "source": [
    "# получаем предсказания для тестовой выборки\n",
    "y_pred = lr.predict(X_test)"
   ]
  },
  {
   "cell_type": "code",
   "execution_count": 183,
   "id": "8e76ed62",
   "metadata": {
    "scrolled": true
   },
   "outputs": [
    {
     "name": "stdout",
     "output_type": "stream",
     "text": [
      "MAE: 27242.3760252442\n",
      "MSE: 1358186314.4304366\n",
      "RMSE: 36853.57939780662\n",
      "MAPE: 0.38545705611501946\n",
      "R^2: 0.881050048031342\n"
     ]
    }
   ],
   "source": [
    "print(f'MAE: {mean_absolute_error(y_test, y_pred)}')\n",
    "print(f'MSE: {mean_squared_error(y_test, y_pred)}')\n",
    "print(f'RMSE: {sqrt(mean_squared_error(y_test, y_pred))}')\n",
    "print(f'MAPE: {sqrt(mean_absolute_percentage_error(y_test, y_pred))}')\n",
    "print(f'R^2: {lr.score(X_test, y_test)}')"
   ]
  },
  {
   "cell_type": "code",
   "execution_count": 184,
   "id": "ced7c1d9",
   "metadata": {},
   "outputs": [
    {
     "data": {
      "text/plain": [
       "array([ 5.33677401e+03,  1.28532621e+04,  2.06332047e+03,  1.40514367e+02,\n",
       "        1.22524302e+03, -6.50592272e+02, -5.94340632e+02,  7.40904982e+04,\n",
       "        4.69769211e+04,  1.93686220e+04,  3.23160238e+04,  5.72488832e+03,\n",
       "       -8.58211681e+04,  9.13617356e+04,  3.19355851e+04,  1.89157261e+04,\n",
       "        1.24194392e+04, -2.34952383e+04,  2.24262716e+04, -1.44579764e+05,\n",
       "        6.59199522e+04,  3.96951304e+04,  1.36951977e+04,  4.53160797e+04,\n",
       "       -1.65384098e+04, -1.33372651e+05,  3.38201469e+04,  9.95525042e+04,\n",
       "       -1.95803902e+04,  1.95803902e+04, -9.19176884e+04,  9.19176884e+04,\n",
       "        6.62246231e+04, -1.30433736e+03, -9.11999441e+04, -1.12754395e+05,\n",
       "        2.21317207e+04, -1.03493232e+04,  1.23530358e+05,  3.72129728e+03])"
      ]
     },
     "execution_count": 184,
     "metadata": {},
     "output_type": "execute_result"
    }
   ],
   "source": [
    "# можем посмотреть какие получились коэффициенты в модели (значения весов)\n",
    "len(lr.coef_)\n",
    "lr.coef_"
   ]
  },
  {
   "cell_type": "markdown",
   "id": "311bd444",
   "metadata": {},
   "source": [
    "Видим, что модель справилась неплохо. Теперь попробуем применить регуляризации."
   ]
  },
  {
   "cell_type": "code",
   "execution_count": 185,
   "id": "38a3278d",
   "metadata": {},
   "outputs": [
    {
     "name": "stdout",
     "output_type": "stream",
     "text": [
      "MAE: 27330.952368361242\n",
      "MSE: 1364874469.2248588\n",
      "RMSE: 36944.20751924256\n",
      "MAPE: 0.387215718675354\n",
      "R^2: 0.8804642994612799\n"
     ]
    },
    {
     "data": {
      "text/plain": [
       "array([   3118.07619834,   12840.92925303,    2050.45570893,\n",
       "           141.31595708,    1229.07622616,    -503.84600176,\n",
       "          -419.52406365,   52496.52638635,   34066.2180375 ,\n",
       "         13418.30146397,   24385.17360801,    4059.14079665,\n",
       "        -61684.15775206,   69605.28364355,   26934.76329744,\n",
       "         13265.20694579,    8603.91802377,  -25172.56227479,\n",
       "         12848.28882339, -108521.04761261,   53669.54291316,\n",
       "         29141.25408482,   12770.17533433,   31552.4518881 ,\n",
       "        -12861.96179085, -101815.41307383,   18110.94118093,\n",
       "         83704.47189396,  -10875.13440669,   10875.13440669,\n",
       "        -57629.46719428,   57629.46719428,   46472.57578639,\n",
       "          7149.3502115 ,  -65466.21033924,  -79377.46636842,\n",
       "          8391.32810047,   -6675.01221451,   86239.02713829,\n",
       "          3266.40768609])"
      ]
     },
     "execution_count": 185,
     "metadata": {},
     "output_type": "execute_result"
    }
   ],
   "source": [
    "# L1\n",
    "ridge = Ridge(alpha=0.5).fit(X_train, y_train)\n",
    "y_pred = ridge.predict(X_test)\n",
    "print(f'MAE: {mean_absolute_error(y_test, y_pred)}')\n",
    "print(f'MSE: {mean_squared_error(y_test, y_pred)}')\n",
    "print(f'RMSE: {sqrt(mean_squared_error(y_test, y_pred))}')\n",
    "print(f'MAPE: {sqrt(mean_absolute_percentage_error(y_test, y_pred))}')\n",
    "print(f'R^2: {ridge.score(X_test, y_test)}')\n",
    "ridge.coef_"
   ]
  },
  {
   "cell_type": "code",
   "execution_count": 186,
   "id": "da35dbe0",
   "metadata": {
    "scrolled": true
   },
   "outputs": [
    {
     "name": "stdout",
     "output_type": "stream",
     "text": [
      "MAE: 27442.598153816998\n",
      "MSE: 1387112135.4711318\n",
      "RMSE: 37243.954347935876\n",
      "MAPE: 0.3893629127936\n",
      "R^2: 0.8785167247406508\n"
     ]
    },
    {
     "name": "stderr",
     "output_type": "stream",
     "text": [
      "d:\\programs\\python\\ml-labs\\venv\\lib\\site-packages\\sklearn\\linear_model\\_coordinate_descent.py:648: ConvergenceWarning: Objective did not converge. You might want to increase the number of iterations, check the scale of the features or consider increasing regularisation. Duality gap: 3.038e+12, tolerance: 5.320e+09\n",
      "  coef_, l1_reg, l2_reg, X, y, max_iter, tol, rng, random, positive\n"
     ]
    },
    {
     "data": {
      "text/plain": [
       "array([ 1.19967523e+03,  1.28409889e+04,  2.04086999e+03,  1.41782170e+02,\n",
       "        1.23004827e+03, -1.69902602e+02, -1.28964339e+02,  4.93394397e+04,\n",
       "        4.84354445e+03,  2.31831695e+03,  8.80002714e+03,  1.63819219e+03,\n",
       "       -7.21357652e+03,  8.76204021e+04,  9.55369193e+04, -6.28967008e+04,\n",
       "        9.42999964e+03, -3.50428298e+04, -2.50221663e+04, -6.88850357e+04,\n",
       "        2.89646922e+04,  1.94142857e+04,  1.03985092e+04, -1.53324005e+03,\n",
       "       -4.61072691e+03, -1.07868191e+05, -1.17196613e+05,  1.74486701e+04,\n",
       "       -1.20074916e+05,  9.48837839e-09, -1.53773985e+04,  3.13612417e-10,\n",
       "        1.11945693e+05, -8.60182357e+04, -6.18578988e+04, -1.01705103e+05,\n",
       "       -2.43787112e+04,  4.76341852e+04,  3.55127975e+04, -7.98717644e+04])"
      ]
     },
     "execution_count": 186,
     "metadata": {},
     "output_type": "execute_result"
    }
   ],
   "source": [
    "# L2\n",
    "lasso = Lasso(alpha=0.5).fit(X_train, y_train)\n",
    "y_pred = lasso.predict(X_test)\n",
    "print(f'MAE: {mean_absolute_error(y_test, y_pred)}')\n",
    "print(f'MSE: {mean_squared_error(y_test, y_pred)}')\n",
    "print(f'RMSE: {sqrt(mean_squared_error(y_test, y_pred))}')\n",
    "print(f'MAPE: {sqrt(mean_absolute_percentage_error(y_test, y_pred))}')\n",
    "print(f'R^2: {lasso.score(X_test, y_test)}')\n",
    "lasso.coef_"
   ]
  },
  {
   "cell_type": "markdown",
   "id": "eac3d88b",
   "metadata": {},
   "source": [
    "Обратите внимание, что <b>значения коэффициентов при некоторых предикторах практически 0</b>. Это свидетельствует о незначимости данного предиктора. В будущем мы еще вспомним об этом, когда будем говорить про отбор признаков."
   ]
  },
  {
   "cell_type": "markdown",
   "id": "8613b5ed",
   "metadata": {},
   "source": [
    "Видите, все очень просто (если работать с библиотекой). Но обратите внимание: в моделях с регуляризацией нам нужно указывать значение гиперпараметра $\\alpha$. В других моделях будут свои параметры, и их может быть больше чем один. Как бы это странно не звучало, но большую часть времени специалисты по анализу данных занимаются подбором гиперпараметров для своих моделей."
   ]
  },
  {
   "cell_type": "markdown",
   "id": "9dd5293b",
   "metadata": {},
   "source": [
    "![](https://cs10.pikabu.ru/post_img/big/2018/07/10/4/1531199339121474094.jpg)"
   ]
  },
  {
   "cell_type": "markdown",
   "id": "0dc241c6",
   "metadata": {},
   "source": [
    "Поэтому нам важно научиться подбирать параметры. Делать это можно с помощью sklearn, а конкретно двух объектов - GridSearchCV и RandomizedSearchCV. Попробуем их и посмотрим, в чем отличие."
   ]
  },
  {
   "cell_type": "code",
   "execution_count": 187,
   "id": "7314cf5a",
   "metadata": {},
   "outputs": [],
   "source": [
    "from sklearn.model_selection import GridSearchCV, RandomizedSearchCV\n",
    "import numpy as np"
   ]
  },
  {
   "cell_type": "code",
   "execution_count": 188,
   "id": "3e9fd8de",
   "metadata": {},
   "outputs": [],
   "source": [
    "# для поиска гиперпараметров мы всегда сначала формируем словарь\n",
    "# ключами словаря являются названия гиперпараметров\n",
    "# значениями - список (или массив numpy) с возможными значениями\n",
    "# параметры описываются в документации к моделям, так что можно и нужно гуглить\n",
    "parameters = {'alpha': np.arange(0, 1, 0.1)}"
   ]
  },
  {
   "cell_type": "code",
   "execution_count": 189,
   "id": "a7d8acb0",
   "metadata": {
    "scrolled": true
   },
   "outputs": [
    {
     "data": {
      "text/plain": [
       "{'alpha': 0.1}"
      ]
     },
     "execution_count": 189,
     "metadata": {},
     "output_type": "execute_result"
    }
   ],
   "source": [
    "# а теперь пробуем подобрать значение этого гиперпараметра с помощью GridSearchCV\n",
    "# оборачиваем нашу модель в объект GridSearchCV, туда же передаем словарь с параметрами и стартуем обучение\n",
    "ridge_optimal = GridSearchCV(Ridge(), parameters).fit(X_train, y_train)\n",
    "# выводим оптимальные значения параметров\n",
    "ridge_optimal.best_params_"
   ]
  },
  {
   "cell_type": "markdown",
   "id": "34a83077",
   "metadata": {},
   "source": [
    "GridSearchCV перебирает все возможные варианты. RandomizedSearchCV (понятно из названия) будет перебирать только случайные варианты. Это актуально, когда подбирается несколько гиперпараметров. Тогда будут браться не все возможные комбинации, а только случайные. В этом случае, конечно, мы можем не получить оптимальное значение гиперпараметра, но мы гарантированно что-нибудь улучшим и потратим меньше времени, чем потратили бы на полный перебор."
   ]
  },
  {
   "cell_type": "code",
   "execution_count": 190,
   "id": "982321b1",
   "metadata": {},
   "outputs": [
    {
     "data": {
      "text/plain": [
       "{'alpha': 0.1}"
      ]
     },
     "execution_count": 190,
     "metadata": {},
     "output_type": "execute_result"
    }
   ],
   "source": [
    "ridge_optimal = RandomizedSearchCV(Ridge(), parameters).fit(X_train, y_train)\n",
    "# выводим оптимальные значения параметров\n",
    "ridge_optimal.best_params_"
   ]
  },
  {
   "cell_type": "markdown",
   "id": "ee34ba3f",
   "metadata": {},
   "source": [
    "Нам осталось разобраться с полиномиальной регрессией. Ее проще всего понять на одномерной регрессии (когда у нас один предиктор). Давайте создадим искусственный датасет, в котором у нас будет зарплата специалиста и его стаж. Мы хотим построить модель, которая будет предсказывать зарплату по стажу."
   ]
  },
  {
   "cell_type": "code",
   "execution_count": 191,
   "id": "a381c40d",
   "metadata": {
    "scrolled": true
   },
   "outputs": [
    {
     "data": {
      "text/html": [
       "<div>\n",
       "<style scoped>\n",
       "    .dataframe tbody tr th:only-of-type {\n",
       "        vertical-align: middle;\n",
       "    }\n",
       "\n",
       "    .dataframe tbody tr th {\n",
       "        vertical-align: top;\n",
       "    }\n",
       "\n",
       "    .dataframe thead th {\n",
       "        text-align: right;\n",
       "    }\n",
       "</style>\n",
       "<table border=\"1\" class=\"dataframe\">\n",
       "  <thead>\n",
       "    <tr style=\"text-align: right;\">\n",
       "      <th></th>\n",
       "      <th>Exp</th>\n",
       "      <th>Salary</th>\n",
       "    </tr>\n",
       "  </thead>\n",
       "  <tbody>\n",
       "    <tr>\n",
       "      <th>0</th>\n",
       "      <td>2.0</td>\n",
       "      <td>7.0</td>\n",
       "    </tr>\n",
       "    <tr>\n",
       "      <th>1</th>\n",
       "      <td>2.2</td>\n",
       "      <td>8.0</td>\n",
       "    </tr>\n",
       "    <tr>\n",
       "      <th>2</th>\n",
       "      <td>2.8</td>\n",
       "      <td>11.0</td>\n",
       "    </tr>\n",
       "    <tr>\n",
       "      <th>3</th>\n",
       "      <td>4.0</td>\n",
       "      <td>15.0</td>\n",
       "    </tr>\n",
       "    <tr>\n",
       "      <th>4</th>\n",
       "      <td>7.0</td>\n",
       "      <td>22.0</td>\n",
       "    </tr>\n",
       "    <tr>\n",
       "      <th>5</th>\n",
       "      <td>8.0</td>\n",
       "      <td>29.0</td>\n",
       "    </tr>\n",
       "    <tr>\n",
       "      <th>6</th>\n",
       "      <td>11.0</td>\n",
       "      <td>37.0</td>\n",
       "    </tr>\n",
       "    <tr>\n",
       "      <th>7</th>\n",
       "      <td>12.0</td>\n",
       "      <td>45.7</td>\n",
       "    </tr>\n",
       "    <tr>\n",
       "      <th>8</th>\n",
       "      <td>21.0</td>\n",
       "      <td>49.0</td>\n",
       "    </tr>\n",
       "    <tr>\n",
       "      <th>9</th>\n",
       "      <td>25.0</td>\n",
       "      <td>52.0</td>\n",
       "    </tr>\n",
       "  </tbody>\n",
       "</table>\n",
       "</div>"
      ],
      "text/plain": [
       "    Exp  Salary\n",
       "0   2.0     7.0\n",
       "1   2.2     8.0\n",
       "2   2.8    11.0\n",
       "3   4.0    15.0\n",
       "4   7.0    22.0\n",
       "5   8.0    29.0\n",
       "6  11.0    37.0\n",
       "7  12.0    45.7\n",
       "8  21.0    49.0\n",
       "9  25.0    52.0"
      ]
     },
     "execution_count": 191,
     "metadata": {},
     "output_type": "execute_result"
    }
   ],
   "source": [
    "data2=pd.DataFrame({\n",
    "    'Exp':[2,2.2, 2.8, 4, 7, 8, 11, 12, 21, 25],\n",
    "    'Salary': [7, 8, 11, 15, 22, 29, 37 ,45.7, 49, 52]\n",
    "})\n",
    "data2"
   ]
  },
  {
   "cell_type": "markdown",
   "id": "943db968",
   "metadata": {},
   "source": [
    "Выделим целевой признак и предиктор"
   ]
  },
  {
   "cell_type": "code",
   "execution_count": 192,
   "id": "4ac9619c",
   "metadata": {},
   "outputs": [],
   "source": [
    "y = data2['Salary'].values.reshape(-1,1)\n",
    "# reshape здесь чисто технический, т. к. ожидается двумерный массив, а у нас 1 предиктор\n",
    "X = data2['Exp'].values.reshape(-1,1)"
   ]
  },
  {
   "cell_type": "code",
   "execution_count": 193,
   "id": "6dff151d",
   "metadata": {},
   "outputs": [
    {
     "data": {
      "text/plain": [
       "array([[2.04404542]])"
      ]
     },
     "execution_count": 193,
     "metadata": {},
     "output_type": "execute_result"
    }
   ],
   "source": [
    "lr = LinearRegression().fit(X, y)\n",
    "lr.coef_"
   ]
  },
  {
   "cell_type": "markdown",
   "id": "32a277a6",
   "metadata": {},
   "source": [
    "Если мы будем строить модель линейной регрессии, то в процессе обучения будет изменяться только одна переменная - это вес единственного предиктора. <b>Суть полиномиальной регрессии - мы добавляем новые предикторы и используем ту же модель линейной регрессии.</b> Давайте сделаем регрессию со степенью полинома 2."
   ]
  },
  {
   "cell_type": "code",
   "execution_count": 194,
   "id": "834fcf1a",
   "metadata": {},
   "outputs": [
    {
     "data": {
      "text/plain": [
       "array([[  1.  ,   2.  ,   4.  ],\n",
       "       [  1.  ,   2.2 ,   4.84],\n",
       "       [  1.  ,   2.8 ,   7.84],\n",
       "       [  1.  ,   4.  ,  16.  ],\n",
       "       [  1.  ,   7.  ,  49.  ],\n",
       "       [  1.  ,   8.  ,  64.  ],\n",
       "       [  1.  ,  11.  , 121.  ],\n",
       "       [  1.  ,  12.  , 144.  ],\n",
       "       [  1.  ,  21.  , 441.  ],\n",
       "       [  1.  ,  25.  , 625.  ]])"
      ]
     },
     "execution_count": 194,
     "metadata": {},
     "output_type": "execute_result"
    }
   ],
   "source": [
    "from sklearn.preprocessing import PolynomialFeatures\n",
    "# создаем объект, который позволит расширить множество предикторов\n",
    "p = PolynomialFeatures(2)  \n",
    "# добавляем новые предикторы\n",
    "X_p=pd.fit_transform(X) \n",
    "X_p"
   ]
  },
  {
   "cell_type": "markdown",
   "id": "2ab0753e",
   "metadata": {},
   "source": [
    "Посмотрите. Вместо одного предиктора у нас теперь их 3. При этом один из них имеет единственное значение (1), двугой - это исходный предиктор, а третий - это его квадрат. То есть теперь, если мы будем решать задачу линейной регрессии для такого множества предикторов, то мы будем приближать значения y уже не линейно, а квадратично! По сути мы будем подбирать коэффициенты $a$, $b$ и $c$ уравнения $\\hat{y_i}=aX_{i}^2+bX_{i}+c$."
   ]
  },
  {
   "cell_type": "code",
   "execution_count": 195,
   "id": "766de64b",
   "metadata": {},
   "outputs": [
    {
     "data": {
      "text/plain": [
       "array([[ 0.        ,  4.89528546, -0.11005039]])"
      ]
     },
     "execution_count": 195,
     "metadata": {},
     "output_type": "execute_result"
    }
   ],
   "source": [
    "lr2 = LinearRegression().fit(X_p, y)\n",
    "lr2.coef_"
   ]
  },
  {
   "cell_type": "markdown",
   "id": "bda87628",
   "metadata": {},
   "source": [
    "Давайте немного порисуем, чтобы увидеть :)"
   ]
  },
  {
   "cell_type": "code",
   "execution_count": 196,
   "id": "a238008d",
   "metadata": {},
   "outputs": [
    {
     "data": {
      "text/plain": [
       "array([[  9.68052054],\n",
       "       [ 10.65957763],\n",
       "       [ 13.59674891],\n",
       "       [ 19.47109146],\n",
       "       [ 34.15694785],\n",
       "       [ 39.05223332],\n",
       "       [ 53.73808971],\n",
       "       [ 58.63337517],\n",
       "       [102.69094434],\n",
       "       [122.2720862 ]])"
      ]
     },
     "execution_count": 196,
     "metadata": {},
     "output_type": "execute_result"
    }
   ],
   "source": [
    "X_d = X\n",
    "y_d = lr2.coef_[0][2] + lr2.coef_[0][1]*X_d + lr2.coef_[0][0]*X_d**2\n",
    "y_d"
   ]
  },
  {
   "cell_type": "code",
   "execution_count": 197,
   "id": "8456d99d",
   "metadata": {},
   "outputs": [],
   "source": [
    "import matplotlib.pyplot as plt"
   ]
  },
  {
   "cell_type": "code",
   "execution_count": 198,
   "id": "5edb161d",
   "metadata": {},
   "outputs": [
    {
     "data": {
      "image/png": "[encoded data removed]",
      "text/plain": [
       "<Figure size 640x480 with 1 Axes>"
      ]
     },
     "metadata": {},
     "output_type": "display_data"
    }
   ],
   "source": [
    "plt.scatter(X, y, label='Истинные значения');\n",
    "plt.plot(X, lr.predict(X), label='Предсказанные значения (линейная регрессия)');\n",
    "plt.scatter(X, lr2.predict(X_p), label='Предсказанные значения (полиномиальная регрессия)');\n",
    "plt.legend();"
   ]
  },
  {
   "cell_type": "markdown",
   "id": "68a138a3",
   "metadata": {},
   "source": [
    "Если у нас было бы несколько предикторов, то преобразование PolynomialFeatures позволило бы получить все возможные комбинации степеней. Кстати, никто не запрещает нам использовать полиномы более высоких степеней чем 2."
   ]
  },
  {
   "cell_type": "markdown",
   "id": "2b2daeea",
   "metadata": {},
   "source": [
    "Теперь мы с вами знаем, как работает линейная и полиномиальная регрессия, умеем использовать регуляризации. <b>Поздравляю вас с началом вашего пути в ML!</b>"
   ]
  }
 ],
 "metadata": {
  "kernelspec": {
   "display_name": "venv",
   "language": "python",
   "name": "python3"
  },
  "language_info": {
   "codemirror_mode": {
    "name": "ipython",
    "version": 3
   },
   "file_extension": ".py",
   "mimetype": "text/x-python",
   "name": "python",
   "nbconvert_exporter": "python",
   "pygments_lexer": "ipython3",
   "version": "3.10.10"
  },
  "vscode": {
   "interpreter": {
    "hash": "2b91b03b648906c4da38485ff1ede1596c5dd28ef290a44be8b5498f0c5932a3"
   }
  }
 },
 "nbformat": 4,
 "nbformat_minor": 5
}
